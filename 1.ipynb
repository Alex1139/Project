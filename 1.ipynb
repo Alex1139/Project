{
  "nbformat": 4,
  "nbformat_minor": 0,
  "metadata": {
    "colab": {
      "name": "Первая сеть.ipynb",
      "provenance": []
    },
    "kernelspec": {
      "name": "python3",
      "display_name": "Python 3"
    },
    "language_info": {
      "name": "python"
    },
    "accelerator": "TPU"
  },
  "cells": [
    {
      "cell_type": "code",
      "metadata": {
        "id": "KOLE209MOt_G",
        "colab": {
          "base_uri": "https://localhost:8080/"
        },
        "outputId": "181de8b7-897e-4bd0-8c31-88a7a0db2735"
      },
      "source": [
        "import tensorflow as tf\n",
        "import numpy as np\n",
        "import os\n",
        "\n",
        "(x_train, y_train), (x_test, y_test) = tf.keras.datasets.fashion_mnist.load_data()\n",
        "\n",
        "x_train = np.expand_dims(x_train, -1)\n",
        "x_test = np.expand_dims(x_test, -1)"
      ],
      "execution_count": null,
      "outputs": [
        {
          "output_type": "stream",
          "text": [
            "Downloading data from https://storage.googleapis.com/tensorflow/tf-keras-datasets/train-labels-idx1-ubyte.gz\n",
            "32768/29515 [=================================] - 0s 0us/step\n",
            "Downloading data from https://storage.googleapis.com/tensorflow/tf-keras-datasets/train-images-idx3-ubyte.gz\n",
            "26427392/26421880 [==============================] - 0s 0us/step\n",
            "Downloading data from https://storage.googleapis.com/tensorflow/tf-keras-datasets/t10k-labels-idx1-ubyte.gz\n",
            "8192/5148 [===============================================] - 0s 0us/step\n",
            "Downloading data from https://storage.googleapis.com/tensorflow/tf-keras-datasets/t10k-images-idx3-ubyte.gz\n",
            "4423680/4422102 [==============================] - 0s 0us/step\n"
          ],
          "name": "stdout"
        }
      ]
    },
    {
      "cell_type": "code",
      "metadata": {
        "id": "1-eDd43iOtLe"
      },
      "source": [
        "def create_model():\n",
        "  model = tf.keras.models.Sequential()\n",
        "  model.add(tf.keras.layers.BatchNormalization(input_shape=x_train.shape[1:]))\n",
        "  model.add(tf.keras.layers.Conv2D(64, (5, 5), padding='same', activation='relu'))\n",
        "  model.add(tf.keras.layers.MaxPooling2D(pool_size=(2, 2), strides=(2,2)))\n",
        "  model.add(tf.keras.layers.Dropout(0.25))\n",
        "\n",
        "  model.add(tf.keras.layers.BatchNormalization(input_shape=x_train.shape[1:]))\n",
        "  model.add(tf.keras.layers.Conv2D(128, (5, 5), padding='same', activation='relu'))\n",
        "  model.add(tf.keras.layers.MaxPooling2D(pool_size=(2, 2)))\n",
        "  model.add(tf.keras.layers.Dropout(0.25))\n",
        "\n",
        "  model.add(tf.keras.layers.BatchNormalization(input_shape=x_train.shape[1:]))\n",
        "  model.add(tf.keras.layers.Conv2D(256, (5, 5), padding='same', activation='relu'))\n",
        "  model.add(tf.keras.layers.MaxPooling2D(pool_size=(2, 2), strides=(2,2)))\n",
        "  model.add(tf.keras.layers.Dropout(0.25))\n",
        "\n",
        "  model.add(tf.keras.layers.BatchNormalization(input_shape=x_train.shape[1:]))\n",
        "  model.add(tf.keras.layers.Conv2D(512, (5, 5), padding='same', activation='relu'))\n",
        "  model.add(tf.keras.layers.MaxPooling2D(pool_size=(2, 2), strides=(2,2)))\n",
        "  model.add(tf.keras.layers.Dropout(0.25))\n",
        "\n",
        "  model.add(tf.keras.layers.Flatten())\n",
        "  model.add(tf.keras.layers.Dense(256))\n",
        "  model.add(tf.keras.layers.Activation('relu'))\n",
        "  model.add(tf.keras.layers.Dropout(0.5))\n",
        "  model.add(tf.keras.layers.Dense(10))\n",
        "  model.add(tf.keras.layers.Activation('softmax'))\n",
        "  return model"
      ],
      "execution_count": null,
      "outputs": []
    },
    {
      "cell_type": "code",
      "metadata": {
        "colab": {
          "base_uri": "https://localhost:8080/"
        },
        "id": "ZfA7RHeBlA1z",
        "outputId": "9815049c-a644-4970-9d29-0862d24c47f5"
      },
      "source": [
        "tf.keras.backend.clear_session()\n",
        "\n",
        "resolver = tf.distribute.cluster_resolver.TPUClusterResolver('grpc://' + os.environ['COLAB_TPU_ADDR'])\n",
        "tf.config.experimental_connect_to_cluster(resolver)\n",
        "tf.tpu.experimental.initialize_tpu_system(resolver)\n",
        "print(\"All devices: \", tf.config.list_logical_devices('TPU'))\n",
        "\n",
        "strategy = tf.distribute.experimental.TPUStrategy(resolver)\n"
      ],
      "execution_count": null,
      "outputs": [
        {
          "output_type": "stream",
          "text": [
            "INFO:tensorflow:Initializing the TPU system: grpc://10.35.135.162:8470\n"
          ],
          "name": "stdout"
        },
        {
          "output_type": "stream",
          "text": [
            "INFO:tensorflow:Initializing the TPU system: grpc://10.35.135.162:8470\n"
          ],
          "name": "stderr"
        },
        {
          "output_type": "stream",
          "text": [
            "INFO:tensorflow:Clearing out eager caches\n"
          ],
          "name": "stdout"
        },
        {
          "output_type": "stream",
          "text": [
            "INFO:tensorflow:Clearing out eager caches\n"
          ],
          "name": "stderr"
        },
        {
          "output_type": "stream",
          "text": [
            "INFO:tensorflow:Finished initializing TPU system.\n"
          ],
          "name": "stdout"
        },
        {
          "output_type": "stream",
          "text": [
            "INFO:tensorflow:Finished initializing TPU system.\n",
            "WARNING:absl:`tf.distribute.experimental.TPUStrategy` is deprecated, please use  the non experimental symbol `tf.distribute.TPUStrategy` instead.\n"
          ],
          "name": "stderr"
        },
        {
          "output_type": "stream",
          "text": [
            "All devices:  [LogicalDevice(name='/job:worker/replica:0/task:0/device:TPU:7', device_type='TPU'), LogicalDevice(name='/job:worker/replica:0/task:0/device:TPU:6', device_type='TPU'), LogicalDevice(name='/job:worker/replica:0/task:0/device:TPU:5', device_type='TPU'), LogicalDevice(name='/job:worker/replica:0/task:0/device:TPU:4', device_type='TPU'), LogicalDevice(name='/job:worker/replica:0/task:0/device:TPU:3', device_type='TPU'), LogicalDevice(name='/job:worker/replica:0/task:0/device:TPU:0', device_type='TPU'), LogicalDevice(name='/job:worker/replica:0/task:0/device:TPU:1', device_type='TPU'), LogicalDevice(name='/job:worker/replica:0/task:0/device:TPU:2', device_type='TPU')]\n",
            "INFO:tensorflow:Found TPU system:\n"
          ],
          "name": "stdout"
        },
        {
          "output_type": "stream",
          "text": [
            "INFO:tensorflow:Found TPU system:\n"
          ],
          "name": "stderr"
        },
        {
          "output_type": "stream",
          "text": [
            "INFO:tensorflow:*** Num TPU Cores: 8\n"
          ],
          "name": "stdout"
        },
        {
          "output_type": "stream",
          "text": [
            "INFO:tensorflow:*** Num TPU Cores: 8\n"
          ],
          "name": "stderr"
        },
        {
          "output_type": "stream",
          "text": [
            "INFO:tensorflow:*** Num TPU Workers: 1\n"
          ],
          "name": "stdout"
        },
        {
          "output_type": "stream",
          "text": [
            "INFO:tensorflow:*** Num TPU Workers: 1\n"
          ],
          "name": "stderr"
        },
        {
          "output_type": "stream",
          "text": [
            "INFO:tensorflow:*** Num TPU Cores Per Worker: 8\n"
          ],
          "name": "stdout"
        },
        {
          "output_type": "stream",
          "text": [
            "INFO:tensorflow:*** Num TPU Cores Per Worker: 8\n"
          ],
          "name": "stderr"
        },
        {
          "output_type": "stream",
          "text": [
            "INFO:tensorflow:*** Available Device: _DeviceAttributes(/job:localhost/replica:0/task:0/device:CPU:0, CPU, 0, 0)\n"
          ],
          "name": "stdout"
        },
        {
          "output_type": "stream",
          "text": [
            "INFO:tensorflow:*** Available Device: _DeviceAttributes(/job:localhost/replica:0/task:0/device:CPU:0, CPU, 0, 0)\n"
          ],
          "name": "stderr"
        },
        {
          "output_type": "stream",
          "text": [
            "INFO:tensorflow:*** Available Device: _DeviceAttributes(/job:worker/replica:0/task:0/device:CPU:0, CPU, 0, 0)\n"
          ],
          "name": "stdout"
        },
        {
          "output_type": "stream",
          "text": [
            "INFO:tensorflow:*** Available Device: _DeviceAttributes(/job:worker/replica:0/task:0/device:CPU:0, CPU, 0, 0)\n"
          ],
          "name": "stderr"
        },
        {
          "output_type": "stream",
          "text": [
            "INFO:tensorflow:*** Available Device: _DeviceAttributes(/job:worker/replica:0/task:0/device:TPU:0, TPU, 0, 0)\n"
          ],
          "name": "stdout"
        },
        {
          "output_type": "stream",
          "text": [
            "INFO:tensorflow:*** Available Device: _DeviceAttributes(/job:worker/replica:0/task:0/device:TPU:0, TPU, 0, 0)\n"
          ],
          "name": "stderr"
        },
        {
          "output_type": "stream",
          "text": [
            "INFO:tensorflow:*** Available Device: _DeviceAttributes(/job:worker/replica:0/task:0/device:TPU:1, TPU, 0, 0)\n"
          ],
          "name": "stdout"
        },
        {
          "output_type": "stream",
          "text": [
            "INFO:tensorflow:*** Available Device: _DeviceAttributes(/job:worker/replica:0/task:0/device:TPU:1, TPU, 0, 0)\n"
          ],
          "name": "stderr"
        },
        {
          "output_type": "stream",
          "text": [
            "INFO:tensorflow:*** Available Device: _DeviceAttributes(/job:worker/replica:0/task:0/device:TPU:2, TPU, 0, 0)\n"
          ],
          "name": "stdout"
        },
        {
          "output_type": "stream",
          "text": [
            "INFO:tensorflow:*** Available Device: _DeviceAttributes(/job:worker/replica:0/task:0/device:TPU:2, TPU, 0, 0)\n"
          ],
          "name": "stderr"
        },
        {
          "output_type": "stream",
          "text": [
            "INFO:tensorflow:*** Available Device: _DeviceAttributes(/job:worker/replica:0/task:0/device:TPU:3, TPU, 0, 0)\n"
          ],
          "name": "stdout"
        },
        {
          "output_type": "stream",
          "text": [
            "INFO:tensorflow:*** Available Device: _DeviceAttributes(/job:worker/replica:0/task:0/device:TPU:3, TPU, 0, 0)\n"
          ],
          "name": "stderr"
        },
        {
          "output_type": "stream",
          "text": [
            "INFO:tensorflow:*** Available Device: _DeviceAttributes(/job:worker/replica:0/task:0/device:TPU:4, TPU, 0, 0)\n"
          ],
          "name": "stdout"
        },
        {
          "output_type": "stream",
          "text": [
            "INFO:tensorflow:*** Available Device: _DeviceAttributes(/job:worker/replica:0/task:0/device:TPU:4, TPU, 0, 0)\n"
          ],
          "name": "stderr"
        },
        {
          "output_type": "stream",
          "text": [
            "INFO:tensorflow:*** Available Device: _DeviceAttributes(/job:worker/replica:0/task:0/device:TPU:5, TPU, 0, 0)\n"
          ],
          "name": "stdout"
        },
        {
          "output_type": "stream",
          "text": [
            "INFO:tensorflow:*** Available Device: _DeviceAttributes(/job:worker/replica:0/task:0/device:TPU:5, TPU, 0, 0)\n"
          ],
          "name": "stderr"
        },
        {
          "output_type": "stream",
          "text": [
            "INFO:tensorflow:*** Available Device: _DeviceAttributes(/job:worker/replica:0/task:0/device:TPU:6, TPU, 0, 0)\n"
          ],
          "name": "stdout"
        },
        {
          "output_type": "stream",
          "text": [
            "INFO:tensorflow:*** Available Device: _DeviceAttributes(/job:worker/replica:0/task:0/device:TPU:6, TPU, 0, 0)\n"
          ],
          "name": "stderr"
        },
        {
          "output_type": "stream",
          "text": [
            "INFO:tensorflow:*** Available Device: _DeviceAttributes(/job:worker/replica:0/task:0/device:TPU:7, TPU, 0, 0)\n"
          ],
          "name": "stdout"
        },
        {
          "output_type": "stream",
          "text": [
            "INFO:tensorflow:*** Available Device: _DeviceAttributes(/job:worker/replica:0/task:0/device:TPU:7, TPU, 0, 0)\n"
          ],
          "name": "stderr"
        },
        {
          "output_type": "stream",
          "text": [
            "INFO:tensorflow:*** Available Device: _DeviceAttributes(/job:worker/replica:0/task:0/device:TPU_SYSTEM:0, TPU_SYSTEM, 0, 0)\n"
          ],
          "name": "stdout"
        },
        {
          "output_type": "stream",
          "text": [
            "INFO:tensorflow:*** Available Device: _DeviceAttributes(/job:worker/replica:0/task:0/device:TPU_SYSTEM:0, TPU_SYSTEM, 0, 0)\n"
          ],
          "name": "stderr"
        },
        {
          "output_type": "stream",
          "text": [
            "INFO:tensorflow:*** Available Device: _DeviceAttributes(/job:worker/replica:0/task:0/device:XLA_CPU:0, XLA_CPU, 0, 0)\n"
          ],
          "name": "stdout"
        },
        {
          "output_type": "stream",
          "text": [
            "INFO:tensorflow:*** Available Device: _DeviceAttributes(/job:worker/replica:0/task:0/device:XLA_CPU:0, XLA_CPU, 0, 0)\n"
          ],
          "name": "stderr"
        }
      ]
    },
    {
      "cell_type": "code",
      "metadata": {
        "id": "Fmso6NA9yDme"
      },
      "source": [
        "with strategy.scope():\n",
        "  model = create_model()\n",
        "  model.compile(\n",
        "      optimizer=tf.keras.optimizers.Adam(learning_rate=1e-3, ),\n",
        "      loss='sparse_categorical_crossentropy',\n",
        "      metrics=['sparse_categorical_accuracy'])"
      ],
      "execution_count": null,
      "outputs": []
    },
    {
      "cell_type": "code",
      "metadata": {
        "colab": {
          "base_uri": "https://localhost:8080/"
        },
        "id": "j_J7ivVUO2QK",
        "outputId": "1c32bf6c-8337-43d3-bcdc-0b12b90008f1"
      },
      "source": [
        "model.fit(\n",
        "    x_train.astype(np.float32), y_train.astype(np.float32),\n",
        "    epochs=5,\n",
        "    steps_per_epoch=100,\n",
        "    validation_freq=17\n",
        ")"
      ],
      "execution_count": null,
      "outputs": [
        {
          "output_type": "stream",
          "text": [
            "Epoch 1/5\n",
            "100/100 [==============================] - 9s 22ms/step - loss: 0.9405 - sparse_categorical_accuracy: 0.6653\n",
            "Epoch 2/5\n",
            "100/100 [==============================] - 2s 22ms/step - loss: 0.3936 - sparse_categorical_accuracy: 0.8569\n",
            "Epoch 3/5\n",
            "100/100 [==============================] - 2s 22ms/step - loss: 0.3309 - sparse_categorical_accuracy: 0.8774\n",
            "Epoch 4/5\n",
            "100/100 [==============================] - 2s 21ms/step - loss: 0.2865 - sparse_categorical_accuracy: 0.8933\n",
            "Epoch 5/5\n",
            "100/100 [==============================] - 2s 21ms/step - loss: 0.2611 - sparse_categorical_accuracy: 0.9049\n"
          ],
          "name": "stdout"
        },
        {
          "output_type": "execute_result",
          "data": {
            "text/plain": [
              "<tensorflow.python.keras.callbacks.History at 0x7fd5e0259290>"
            ]
          },
          "metadata": {
            "tags": []
          },
          "execution_count": 5
        }
      ]
    },
    {
      "cell_type": "code",
      "metadata": {
        "colab": {
          "base_uri": "https://localhost:8080/"
        },
        "id": "2m8wgpZzl229",
        "outputId": "570733a3-580b-40a4-ad36-f69cbed6d8d4"
      },
      "source": [
        "test_loss, test_acc = model.evaluate(x_test.astype(np.float32), y_test.astype(np.float32), verbose=1) \n",
        "\n",
        "print('Test accuracy:', test_acc)"
      ],
      "execution_count": null,
      "outputs": [
        {
          "output_type": "stream",
          "text": [
            "313/313 [==============================] - 8s 20ms/step - loss: 0.3014 - sparse_categorical_accuracy: 0.8898\n",
            "Test accuracy: 0.889799952507019\n"
          ],
          "name": "stdout"
        }
      ]
    },
    {
      "cell_type": "code",
      "metadata": {
        "colab": {
          "base_uri": "https://localhost:8080/"
        },
        "id": "7NfMxTRVyAeN",
        "outputId": "40690da1-5ac8-4a13-9d7b-4ef7d7c28c3a"
      },
      "source": [
        "model.fit(\n",
        "    x_train.astype(np.float32), y_train.astype(np.float32),\n",
        "    epochs=10,\n",
        "    steps_per_epoch=100,\n",
        "    validation_freq=17\n",
        ")"
      ],
      "execution_count": null,
      "outputs": [
        {
          "output_type": "stream",
          "text": [
            "Epoch 1/10\n",
            "100/100 [==============================] - 2s 22ms/step - loss: 0.2370 - sparse_categorical_accuracy: 0.9128\n",
            "Epoch 2/10\n",
            "100/100 [==============================] - 2s 22ms/step - loss: 0.2231 - sparse_categorical_accuracy: 0.9177\n",
            "Epoch 3/10\n",
            "100/100 [==============================] - 2s 22ms/step - loss: 0.2076 - sparse_categorical_accuracy: 0.9245\n",
            "Epoch 4/10\n",
            "100/100 [==============================] - 2s 22ms/step - loss: 0.1975 - sparse_categorical_accuracy: 0.9272\n",
            "Epoch 5/10\n",
            "100/100 [==============================] - 2s 21ms/step - loss: 0.1836 - sparse_categorical_accuracy: 0.9315\n",
            "Epoch 6/10\n",
            "100/100 [==============================] - 2s 22ms/step - loss: 0.1774 - sparse_categorical_accuracy: 0.9329\n",
            "Epoch 7/10\n",
            "100/100 [==============================] - 2s 22ms/step - loss: 0.1672 - sparse_categorical_accuracy: 0.9374\n",
            "Epoch 8/10\n",
            "100/100 [==============================] - 2s 22ms/step - loss: 0.1597 - sparse_categorical_accuracy: 0.9399\n",
            "Epoch 9/10\n",
            "100/100 [==============================] - 2s 22ms/step - loss: 0.1506 - sparse_categorical_accuracy: 0.9439\n",
            "Epoch 10/10\n",
            "100/100 [==============================] - 2s 21ms/step - loss: 0.1482 - sparse_categorical_accuracy: 0.9455\n"
          ],
          "name": "stdout"
        },
        {
          "output_type": "execute_result",
          "data": {
            "text/plain": [
              "<tensorflow.python.keras.callbacks.History at 0x7fd5de69a550>"
            ]
          },
          "metadata": {
            "tags": []
          },
          "execution_count": 7
        }
      ]
    },
    {
      "cell_type": "code",
      "metadata": {
        "colab": {
          "base_uri": "https://localhost:8080/"
        },
        "id": "J7yFHu-Jyu-o",
        "outputId": "a112d8cf-4589-40f8-9a12-76d5f4507de0"
      },
      "source": [
        "test_loss, test_acc = model.evaluate(x_test.astype(np.float32), y_test.astype(np.float32), verbose=1) \n",
        "\n",
        "print('Test accuracy:', test_acc)"
      ],
      "execution_count": null,
      "outputs": [
        {
          "output_type": "stream",
          "text": [
            "313/313 [==============================] - 6s 17ms/step - loss: 0.2276 - sparse_categorical_accuracy: 0.9254\n",
            "Test accuracy: 0.9253999590873718\n"
          ],
          "name": "stdout"
        }
      ]
    },
    {
      "cell_type": "code",
      "metadata": {
        "colab": {
          "base_uri": "https://localhost:8080/"
        },
        "id": "MGp7fSqCyMEr",
        "outputId": "fb66564e-e381-43f3-b590-98fcbc44092a"
      },
      "source": [
        "model.fit(\n",
        "    x_train.astype(np.float32), y_train.astype(np.float32),\n",
        "    epochs=20,\n",
        "    steps_per_epoch=100,\n",
        "    validation_freq=17\n",
        ")"
      ],
      "execution_count": null,
      "outputs": [
        {
          "output_type": "stream",
          "text": [
            "Epoch 1/20\n",
            "100/100 [==============================] - 2s 22ms/step - loss: 0.1375 - sparse_categorical_accuracy: 0.9488\n",
            "Epoch 2/20\n",
            "100/100 [==============================] - 2s 23ms/step - loss: 0.1336 - sparse_categorical_accuracy: 0.9500\n",
            "Epoch 3/20\n",
            "100/100 [==============================] - 2s 23ms/step - loss: 0.1287 - sparse_categorical_accuracy: 0.9514\n",
            "Epoch 4/20\n",
            "100/100 [==============================] - 2s 22ms/step - loss: 0.1235 - sparse_categorical_accuracy: 0.9534\n",
            "Epoch 5/20\n",
            "100/100 [==============================] - 2s 22ms/step - loss: 0.1173 - sparse_categorical_accuracy: 0.9558\n",
            "Epoch 6/20\n",
            "100/100 [==============================] - 2s 22ms/step - loss: 0.1131 - sparse_categorical_accuracy: 0.9572\n",
            "Epoch 7/20\n",
            "100/100 [==============================] - 2s 22ms/step - loss: 0.1098 - sparse_categorical_accuracy: 0.9590\n",
            "Epoch 8/20\n",
            "100/100 [==============================] - 2s 22ms/step - loss: 0.1052 - sparse_categorical_accuracy: 0.9596\n",
            "Epoch 9/20\n",
            "100/100 [==============================] - 2s 22ms/step - loss: 0.1027 - sparse_categorical_accuracy: 0.9611\n",
            "Epoch 10/20\n",
            "100/100 [==============================] - 2s 22ms/step - loss: 0.0986 - sparse_categorical_accuracy: 0.9628\n",
            "Epoch 11/20\n",
            "100/100 [==============================] - 2s 22ms/step - loss: 0.0930 - sparse_categorical_accuracy: 0.9650\n",
            "Epoch 12/20\n",
            "100/100 [==============================] - 2s 22ms/step - loss: 0.0925 - sparse_categorical_accuracy: 0.9660\n",
            "Epoch 13/20\n",
            "100/100 [==============================] - 2s 22ms/step - loss: 0.0904 - sparse_categorical_accuracy: 0.9662\n",
            "Epoch 14/20\n",
            "100/100 [==============================] - 2s 22ms/step - loss: 0.0870 - sparse_categorical_accuracy: 0.9670\n",
            "Epoch 15/20\n",
            "100/100 [==============================] - 2s 22ms/step - loss: 0.0829 - sparse_categorical_accuracy: 0.9689\n",
            "Epoch 16/20\n",
            "100/100 [==============================] - 2s 22ms/step - loss: 0.0869 - sparse_categorical_accuracy: 0.9675\n",
            "Epoch 17/20\n",
            "100/100 [==============================] - 2s 22ms/step - loss: 0.0794 - sparse_categorical_accuracy: 0.9703\n",
            "Epoch 18/20\n",
            "100/100 [==============================] - 2s 22ms/step - loss: 0.0771 - sparse_categorical_accuracy: 0.9721\n",
            "Epoch 19/20\n",
            "100/100 [==============================] - 2s 22ms/step - loss: 0.0728 - sparse_categorical_accuracy: 0.9721\n",
            "Epoch 20/20\n",
            "100/100 [==============================] - 2s 22ms/step - loss: 0.0746 - sparse_categorical_accuracy: 0.9720\n"
          ],
          "name": "stdout"
        },
        {
          "output_type": "execute_result",
          "data": {
            "text/plain": [
              "<tensorflow.python.keras.callbacks.History at 0x7fd5df6e5050>"
            ]
          },
          "metadata": {
            "tags": []
          },
          "execution_count": 9
        }
      ]
    },
    {
      "cell_type": "code",
      "metadata": {
        "colab": {
          "base_uri": "https://localhost:8080/"
        },
        "id": "fNTtYPwryuWg",
        "outputId": "38b9fb9d-8707-4b97-b0fe-639910f3b08b"
      },
      "source": [
        "test_loss, test_acc = model.evaluate(x_test.astype(np.float32), y_test.astype(np.float32), verbose=1) \n",
        "\n",
        "print('Test accuracy:', test_acc)"
      ],
      "execution_count": null,
      "outputs": [
        {
          "output_type": "stream",
          "text": [
            "313/313 [==============================] - 6s 17ms/step - loss: 0.2991 - sparse_categorical_accuracy: 0.9308\n",
            "Test accuracy: 0.9307999610900879\n"
          ],
          "name": "stdout"
        }
      ]
    },
    {
      "cell_type": "code",
      "metadata": {
        "colab": {
          "base_uri": "https://localhost:8080/"
        },
        "id": "2vEqNn_SyOt7",
        "outputId": "b53786d3-8025-46dc-d869-125e9d2792e2"
      },
      "source": [
        "model.fit(\n",
        "    x_train.astype(np.float32), y_train.astype(np.float32),\n",
        "    epochs=40,\n",
        "    steps_per_epoch=100,\n",
        "    validation_freq=17\n",
        ")"
      ],
      "execution_count": null,
      "outputs": [
        {
          "output_type": "stream",
          "text": [
            "Epoch 1/40\n",
            "100/100 [==============================] - 2s 22ms/step - loss: 0.0718 - sparse_categorical_accuracy: 0.9731\n",
            "Epoch 2/40\n",
            "100/100 [==============================] - 2s 22ms/step - loss: 0.0700 - sparse_categorical_accuracy: 0.9740\n",
            "Epoch 3/40\n",
            "100/100 [==============================] - 2s 22ms/step - loss: 0.0674 - sparse_categorical_accuracy: 0.9752\n",
            "Epoch 4/40\n",
            "100/100 [==============================] - 2s 22ms/step - loss: 0.0657 - sparse_categorical_accuracy: 0.9759\n",
            "Epoch 5/40\n",
            "100/100 [==============================] - 2s 23ms/step - loss: 0.0642 - sparse_categorical_accuracy: 0.9762\n",
            "Epoch 6/40\n",
            "100/100 [==============================] - 2s 21ms/step - loss: 0.0625 - sparse_categorical_accuracy: 0.9771\n",
            "Epoch 7/40\n",
            "100/100 [==============================] - 2s 22ms/step - loss: 0.0639 - sparse_categorical_accuracy: 0.9765\n",
            "Epoch 8/40\n",
            "100/100 [==============================] - 2s 22ms/step - loss: 0.0611 - sparse_categorical_accuracy: 0.9777\n",
            "Epoch 9/40\n",
            "100/100 [==============================] - 2s 22ms/step - loss: 0.0594 - sparse_categorical_accuracy: 0.9775\n",
            "Epoch 10/40\n",
            "100/100 [==============================] - 2s 23ms/step - loss: 0.0583 - sparse_categorical_accuracy: 0.9792\n",
            "Epoch 11/40\n",
            "100/100 [==============================] - 2s 23ms/step - loss: 0.0560 - sparse_categorical_accuracy: 0.9790\n",
            "Epoch 12/40\n",
            "100/100 [==============================] - 2s 24ms/step - loss: 0.0577 - sparse_categorical_accuracy: 0.9788\n",
            "Epoch 13/40\n",
            "100/100 [==============================] - 2s 23ms/step - loss: 0.0558 - sparse_categorical_accuracy: 0.9795\n",
            "Epoch 14/40\n",
            "100/100 [==============================] - 2s 23ms/step - loss: 0.0563 - sparse_categorical_accuracy: 0.9798\n",
            "Epoch 15/40\n",
            "100/100 [==============================] - 2s 22ms/step - loss: 0.0522 - sparse_categorical_accuracy: 0.9810\n",
            "Epoch 16/40\n",
            "100/100 [==============================] - 2s 22ms/step - loss: 0.0552 - sparse_categorical_accuracy: 0.9799\n",
            "Epoch 17/40\n",
            "100/100 [==============================] - 2s 22ms/step - loss: 0.0509 - sparse_categorical_accuracy: 0.9813\n",
            "Epoch 18/40\n",
            "100/100 [==============================] - 2s 22ms/step - loss: 0.0506 - sparse_categorical_accuracy: 0.9822\n",
            "Epoch 19/40\n",
            "100/100 [==============================] - 2s 22ms/step - loss: 0.0523 - sparse_categorical_accuracy: 0.9813\n",
            "Epoch 20/40\n",
            "100/100 [==============================] - 2s 22ms/step - loss: 0.0465 - sparse_categorical_accuracy: 0.9827\n",
            "Epoch 21/40\n",
            "100/100 [==============================] - 2s 22ms/step - loss: 0.0458 - sparse_categorical_accuracy: 0.9840\n",
            "Epoch 22/40\n",
            "100/100 [==============================] - 2s 22ms/step - loss: 0.0439 - sparse_categorical_accuracy: 0.9845\n",
            "Epoch 23/40\n",
            "100/100 [==============================] - 2s 22ms/step - loss: 0.0455 - sparse_categorical_accuracy: 0.9839\n",
            "Epoch 24/40\n",
            "100/100 [==============================] - 2s 22ms/step - loss: 0.0447 - sparse_categorical_accuracy: 0.9841\n",
            "Epoch 25/40\n",
            "100/100 [==============================] - 2s 22ms/step - loss: 0.0436 - sparse_categorical_accuracy: 0.9834\n",
            "Epoch 26/40\n",
            "100/100 [==============================] - 2s 22ms/step - loss: 0.0465 - sparse_categorical_accuracy: 0.9839\n",
            "Epoch 27/40\n",
            "100/100 [==============================] - 2s 22ms/step - loss: 0.0450 - sparse_categorical_accuracy: 0.9836\n",
            "Epoch 28/40\n",
            "100/100 [==============================] - 2s 22ms/step - loss: 0.0458 - sparse_categorical_accuracy: 0.9834\n",
            "Epoch 29/40\n",
            "100/100 [==============================] - 2s 22ms/step - loss: 0.0426 - sparse_categorical_accuracy: 0.9855\n",
            "Epoch 30/40\n",
            "100/100 [==============================] - 2s 22ms/step - loss: 0.0399 - sparse_categorical_accuracy: 0.9860\n",
            "Epoch 31/40\n",
            "100/100 [==============================] - 2s 22ms/step - loss: 0.0420 - sparse_categorical_accuracy: 0.9850\n",
            "Epoch 32/40\n",
            "100/100 [==============================] - 2s 22ms/step - loss: 0.0428 - sparse_categorical_accuracy: 0.9849\n",
            "Epoch 33/40\n",
            "100/100 [==============================] - 2s 22ms/step - loss: 0.0385 - sparse_categorical_accuracy: 0.9857\n",
            "Epoch 34/40\n",
            "100/100 [==============================] - 2s 22ms/step - loss: 0.0384 - sparse_categorical_accuracy: 0.9872\n",
            "Epoch 35/40\n",
            "100/100 [==============================] - 2s 22ms/step - loss: 0.0389 - sparse_categorical_accuracy: 0.9868\n",
            "Epoch 36/40\n",
            "100/100 [==============================] - 2s 22ms/step - loss: 0.0381 - sparse_categorical_accuracy: 0.9865\n",
            "Epoch 37/40\n",
            "100/100 [==============================] - 2s 22ms/step - loss: 0.0373 - sparse_categorical_accuracy: 0.9871\n",
            "Epoch 38/40\n",
            "100/100 [==============================] - 2s 22ms/step - loss: 0.0354 - sparse_categorical_accuracy: 0.9873\n",
            "Epoch 39/40\n",
            "100/100 [==============================] - 2s 22ms/step - loss: 0.0361 - sparse_categorical_accuracy: 0.9870\n",
            "Epoch 40/40\n",
            "100/100 [==============================] - 2s 22ms/step - loss: 0.0359 - sparse_categorical_accuracy: 0.9875\n"
          ],
          "name": "stdout"
        },
        {
          "output_type": "execute_result",
          "data": {
            "text/plain": [
              "<tensorflow.python.keras.callbacks.History at 0x7fd5de3116d0>"
            ]
          },
          "metadata": {
            "tags": []
          },
          "execution_count": 11
        }
      ]
    },
    {
      "cell_type": "code",
      "metadata": {
        "colab": {
          "base_uri": "https://localhost:8080/"
        },
        "id": "x6Q66zs2ytzH",
        "outputId": "4028a13d-7fee-4dc9-ca20-8154d89ffe0b"
      },
      "source": [
        "test_loss, test_acc = model.evaluate(x_test.astype(np.float32), y_test.astype(np.float32), verbose=1) \n",
        "\n",
        "print('Test accuracy:', test_acc)"
      ],
      "execution_count": null,
      "outputs": [
        {
          "output_type": "stream",
          "text": [
            "313/313 [==============================] - 6s 17ms/step - loss: 0.3810 - sparse_categorical_accuracy: 0.9324\n",
            "Test accuracy: 0.9323999881744385\n"
          ],
          "name": "stdout"
        }
      ]
    },
    {
      "cell_type": "code",
      "metadata": {
        "colab": {
          "base_uri": "https://localhost:8080/"
        },
        "id": "VrLvoRivyOoR",
        "outputId": "aa367853-c2d1-4b73-81cf-5f6acec2c6dd"
      },
      "source": [
        "model.fit(\n",
        "    x_train.astype(np.float32), y_train.astype(np.float32),\n",
        "    epochs=100,\n",
        "    steps_per_epoch=100,\n",
        "    validation_freq=17\n",
        ")"
      ],
      "execution_count": null,
      "outputs": [
        {
          "output_type": "stream",
          "text": [
            "Epoch 1/100\n",
            "100/100 [==============================] - 2s 22ms/step - loss: 0.0377 - sparse_categorical_accuracy: 0.9868\n",
            "Epoch 2/100\n",
            "100/100 [==============================] - 2s 22ms/step - loss: 0.0346 - sparse_categorical_accuracy: 0.9876\n",
            "Epoch 3/100\n",
            "100/100 [==============================] - 2s 22ms/step - loss: 0.0337 - sparse_categorical_accuracy: 0.9880\n",
            "Epoch 4/100\n",
            "100/100 [==============================] - 2s 21ms/step - loss: 0.0355 - sparse_categorical_accuracy: 0.9877\n",
            "Epoch 5/100\n",
            "100/100 [==============================] - 2s 22ms/step - loss: 0.0342 - sparse_categorical_accuracy: 0.9883\n",
            "Epoch 6/100\n",
            "100/100 [==============================] - 2s 22ms/step - loss: 0.0333 - sparse_categorical_accuracy: 0.9878\n",
            "Epoch 7/100\n",
            "100/100 [==============================] - 2s 22ms/step - loss: 0.0321 - sparse_categorical_accuracy: 0.9885\n",
            "Epoch 8/100\n",
            "100/100 [==============================] - 2s 22ms/step - loss: 0.0345 - sparse_categorical_accuracy: 0.9882\n",
            "Epoch 9/100\n",
            "100/100 [==============================] - 2s 22ms/step - loss: 0.0312 - sparse_categorical_accuracy: 0.9888\n",
            "Epoch 10/100\n",
            "100/100 [==============================] - 2s 22ms/step - loss: 0.0314 - sparse_categorical_accuracy: 0.9894\n",
            "Epoch 11/100\n",
            "100/100 [==============================] - 2s 21ms/step - loss: 0.0363 - sparse_categorical_accuracy: 0.9878\n",
            "Epoch 12/100\n",
            "100/100 [==============================] - 2s 22ms/step - loss: 0.0320 - sparse_categorical_accuracy: 0.9895\n",
            "Epoch 13/100\n",
            "100/100 [==============================] - 2s 22ms/step - loss: 0.0343 - sparse_categorical_accuracy: 0.9884\n",
            "Epoch 14/100\n",
            "100/100 [==============================] - 2s 22ms/step - loss: 0.0311 - sparse_categorical_accuracy: 0.9896\n",
            "Epoch 15/100\n",
            "100/100 [==============================] - 2s 22ms/step - loss: 0.0298 - sparse_categorical_accuracy: 0.9898\n",
            "Epoch 16/100\n",
            "100/100 [==============================] - 2s 22ms/step - loss: 0.0311 - sparse_categorical_accuracy: 0.9895\n",
            "Epoch 17/100\n",
            "100/100 [==============================] - 2s 22ms/step - loss: 0.0337 - sparse_categorical_accuracy: 0.9880\n",
            "Epoch 18/100\n",
            "100/100 [==============================] - 2s 22ms/step - loss: 0.0309 - sparse_categorical_accuracy: 0.9893\n",
            "Epoch 19/100\n",
            "100/100 [==============================] - 2s 22ms/step - loss: 0.0293 - sparse_categorical_accuracy: 0.9895\n",
            "Epoch 20/100\n",
            "100/100 [==============================] - 2s 22ms/step - loss: 0.0305 - sparse_categorical_accuracy: 0.9896\n",
            "Epoch 21/100\n",
            "100/100 [==============================] - 2s 22ms/step - loss: 0.0290 - sparse_categorical_accuracy: 0.9895\n",
            "Epoch 22/100\n",
            "100/100 [==============================] - 2s 21ms/step - loss: 0.0295 - sparse_categorical_accuracy: 0.9897\n",
            "Epoch 23/100\n",
            "100/100 [==============================] - 2s 22ms/step - loss: 0.0278 - sparse_categorical_accuracy: 0.9904\n",
            "Epoch 24/100\n",
            "100/100 [==============================] - 2s 22ms/step - loss: 0.0281 - sparse_categorical_accuracy: 0.9909\n",
            "Epoch 25/100\n",
            "100/100 [==============================] - 2s 22ms/step - loss: 0.0244 - sparse_categorical_accuracy: 0.9918\n",
            "Epoch 26/100\n",
            "100/100 [==============================] - 2s 22ms/step - loss: 0.0323 - sparse_categorical_accuracy: 0.9895\n",
            "Epoch 27/100\n",
            "100/100 [==============================] - 2s 22ms/step - loss: 0.0289 - sparse_categorical_accuracy: 0.9900\n",
            "Epoch 28/100\n",
            "100/100 [==============================] - 2s 23ms/step - loss: 0.0290 - sparse_categorical_accuracy: 0.9905\n",
            "Epoch 29/100\n",
            "100/100 [==============================] - 2s 22ms/step - loss: 0.0306 - sparse_categorical_accuracy: 0.9898\n",
            "Epoch 30/100\n",
            "100/100 [==============================] - 2s 22ms/step - loss: 0.0273 - sparse_categorical_accuracy: 0.9912\n",
            "Epoch 31/100\n",
            "100/100 [==============================] - 2s 22ms/step - loss: 0.0282 - sparse_categorical_accuracy: 0.9906\n",
            "Epoch 32/100\n",
            "100/100 [==============================] - 2s 23ms/step - loss: 0.0286 - sparse_categorical_accuracy: 0.9904\n",
            "Epoch 33/100\n",
            "100/100 [==============================] - 2s 23ms/step - loss: 0.0280 - sparse_categorical_accuracy: 0.9905\n",
            "Epoch 34/100\n",
            "100/100 [==============================] - 2s 22ms/step - loss: 0.0282 - sparse_categorical_accuracy: 0.9905\n",
            "Epoch 35/100\n",
            "100/100 [==============================] - 2s 22ms/step - loss: 0.0271 - sparse_categorical_accuracy: 0.9907\n",
            "Epoch 36/100\n",
            "100/100 [==============================] - 2s 22ms/step - loss: 0.0273 - sparse_categorical_accuracy: 0.9906\n",
            "Epoch 37/100\n",
            "100/100 [==============================] - 2s 22ms/step - loss: 0.0280 - sparse_categorical_accuracy: 0.9905\n",
            "Epoch 38/100\n",
            "100/100 [==============================] - 2s 22ms/step - loss: 0.0269 - sparse_categorical_accuracy: 0.9910\n",
            "Epoch 39/100\n",
            "100/100 [==============================] - 2s 22ms/step - loss: 0.0257 - sparse_categorical_accuracy: 0.9914\n",
            "Epoch 40/100\n",
            "100/100 [==============================] - 2s 22ms/step - loss: 0.0243 - sparse_categorical_accuracy: 0.9914\n",
            "Epoch 41/100\n",
            "100/100 [==============================] - 2s 23ms/step - loss: 0.0258 - sparse_categorical_accuracy: 0.9909\n",
            "Epoch 42/100\n",
            "100/100 [==============================] - 2s 22ms/step - loss: 0.0284 - sparse_categorical_accuracy: 0.9903\n",
            "Epoch 43/100\n",
            "100/100 [==============================] - 2s 22ms/step - loss: 0.0246 - sparse_categorical_accuracy: 0.9918\n",
            "Epoch 44/100\n",
            "100/100 [==============================] - 2s 22ms/step - loss: 0.0263 - sparse_categorical_accuracy: 0.9914\n",
            "Epoch 45/100\n",
            "100/100 [==============================] - 2s 22ms/step - loss: 0.0220 - sparse_categorical_accuracy: 0.9924\n",
            "Epoch 46/100\n",
            "100/100 [==============================] - 2s 22ms/step - loss: 0.0253 - sparse_categorical_accuracy: 0.9916\n",
            "Epoch 47/100\n",
            "100/100 [==============================] - 2s 22ms/step - loss: 0.0222 - sparse_categorical_accuracy: 0.9926\n",
            "Epoch 48/100\n",
            "100/100 [==============================] - 2s 22ms/step - loss: 0.0223 - sparse_categorical_accuracy: 0.9922\n",
            "Epoch 49/100\n",
            "100/100 [==============================] - 2s 22ms/step - loss: 0.0259 - sparse_categorical_accuracy: 0.9916\n",
            "Epoch 50/100\n",
            "100/100 [==============================] - 2s 22ms/step - loss: 0.0229 - sparse_categorical_accuracy: 0.9923\n",
            "Epoch 51/100\n",
            "100/100 [==============================] - 2s 22ms/step - loss: 0.0232 - sparse_categorical_accuracy: 0.9922\n",
            "Epoch 52/100\n",
            "100/100 [==============================] - 2s 22ms/step - loss: 0.0262 - sparse_categorical_accuracy: 0.9916\n",
            "Epoch 53/100\n",
            "100/100 [==============================] - 2s 22ms/step - loss: 0.0255 - sparse_categorical_accuracy: 0.9915\n",
            "Epoch 54/100\n",
            "100/100 [==============================] - 2s 22ms/step - loss: 0.0240 - sparse_categorical_accuracy: 0.9917\n",
            "Epoch 55/100\n",
            "100/100 [==============================] - 2s 22ms/step - loss: 0.0222 - sparse_categorical_accuracy: 0.9924\n",
            "Epoch 56/100\n",
            "100/100 [==============================] - 2s 22ms/step - loss: 0.0237 - sparse_categorical_accuracy: 0.9918\n",
            "Epoch 57/100\n",
            "100/100 [==============================] - 2s 22ms/step - loss: 0.0232 - sparse_categorical_accuracy: 0.9920\n",
            "Epoch 58/100\n",
            "100/100 [==============================] - 2s 23ms/step - loss: 0.0242 - sparse_categorical_accuracy: 0.9916\n",
            "Epoch 59/100\n",
            "100/100 [==============================] - 2s 22ms/step - loss: 0.0249 - sparse_categorical_accuracy: 0.9917\n",
            "Epoch 60/100\n",
            "100/100 [==============================] - 2s 23ms/step - loss: 0.0215 - sparse_categorical_accuracy: 0.9929\n",
            "Epoch 61/100\n",
            "100/100 [==============================] - 2s 22ms/step - loss: 0.0204 - sparse_categorical_accuracy: 0.9929\n",
            "Epoch 62/100\n",
            "100/100 [==============================] - 2s 22ms/step - loss: 0.0226 - sparse_categorical_accuracy: 0.9923\n",
            "Epoch 63/100\n",
            "100/100 [==============================] - 2s 22ms/step - loss: 0.0230 - sparse_categorical_accuracy: 0.9927\n",
            "Epoch 64/100\n",
            "100/100 [==============================] - 2s 22ms/step - loss: 0.0226 - sparse_categorical_accuracy: 0.9924\n",
            "Epoch 65/100\n",
            "100/100 [==============================] - 2s 22ms/step - loss: 0.0184 - sparse_categorical_accuracy: 0.9940\n",
            "Epoch 66/100\n",
            "100/100 [==============================] - 2s 22ms/step - loss: 0.0205 - sparse_categorical_accuracy: 0.9927\n",
            "Epoch 67/100\n",
            "100/100 [==============================] - 2s 23ms/step - loss: 0.0234 - sparse_categorical_accuracy: 0.9920\n",
            "Epoch 68/100\n",
            "100/100 [==============================] - 2s 22ms/step - loss: 0.0214 - sparse_categorical_accuracy: 0.9928\n",
            "Epoch 69/100\n",
            "100/100 [==============================] - 2s 22ms/step - loss: 0.0217 - sparse_categorical_accuracy: 0.9926\n",
            "Epoch 70/100\n",
            "100/100 [==============================] - 2s 22ms/step - loss: 0.0224 - sparse_categorical_accuracy: 0.9927\n",
            "Epoch 71/100\n",
            "100/100 [==============================] - 2s 22ms/step - loss: 0.0232 - sparse_categorical_accuracy: 0.9923\n",
            "Epoch 72/100\n",
            "100/100 [==============================] - 2s 22ms/step - loss: 0.0220 - sparse_categorical_accuracy: 0.9927\n",
            "Epoch 73/100\n",
            "100/100 [==============================] - 2s 22ms/step - loss: 0.0212 - sparse_categorical_accuracy: 0.9930\n",
            "Epoch 74/100\n",
            "100/100 [==============================] - 2s 22ms/step - loss: 0.0210 - sparse_categorical_accuracy: 0.9932\n",
            "Epoch 75/100\n",
            "100/100 [==============================] - 2s 22ms/step - loss: 0.0216 - sparse_categorical_accuracy: 0.9929\n",
            "Epoch 76/100\n",
            "100/100 [==============================] - 2s 22ms/step - loss: 0.0203 - sparse_categorical_accuracy: 0.9930\n",
            "Epoch 77/100\n",
            "100/100 [==============================] - 2s 22ms/step - loss: 0.0217 - sparse_categorical_accuracy: 0.9929\n",
            "Epoch 78/100\n",
            "100/100 [==============================] - 2s 22ms/step - loss: 0.0195 - sparse_categorical_accuracy: 0.9933\n",
            "Epoch 79/100\n",
            "100/100 [==============================] - 2s 21ms/step - loss: 0.0211 - sparse_categorical_accuracy: 0.9928\n",
            "Epoch 80/100\n",
            "100/100 [==============================] - 2s 22ms/step - loss: 0.0184 - sparse_categorical_accuracy: 0.9937\n",
            "Epoch 81/100\n",
            "100/100 [==============================] - 2s 22ms/step - loss: 0.0217 - sparse_categorical_accuracy: 0.9926\n",
            "Epoch 82/100\n",
            "100/100 [==============================] - 2s 22ms/step - loss: 0.0179 - sparse_categorical_accuracy: 0.9936\n",
            "Epoch 83/100\n",
            "100/100 [==============================] - 2s 22ms/step - loss: 0.0185 - sparse_categorical_accuracy: 0.9936\n",
            "Epoch 84/100\n",
            "100/100 [==============================] - 2s 22ms/step - loss: 0.0189 - sparse_categorical_accuracy: 0.9940\n",
            "Epoch 85/100\n",
            "100/100 [==============================] - 2s 22ms/step - loss: 0.0203 - sparse_categorical_accuracy: 0.9932\n",
            "Epoch 86/100\n",
            "100/100 [==============================] - 2s 22ms/step - loss: 0.0192 - sparse_categorical_accuracy: 0.9937\n",
            "Epoch 87/100\n",
            "100/100 [==============================] - 2s 22ms/step - loss: 0.0199 - sparse_categorical_accuracy: 0.9936\n",
            "Epoch 88/100\n",
            "100/100 [==============================] - 2s 22ms/step - loss: 0.0243 - sparse_categorical_accuracy: 0.9925\n",
            "Epoch 89/100\n",
            "100/100 [==============================] - 2s 22ms/step - loss: 0.0187 - sparse_categorical_accuracy: 0.9938\n",
            "Epoch 90/100\n",
            "100/100 [==============================] - 2s 23ms/step - loss: 0.0188 - sparse_categorical_accuracy: 0.9937\n",
            "Epoch 91/100\n",
            "100/100 [==============================] - 2s 22ms/step - loss: 0.0160 - sparse_categorical_accuracy: 0.9948\n",
            "Epoch 92/100\n",
            "100/100 [==============================] - 2s 22ms/step - loss: 0.0181 - sparse_categorical_accuracy: 0.9941\n",
            "Epoch 93/100\n",
            "100/100 [==============================] - 2s 22ms/step - loss: 0.0202 - sparse_categorical_accuracy: 0.9935\n",
            "Epoch 94/100\n",
            "100/100 [==============================] - 2s 22ms/step - loss: 0.0179 - sparse_categorical_accuracy: 0.9941\n",
            "Epoch 95/100\n",
            "100/100 [==============================] - 2s 22ms/step - loss: 0.0182 - sparse_categorical_accuracy: 0.9936\n",
            "Epoch 96/100\n",
            "100/100 [==============================] - 2s 22ms/step - loss: 0.0191 - sparse_categorical_accuracy: 0.9937\n",
            "Epoch 97/100\n",
            "100/100 [==============================] - 2s 22ms/step - loss: 0.0168 - sparse_categorical_accuracy: 0.9942\n",
            "Epoch 98/100\n",
            "100/100 [==============================] - 2s 22ms/step - loss: 0.0192 - sparse_categorical_accuracy: 0.9941\n",
            "Epoch 99/100\n",
            "100/100 [==============================] - 2s 22ms/step - loss: 0.0197 - sparse_categorical_accuracy: 0.9935\n",
            "Epoch 100/100\n",
            "100/100 [==============================] - 2s 22ms/step - loss: 0.0181 - sparse_categorical_accuracy: 0.9935\n"
          ],
          "name": "stdout"
        },
        {
          "output_type": "execute_result",
          "data": {
            "text/plain": [
              "<tensorflow.python.keras.callbacks.History at 0x7fd5de20dc90>"
            ]
          },
          "metadata": {
            "tags": []
          },
          "execution_count": 13
        }
      ]
    },
    {
      "cell_type": "code",
      "metadata": {
        "colab": {
          "base_uri": "https://localhost:8080/"
        },
        "id": "YQtkcPv_ytOi",
        "outputId": "84942431-c500-4158-ffe0-74802615680e"
      },
      "source": [
        "test_loss, test_acc = model.evaluate(x_test.astype(np.float32), y_test.astype(np.float32), verbose=1) \n",
        "\n",
        "print('Test accuracy:', test_acc)"
      ],
      "execution_count": null,
      "outputs": [
        {
          "output_type": "stream",
          "text": [
            "313/313 [==============================] - 6s 18ms/step - loss: 0.5059 - sparse_categorical_accuracy: 0.9341\n",
            "Test accuracy: 0.9340999722480774\n"
          ],
          "name": "stdout"
        }
      ]
    },
    {
      "cell_type": "code",
      "metadata": {
        "colab": {
          "base_uri": "https://localhost:8080/"
        },
        "id": "y--Dw3CFyOjz",
        "outputId": "97aebf45-934c-402f-ae21-1ba744980412"
      },
      "source": [
        "model.fit(\n",
        "    x_train.astype(np.float32), y_train.astype(np.float32),\n",
        "    epochs=5,\n",
        "    steps_per_epoch=200,\n",
        "    validation_freq=17\n",
        ")"
      ],
      "execution_count": null,
      "outputs": [
        {
          "output_type": "stream",
          "text": [
            "Epoch 1/5\n",
            "200/200 [==============================] - 9s 23ms/step - loss: 0.0460 - sparse_categorical_accuracy: 0.9859\n",
            "Epoch 2/5\n",
            "200/200 [==============================] - 5s 23ms/step - loss: 0.0486 - sparse_categorical_accuracy: 0.9846\n",
            "Epoch 3/5\n",
            "200/200 [==============================] - 5s 23ms/step - loss: 0.0407 - sparse_categorical_accuracy: 0.9862\n",
            "Epoch 4/5\n",
            "200/200 [==============================] - 5s 23ms/step - loss: 0.0363 - sparse_categorical_accuracy: 0.9884\n",
            "Epoch 5/5\n",
            "200/200 [==============================] - 4s 22ms/step - loss: 0.0350 - sparse_categorical_accuracy: 0.9882\n"
          ],
          "name": "stdout"
        },
        {
          "output_type": "execute_result",
          "data": {
            "text/plain": [
              "<tensorflow.python.keras.callbacks.History at 0x7fd5de1c9590>"
            ]
          },
          "metadata": {
            "tags": []
          },
          "execution_count": 15
        }
      ]
    },
    {
      "cell_type": "code",
      "metadata": {
        "colab": {
          "base_uri": "https://localhost:8080/"
        },
        "id": "2DTnLmFqytAC",
        "outputId": "42be7b76-5e9e-4546-b5b5-f51100912e82"
      },
      "source": [
        "test_loss, test_acc = model.evaluate(x_test.astype(np.float32), y_test.astype(np.float32), verbose=1) \n",
        "\n",
        "print('Test accuracy:', test_acc)"
      ],
      "execution_count": null,
      "outputs": [
        {
          "output_type": "stream",
          "text": [
            "313/313 [==============================] - 6s 17ms/step - loss: 0.3966 - sparse_categorical_accuracy: 0.9321\n",
            "Test accuracy: 0.9320999979972839\n"
          ],
          "name": "stdout"
        }
      ]
    },
    {
      "cell_type": "code",
      "metadata": {
        "colab": {
          "base_uri": "https://localhost:8080/"
        },
        "id": "JZPftEhbyOfQ",
        "outputId": "f8da4bc8-f949-471b-f393-33a9370d24bd"
      },
      "source": [
        "model.fit(\n",
        "    x_train.astype(np.float32), y_train.astype(np.float32),\n",
        "    epochs=10,\n",
        "    steps_per_epoch=200,\n",
        "    validation_freq=17\n",
        ")"
      ],
      "execution_count": null,
      "outputs": [
        {
          "output_type": "stream",
          "text": [
            "Epoch 1/10\n",
            "200/200 [==============================] - 5s 23ms/step - loss: 0.0302 - sparse_categorical_accuracy: 0.9899\n",
            "Epoch 2/10\n",
            "200/200 [==============================] - 5s 23ms/step - loss: 0.0334 - sparse_categorical_accuracy: 0.9897\n",
            "Epoch 3/10\n",
            "200/200 [==============================] - 5s 23ms/step - loss: 0.0284 - sparse_categorical_accuracy: 0.9904\n",
            "Epoch 4/10\n",
            "200/200 [==============================] - 5s 23ms/step - loss: 0.0310 - sparse_categorical_accuracy: 0.9897\n",
            "Epoch 5/10\n",
            "200/200 [==============================] - 5s 23ms/step - loss: 0.0300 - sparse_categorical_accuracy: 0.9908\n",
            "Epoch 6/10\n",
            "200/200 [==============================] - 5s 23ms/step - loss: 0.0307 - sparse_categorical_accuracy: 0.9902\n",
            "Epoch 7/10\n",
            "200/200 [==============================] - 5s 23ms/step - loss: 0.0290 - sparse_categorical_accuracy: 0.9906\n",
            "Epoch 8/10\n",
            "200/200 [==============================] - 5s 23ms/step - loss: 0.0284 - sparse_categorical_accuracy: 0.9907\n",
            "Epoch 9/10\n",
            "200/200 [==============================] - 5s 23ms/step - loss: 0.0261 - sparse_categorical_accuracy: 0.9916\n",
            "Epoch 10/10\n",
            "200/200 [==============================] - 5s 23ms/step - loss: 0.0295 - sparse_categorical_accuracy: 0.9908\n"
          ],
          "name": "stdout"
        },
        {
          "output_type": "execute_result",
          "data": {
            "text/plain": [
              "<tensorflow.python.keras.callbacks.History at 0x7fd5de122ad0>"
            ]
          },
          "metadata": {
            "tags": []
          },
          "execution_count": 17
        }
      ]
    },
    {
      "cell_type": "code",
      "metadata": {
        "colab": {
          "base_uri": "https://localhost:8080/"
        },
        "id": "_jZsNhR3ysdv",
        "outputId": "a4305b02-12c5-42ca-aa2a-7fa2bf038cb7"
      },
      "source": [
        "test_loss, test_acc = model.evaluate(x_test.astype(np.float32), y_test.astype(np.float32), verbose=1) \n",
        "\n",
        "print('Test accuracy:', test_acc)"
      ],
      "execution_count": null,
      "outputs": [
        {
          "output_type": "stream",
          "text": [
            "313/313 [==============================] - 6s 17ms/step - loss: 0.4065 - sparse_categorical_accuracy: 0.9312\n",
            "Test accuracy: 0.9311999678611755\n"
          ],
          "name": "stdout"
        }
      ]
    },
    {
      "cell_type": "code",
      "metadata": {
        "colab": {
          "base_uri": "https://localhost:8080/"
        },
        "id": "gEqZzyQNyOQo",
        "outputId": "1ca0fdd0-e434-40e5-9e74-d86cbd11e088"
      },
      "source": [
        "model.fit(\n",
        "    x_train.astype(np.float32), y_train.astype(np.float32),\n",
        "    epochs=20,\n",
        "    steps_per_epoch=200,\n",
        "    validation_freq=17\n",
        ")"
      ],
      "execution_count": null,
      "outputs": [
        {
          "output_type": "stream",
          "text": [
            "Epoch 1/20\n",
            "200/200 [==============================] - 5s 23ms/step - loss: 0.0275 - sparse_categorical_accuracy: 0.9915\n",
            "Epoch 2/20\n",
            "200/200 [==============================] - 5s 23ms/step - loss: 0.0268 - sparse_categorical_accuracy: 0.9913\n",
            "Epoch 3/20\n",
            "200/200 [==============================] - 4s 22ms/step - loss: 0.0277 - sparse_categorical_accuracy: 0.9909\n",
            "Epoch 4/20\n",
            "200/200 [==============================] - 4s 22ms/step - loss: 0.0285 - sparse_categorical_accuracy: 0.9909\n",
            "Epoch 5/20\n",
            "200/200 [==============================] - 5s 23ms/step - loss: 0.0243 - sparse_categorical_accuracy: 0.9918\n",
            "Epoch 6/20\n",
            "200/200 [==============================] - 5s 23ms/step - loss: 0.0267 - sparse_categorical_accuracy: 0.9913\n",
            "Epoch 7/20\n",
            "200/200 [==============================] - 4s 22ms/step - loss: 0.0240 - sparse_categorical_accuracy: 0.9918\n",
            "Epoch 8/20\n",
            "200/200 [==============================] - 4s 22ms/step - loss: 0.0290 - sparse_categorical_accuracy: 0.9905\n",
            "Epoch 9/20\n",
            "200/200 [==============================] - 5s 23ms/step - loss: 0.0294 - sparse_categorical_accuracy: 0.9901\n",
            "Epoch 10/20\n",
            "200/200 [==============================] - 4s 22ms/step - loss: 0.0243 - sparse_categorical_accuracy: 0.9921\n",
            "Epoch 11/20\n",
            "200/200 [==============================] - 5s 23ms/step - loss: 0.0267 - sparse_categorical_accuracy: 0.9910\n",
            "Epoch 12/20\n",
            "200/200 [==============================] - 4s 22ms/step - loss: 0.0247 - sparse_categorical_accuracy: 0.9918\n",
            "Epoch 13/20\n",
            "200/200 [==============================] - 4s 22ms/step - loss: 0.0258 - sparse_categorical_accuracy: 0.9917\n",
            "Epoch 14/20\n",
            "200/200 [==============================] - 5s 23ms/step - loss: 0.0239 - sparse_categorical_accuracy: 0.9928\n",
            "Epoch 15/20\n",
            "200/200 [==============================] - 5s 23ms/step - loss: 0.0252 - sparse_categorical_accuracy: 0.9916\n",
            "Epoch 16/20\n",
            "200/200 [==============================] - 5s 23ms/step - loss: 0.0254 - sparse_categorical_accuracy: 0.9920\n",
            "Epoch 17/20\n",
            "200/200 [==============================] - 4s 22ms/step - loss: 0.0269 - sparse_categorical_accuracy: 0.9916\n",
            "Epoch 18/20\n",
            "200/200 [==============================] - 5s 23ms/step - loss: 0.0265 - sparse_categorical_accuracy: 0.9912\n",
            "Epoch 19/20\n",
            "200/200 [==============================] - 5s 23ms/step - loss: 0.0247 - sparse_categorical_accuracy: 0.9919\n",
            "Epoch 20/20\n",
            "200/200 [==============================] - 4s 22ms/step - loss: 0.0261 - sparse_categorical_accuracy: 0.9916\n"
          ],
          "name": "stdout"
        },
        {
          "output_type": "execute_result",
          "data": {
            "text/plain": [
              "<tensorflow.python.keras.callbacks.History at 0x7fd5dda39950>"
            ]
          },
          "metadata": {
            "tags": []
          },
          "execution_count": 19
        }
      ]
    },
    {
      "cell_type": "code",
      "metadata": {
        "colab": {
          "base_uri": "https://localhost:8080/"
        },
        "id": "2tW-wy2EysHu",
        "outputId": "a7c045da-4a29-4f1a-b2ae-60077c39d791"
      },
      "source": [
        "test_loss, test_acc = model.evaluate(x_test.astype(np.float32), y_test.astype(np.float32), verbose=1) \n",
        "\n",
        "print('Test accuracy:', test_acc)"
      ],
      "execution_count": null,
      "outputs": [
        {
          "output_type": "stream",
          "text": [
            "313/313 [==============================] - 6s 17ms/step - loss: 0.4585 - sparse_categorical_accuracy: 0.9337\n",
            "Test accuracy: 0.9336999654769897\n"
          ],
          "name": "stdout"
        }
      ]
    },
    {
      "cell_type": "code",
      "metadata": {
        "colab": {
          "base_uri": "https://localhost:8080/"
        },
        "id": "0MNnaFjHyY24",
        "outputId": "8ad2bafb-46e8-4adb-ef46-e3f9abb45fd8"
      },
      "source": [
        "model.fit(\n",
        "    x_train.astype(np.float32), y_train.astype(np.float32),\n",
        "    epochs=40,\n",
        "    steps_per_epoch=200,\n",
        "    validation_freq=17\n",
        ")"
      ],
      "execution_count": null,
      "outputs": [
        {
          "output_type": "stream",
          "text": [
            "Epoch 1/40\n",
            "200/200 [==============================] - 4s 22ms/step - loss: 0.0214 - sparse_categorical_accuracy: 0.9929\n",
            "Epoch 2/40\n",
            "200/200 [==============================] - 4s 22ms/step - loss: 0.0270 - sparse_categorical_accuracy: 0.9915\n",
            "Epoch 3/40\n",
            "200/200 [==============================] - 5s 23ms/step - loss: 0.0265 - sparse_categorical_accuracy: 0.9912\n",
            "Epoch 4/40\n",
            "200/200 [==============================] - 5s 23ms/step - loss: 0.0261 - sparse_categorical_accuracy: 0.9918\n",
            "Epoch 5/40\n",
            "200/200 [==============================] - 5s 23ms/step - loss: 0.0237 - sparse_categorical_accuracy: 0.9922\n",
            "Epoch 6/40\n",
            "200/200 [==============================] - 5s 23ms/step - loss: 0.0240 - sparse_categorical_accuracy: 0.9920\n",
            "Epoch 7/40\n",
            "200/200 [==============================] - 5s 24ms/step - loss: 0.0223 - sparse_categorical_accuracy: 0.9923\n",
            "Epoch 8/40\n",
            "200/200 [==============================] - 5s 23ms/step - loss: 0.0238 - sparse_categorical_accuracy: 0.9923\n",
            "Epoch 9/40\n",
            "200/200 [==============================] - 5s 23ms/step - loss: 0.0229 - sparse_categorical_accuracy: 0.9932\n",
            "Epoch 10/40\n",
            "200/200 [==============================] - 5s 23ms/step - loss: 0.0237 - sparse_categorical_accuracy: 0.9923\n",
            "Epoch 11/40\n",
            "200/200 [==============================] - 5s 23ms/step - loss: 0.0228 - sparse_categorical_accuracy: 0.9929\n",
            "Epoch 12/40\n",
            "200/200 [==============================] - 5s 23ms/step - loss: 0.0232 - sparse_categorical_accuracy: 0.9926\n",
            "Epoch 13/40\n",
            "200/200 [==============================] - 4s 22ms/step - loss: 0.0215 - sparse_categorical_accuracy: 0.9932\n",
            "Epoch 14/40\n",
            "200/200 [==============================] - 5s 27ms/step - loss: 0.0229 - sparse_categorical_accuracy: 0.9927\n",
            "Epoch 15/40\n",
            "200/200 [==============================] - 5s 23ms/step - loss: 0.0247 - sparse_categorical_accuracy: 0.9924\n",
            "Epoch 16/40\n",
            "200/200 [==============================] - 5s 23ms/step - loss: 0.0231 - sparse_categorical_accuracy: 0.9926\n",
            "Epoch 17/40\n",
            "200/200 [==============================] - 5s 23ms/step - loss: 0.0260 - sparse_categorical_accuracy: 0.9922\n",
            "Epoch 18/40\n",
            "200/200 [==============================] - 5s 24ms/step - loss: 0.0218 - sparse_categorical_accuracy: 0.9931\n",
            "Epoch 19/40\n",
            "200/200 [==============================] - 5s 23ms/step - loss: 0.0193 - sparse_categorical_accuracy: 0.9935\n",
            "Epoch 20/40\n",
            "200/200 [==============================] - 5s 23ms/step - loss: 0.0225 - sparse_categorical_accuracy: 0.9930\n",
            "Epoch 21/40\n",
            "200/200 [==============================] - 5s 23ms/step - loss: 0.0250 - sparse_categorical_accuracy: 0.9919\n",
            "Epoch 22/40\n",
            "200/200 [==============================] - 5s 23ms/step - loss: 0.0229 - sparse_categorical_accuracy: 0.9927\n",
            "Epoch 23/40\n",
            "200/200 [==============================] - 5s 23ms/step - loss: 0.0232 - sparse_categorical_accuracy: 0.9926\n",
            "Epoch 24/40\n",
            "200/200 [==============================] - 5s 24ms/step - loss: 0.0231 - sparse_categorical_accuracy: 0.9926\n",
            "Epoch 25/40\n",
            "200/200 [==============================] - 5s 24ms/step - loss: 0.0235 - sparse_categorical_accuracy: 0.9919\n",
            "Epoch 26/40\n",
            "200/200 [==============================] - 5s 25ms/step - loss: 0.0229 - sparse_categorical_accuracy: 0.9929\n",
            "Epoch 27/40\n",
            "200/200 [==============================] - 5s 23ms/step - loss: 0.0234 - sparse_categorical_accuracy: 0.9930\n",
            "Epoch 28/40\n",
            "200/200 [==============================] - 5s 23ms/step - loss: 0.0215 - sparse_categorical_accuracy: 0.9931\n",
            "Epoch 29/40\n",
            "200/200 [==============================] - 5s 23ms/step - loss: 0.0212 - sparse_categorical_accuracy: 0.9932\n",
            "Epoch 30/40\n",
            "200/200 [==============================] - 5s 23ms/step - loss: 0.0210 - sparse_categorical_accuracy: 0.9933\n",
            "Epoch 31/40\n",
            "200/200 [==============================] - 5s 23ms/step - loss: 0.0222 - sparse_categorical_accuracy: 0.9927\n",
            "Epoch 32/40\n",
            "200/200 [==============================] - 5s 23ms/step - loss: 0.0241 - sparse_categorical_accuracy: 0.9926\n",
            "Epoch 33/40\n",
            "200/200 [==============================] - 5s 23ms/step - loss: 0.0192 - sparse_categorical_accuracy: 0.9938\n",
            "Epoch 34/40\n",
            "200/200 [==============================] - 5s 23ms/step - loss: 0.0218 - sparse_categorical_accuracy: 0.9933\n",
            "Epoch 35/40\n",
            "200/200 [==============================] - 5s 23ms/step - loss: 0.0222 - sparse_categorical_accuracy: 0.9930\n",
            "Epoch 36/40\n",
            "200/200 [==============================] - 5s 23ms/step - loss: 0.0198 - sparse_categorical_accuracy: 0.9936\n",
            "Epoch 37/40\n",
            "200/200 [==============================] - 5s 23ms/step - loss: 0.0211 - sparse_categorical_accuracy: 0.9934\n",
            "Epoch 38/40\n",
            "200/200 [==============================] - 5s 23ms/step - loss: 0.0218 - sparse_categorical_accuracy: 0.9931\n",
            "Epoch 39/40\n",
            "200/200 [==============================] - 5s 23ms/step - loss: 0.0221 - sparse_categorical_accuracy: 0.9934\n",
            "Epoch 40/40\n",
            "200/200 [==============================] - 5s 23ms/step - loss: 0.0231 - sparse_categorical_accuracy: 0.9927\n"
          ],
          "name": "stdout"
        },
        {
          "output_type": "execute_result",
          "data": {
            "text/plain": [
              "<tensorflow.python.keras.callbacks.History at 0x7fd5dd958d10>"
            ]
          },
          "metadata": {
            "tags": []
          },
          "execution_count": 21
        }
      ]
    },
    {
      "cell_type": "code",
      "metadata": {
        "colab": {
          "base_uri": "https://localhost:8080/"
        },
        "id": "PQJR0h_byrpG",
        "outputId": "cedd7937-a466-4084-fd73-eaf80c27497d"
      },
      "source": [
        "test_loss, test_acc = model.evaluate(x_test.astype(np.float32), y_test.astype(np.float32), verbose=1) \n",
        "\n",
        "print('Test accuracy:', test_acc)"
      ],
      "execution_count": null,
      "outputs": [
        {
          "output_type": "stream",
          "text": [
            "313/313 [==============================] - 6s 17ms/step - loss: 0.4556 - sparse_categorical_accuracy: 0.9302\n",
            "Test accuracy: 0.9301999807357788\n"
          ],
          "name": "stdout"
        }
      ]
    },
    {
      "cell_type": "code",
      "metadata": {
        "colab": {
          "base_uri": "https://localhost:8080/"
        },
        "id": "7vCocA2NyYzw",
        "outputId": "d6f6082e-9108-4682-cb39-413c2fc2db16"
      },
      "source": [
        "model.fit(\n",
        "    x_train.astype(np.float32), y_train.astype(np.float32),\n",
        "    epochs=100,\n",
        "    steps_per_epoch=200,\n",
        "    validation_freq=17\n",
        ")"
      ],
      "execution_count": null,
      "outputs": [
        {
          "output_type": "stream",
          "text": [
            "Epoch 1/100\n",
            "200/200 [==============================] - 4s 22ms/step - loss: 0.0213 - sparse_categorical_accuracy: 0.9933\n",
            "Epoch 2/100\n",
            "200/200 [==============================] - 4s 22ms/step - loss: 0.0222 - sparse_categorical_accuracy: 0.9927\n",
            "Epoch 3/100\n",
            "200/200 [==============================] - 4s 22ms/step - loss: 0.0172 - sparse_categorical_accuracy: 0.9942\n",
            "Epoch 4/100\n",
            "200/200 [==============================] - 5s 23ms/step - loss: 0.0165 - sparse_categorical_accuracy: 0.9945\n",
            "Epoch 5/100\n",
            "200/200 [==============================] - 5s 23ms/step - loss: 0.0206 - sparse_categorical_accuracy: 0.9940\n",
            "Epoch 6/100\n",
            "200/200 [==============================] - 5s 23ms/step - loss: 0.0203 - sparse_categorical_accuracy: 0.9935\n",
            "Epoch 7/100\n",
            "200/200 [==============================] - 5s 23ms/step - loss: 0.0202 - sparse_categorical_accuracy: 0.9935\n",
            "Epoch 8/100\n",
            "200/200 [==============================] - 4s 22ms/step - loss: 0.0243 - sparse_categorical_accuracy: 0.9929\n",
            "Epoch 9/100\n",
            "200/200 [==============================] - 5s 23ms/step - loss: 0.0181 - sparse_categorical_accuracy: 0.9941\n",
            "Epoch 10/100\n",
            "200/200 [==============================] - 5s 23ms/step - loss: 0.0190 - sparse_categorical_accuracy: 0.9936\n",
            "Epoch 11/100\n",
            "200/200 [==============================] - 5s 23ms/step - loss: 0.0187 - sparse_categorical_accuracy: 0.9939\n",
            "Epoch 12/100\n",
            "200/200 [==============================] - 5s 23ms/step - loss: 0.0182 - sparse_categorical_accuracy: 0.9945\n",
            "Epoch 13/100\n",
            "200/200 [==============================] - 5s 23ms/step - loss: 0.0193 - sparse_categorical_accuracy: 0.9940\n",
            "Epoch 14/100\n",
            "200/200 [==============================] - 5s 23ms/step - loss: 0.0208 - sparse_categorical_accuracy: 0.9934\n",
            "Epoch 15/100\n",
            "200/200 [==============================] - 5s 23ms/step - loss: 0.0182 - sparse_categorical_accuracy: 0.9942\n",
            "Epoch 16/100\n",
            "200/200 [==============================] - 4s 22ms/step - loss: 0.0199 - sparse_categorical_accuracy: 0.9939\n",
            "Epoch 17/100\n",
            "200/200 [==============================] - 5s 23ms/step - loss: 0.0202 - sparse_categorical_accuracy: 0.9943\n",
            "Epoch 18/100\n",
            "200/200 [==============================] - 4s 22ms/step - loss: 0.0222 - sparse_categorical_accuracy: 0.9930\n",
            "Epoch 19/100\n",
            "200/200 [==============================] - 5s 23ms/step - loss: 0.0209 - sparse_categorical_accuracy: 0.9937\n",
            "Epoch 20/100\n",
            "200/200 [==============================] - 5s 23ms/step - loss: 0.0200 - sparse_categorical_accuracy: 0.9937\n",
            "Epoch 21/100\n",
            "200/200 [==============================] - 5s 23ms/step - loss: 0.0209 - sparse_categorical_accuracy: 0.9934\n",
            "Epoch 22/100\n",
            "200/200 [==============================] - 5s 23ms/step - loss: 0.0176 - sparse_categorical_accuracy: 0.9944\n",
            "Epoch 23/100\n",
            "200/200 [==============================] - 5s 23ms/step - loss: 0.0172 - sparse_categorical_accuracy: 0.9945\n",
            "Epoch 24/100\n",
            "200/200 [==============================] - 5s 23ms/step - loss: 0.0202 - sparse_categorical_accuracy: 0.9938\n",
            "Epoch 25/100\n",
            "200/200 [==============================] - 5s 23ms/step - loss: 0.0200 - sparse_categorical_accuracy: 0.9937\n",
            "Epoch 26/100\n",
            "200/200 [==============================] - 5s 23ms/step - loss: 0.0178 - sparse_categorical_accuracy: 0.9943\n",
            "Epoch 27/100\n",
            "200/200 [==============================] - 4s 22ms/step - loss: 0.0168 - sparse_categorical_accuracy: 0.9944\n",
            "Epoch 28/100\n",
            "200/200 [==============================] - 5s 23ms/step - loss: 0.0196 - sparse_categorical_accuracy: 0.9935\n",
            "Epoch 29/100\n",
            "200/200 [==============================] - 5s 23ms/step - loss: 0.0163 - sparse_categorical_accuracy: 0.9945\n",
            "Epoch 30/100\n",
            "200/200 [==============================] - 5s 23ms/step - loss: 0.0228 - sparse_categorical_accuracy: 0.9931\n",
            "Epoch 31/100\n",
            "200/200 [==============================] - 5s 23ms/step - loss: 0.0158 - sparse_categorical_accuracy: 0.9950\n",
            "Epoch 32/100\n",
            "200/200 [==============================] - 5s 23ms/step - loss: 0.0173 - sparse_categorical_accuracy: 0.9946\n",
            "Epoch 33/100\n",
            "200/200 [==============================] - 5s 23ms/step - loss: 0.0205 - sparse_categorical_accuracy: 0.9939\n",
            "Epoch 34/100\n",
            "200/200 [==============================] - 5s 23ms/step - loss: 0.0166 - sparse_categorical_accuracy: 0.9943\n",
            "Epoch 35/100\n",
            "200/200 [==============================] - 5s 23ms/step - loss: 0.0175 - sparse_categorical_accuracy: 0.9942\n",
            "Epoch 36/100\n",
            "200/200 [==============================] - 4s 22ms/step - loss: 0.0169 - sparse_categorical_accuracy: 0.9951\n",
            "Epoch 37/100\n",
            "200/200 [==============================] - 4s 22ms/step - loss: 0.0202 - sparse_categorical_accuracy: 0.9939\n",
            "Epoch 38/100\n",
            "200/200 [==============================] - 5s 23ms/step - loss: 0.0178 - sparse_categorical_accuracy: 0.9946\n",
            "Epoch 39/100\n",
            "200/200 [==============================] - 5s 23ms/step - loss: 0.0169 - sparse_categorical_accuracy: 0.9945\n",
            "Epoch 40/100\n",
            "200/200 [==============================] - 5s 23ms/step - loss: 0.0175 - sparse_categorical_accuracy: 0.9949\n",
            "Epoch 41/100\n",
            "200/200 [==============================] - 5s 23ms/step - loss: 0.0224 - sparse_categorical_accuracy: 0.9936\n",
            "Epoch 42/100\n",
            "200/200 [==============================] - 5s 23ms/step - loss: 0.0191 - sparse_categorical_accuracy: 0.9945\n",
            "Epoch 43/100\n",
            "200/200 [==============================] - 5s 23ms/step - loss: 0.0169 - sparse_categorical_accuracy: 0.9951\n",
            "Epoch 44/100\n",
            "200/200 [==============================] - 5s 23ms/step - loss: 0.0151 - sparse_categorical_accuracy: 0.9950\n",
            "Epoch 45/100\n",
            "200/200 [==============================] - 5s 23ms/step - loss: 0.0194 - sparse_categorical_accuracy: 0.9942\n",
            "Epoch 46/100\n",
            "200/200 [==============================] - 5s 23ms/step - loss: 0.0160 - sparse_categorical_accuracy: 0.9953\n",
            "Epoch 47/100\n",
            "200/200 [==============================] - 4s 22ms/step - loss: 0.0158 - sparse_categorical_accuracy: 0.9949\n",
            "Epoch 48/100\n",
            "200/200 [==============================] - 5s 23ms/step - loss: 0.0179 - sparse_categorical_accuracy: 0.9948\n",
            "Epoch 49/100\n",
            "200/200 [==============================] - 5s 23ms/step - loss: 0.0181 - sparse_categorical_accuracy: 0.9940\n",
            "Epoch 50/100\n",
            "200/200 [==============================] - 5s 23ms/step - loss: 0.0178 - sparse_categorical_accuracy: 0.9948\n",
            "Epoch 51/100\n",
            "200/200 [==============================] - 5s 23ms/step - loss: 0.0187 - sparse_categorical_accuracy: 0.9946\n",
            "Epoch 52/100\n",
            "200/200 [==============================] - 5s 23ms/step - loss: 0.0166 - sparse_categorical_accuracy: 0.9952\n",
            "Epoch 53/100\n",
            "200/200 [==============================] - 5s 23ms/step - loss: 0.0159 - sparse_categorical_accuracy: 0.9948\n",
            "Epoch 54/100\n",
            "200/200 [==============================] - 5s 23ms/step - loss: 0.0169 - sparse_categorical_accuracy: 0.9949\n",
            "Epoch 55/100\n",
            "200/200 [==============================] - 5s 23ms/step - loss: 0.0164 - sparse_categorical_accuracy: 0.9945\n",
            "Epoch 56/100\n",
            "200/200 [==============================] - 5s 23ms/step - loss: 0.0162 - sparse_categorical_accuracy: 0.9950\n",
            "Epoch 57/100\n",
            "200/200 [==============================] - 5s 23ms/step - loss: 0.0164 - sparse_categorical_accuracy: 0.9947\n",
            "Epoch 58/100\n",
            "200/200 [==============================] - 5s 23ms/step - loss: 0.0166 - sparse_categorical_accuracy: 0.9949\n",
            "Epoch 59/100\n",
            "200/200 [==============================] - 4s 22ms/step - loss: 0.0174 - sparse_categorical_accuracy: 0.9949\n",
            "Epoch 60/100\n",
            "200/200 [==============================] - 5s 23ms/step - loss: 0.0162 - sparse_categorical_accuracy: 0.9949\n",
            "Epoch 61/100\n",
            "200/200 [==============================] - 5s 23ms/step - loss: 0.0185 - sparse_categorical_accuracy: 0.9945\n",
            "Epoch 62/100\n",
            "200/200 [==============================] - 5s 23ms/step - loss: 0.0163 - sparse_categorical_accuracy: 0.9946\n",
            "Epoch 63/100\n",
            "200/200 [==============================] - 5s 23ms/step - loss: 0.0151 - sparse_categorical_accuracy: 0.9950\n",
            "Epoch 64/100\n",
            "200/200 [==============================] - 5s 23ms/step - loss: 0.0176 - sparse_categorical_accuracy: 0.9948\n",
            "Epoch 65/100\n",
            "200/200 [==============================] - 5s 23ms/step - loss: 0.0156 - sparse_categorical_accuracy: 0.9950\n",
            "Epoch 66/100\n",
            "200/200 [==============================] - 5s 23ms/step - loss: 0.0176 - sparse_categorical_accuracy: 0.9946\n",
            "Epoch 67/100\n",
            "200/200 [==============================] - 5s 23ms/step - loss: 0.0148 - sparse_categorical_accuracy: 0.9951\n",
            "Epoch 68/100\n",
            "200/200 [==============================] - 5s 23ms/step - loss: 0.0190 - sparse_categorical_accuracy: 0.9949\n",
            "Epoch 69/100\n",
            "200/200 [==============================] - 5s 23ms/step - loss: 0.0155 - sparse_categorical_accuracy: 0.9952\n",
            "Epoch 70/100\n",
            "200/200 [==============================] - 5s 23ms/step - loss: 0.0151 - sparse_categorical_accuracy: 0.9954\n",
            "Epoch 71/100\n",
            "200/200 [==============================] - 5s 24ms/step - loss: 0.0185 - sparse_categorical_accuracy: 0.9946\n",
            "Epoch 72/100\n",
            "200/200 [==============================] - 5s 23ms/step - loss: 0.0146 - sparse_categorical_accuracy: 0.9954\n",
            "Epoch 73/100\n",
            "200/200 [==============================] - 5s 23ms/step - loss: 0.0178 - sparse_categorical_accuracy: 0.9948\n",
            "Epoch 74/100\n",
            "200/200 [==============================] - 5s 24ms/step - loss: 0.0157 - sparse_categorical_accuracy: 0.9952\n",
            "Epoch 75/100\n",
            "200/200 [==============================] - 5s 23ms/step - loss: 0.0195 - sparse_categorical_accuracy: 0.9941\n",
            "Epoch 76/100\n",
            "200/200 [==============================] - 5s 23ms/step - loss: 0.0159 - sparse_categorical_accuracy: 0.9947\n",
            "Epoch 77/100\n",
            "200/200 [==============================] - 5s 23ms/step - loss: 0.0166 - sparse_categorical_accuracy: 0.9949\n",
            "Epoch 78/100\n",
            "200/200 [==============================] - 5s 23ms/step - loss: 0.0181 - sparse_categorical_accuracy: 0.9948\n",
            "Epoch 79/100\n",
            "200/200 [==============================] - 5s 23ms/step - loss: 0.0139 - sparse_categorical_accuracy: 0.9954\n",
            "Epoch 80/100\n",
            "200/200 [==============================] - 5s 23ms/step - loss: 0.0172 - sparse_categorical_accuracy: 0.9949\n",
            "Epoch 81/100\n",
            "200/200 [==============================] - 5s 23ms/step - loss: 0.0156 - sparse_categorical_accuracy: 0.9954\n",
            "Epoch 82/100\n",
            "200/200 [==============================] - 4s 22ms/step - loss: 0.0151 - sparse_categorical_accuracy: 0.9952\n",
            "Epoch 83/100\n",
            "200/200 [==============================] - 4s 22ms/step - loss: 0.0153 - sparse_categorical_accuracy: 0.9955\n",
            "Epoch 84/100\n",
            "200/200 [==============================] - 5s 23ms/step - loss: 0.0159 - sparse_categorical_accuracy: 0.9952\n",
            "Epoch 85/100\n",
            "200/200 [==============================] - 5s 23ms/step - loss: 0.0138 - sparse_categorical_accuracy: 0.9956\n",
            "Epoch 86/100\n",
            "200/200 [==============================] - 5s 23ms/step - loss: 0.0147 - sparse_categorical_accuracy: 0.9956\n",
            "Epoch 87/100\n",
            "200/200 [==============================] - 5s 23ms/step - loss: 0.0123 - sparse_categorical_accuracy: 0.9961\n",
            "Epoch 88/100\n",
            "200/200 [==============================] - 5s 23ms/step - loss: 0.0168 - sparse_categorical_accuracy: 0.9948\n",
            "Epoch 89/100\n",
            "200/200 [==============================] - 5s 23ms/step - loss: 0.0146 - sparse_categorical_accuracy: 0.9955\n",
            "Epoch 90/100\n",
            "200/200 [==============================] - 5s 24ms/step - loss: 0.0172 - sparse_categorical_accuracy: 0.9947\n",
            "Epoch 91/100\n",
            "200/200 [==============================] - 5s 23ms/step - loss: 0.0157 - sparse_categorical_accuracy: 0.9952\n",
            "Epoch 92/100\n",
            "200/200 [==============================] - 5s 23ms/step - loss: 0.0178 - sparse_categorical_accuracy: 0.9944\n",
            "Epoch 93/100\n",
            "200/200 [==============================] - 5s 23ms/step - loss: 0.0168 - sparse_categorical_accuracy: 0.9951\n",
            "Epoch 94/100\n",
            "200/200 [==============================] - 5s 23ms/step - loss: 0.0164 - sparse_categorical_accuracy: 0.9951\n",
            "Epoch 95/100\n",
            "200/200 [==============================] - 5s 23ms/step - loss: 0.0134 - sparse_categorical_accuracy: 0.9958\n",
            "Epoch 96/100\n",
            "200/200 [==============================] - 5s 23ms/step - loss: 0.0140 - sparse_categorical_accuracy: 0.9958\n",
            "Epoch 97/100\n",
            "200/200 [==============================] - 5s 23ms/step - loss: 0.0139 - sparse_categorical_accuracy: 0.9956\n",
            "Epoch 98/100\n",
            "200/200 [==============================] - 5s 24ms/step - loss: 0.0135 - sparse_categorical_accuracy: 0.9960\n",
            "Epoch 99/100\n",
            "200/200 [==============================] - 5s 23ms/step - loss: 0.0152 - sparse_categorical_accuracy: 0.9955\n",
            "Epoch 100/100\n",
            "200/200 [==============================] - 5s 23ms/step - loss: 0.0149 - sparse_categorical_accuracy: 0.9953\n"
          ],
          "name": "stdout"
        },
        {
          "output_type": "execute_result",
          "data": {
            "text/plain": [
              "<tensorflow.python.keras.callbacks.History at 0x7fd5dd9d3d50>"
            ]
          },
          "metadata": {
            "tags": []
          },
          "execution_count": 23
        }
      ]
    },
    {
      "cell_type": "code",
      "metadata": {
        "colab": {
          "base_uri": "https://localhost:8080/"
        },
        "id": "ocIbO8J5yrYW",
        "outputId": "140b020d-aa5d-44f4-fbf4-eeda986347f0"
      },
      "source": [
        "test_loss, test_acc = model.evaluate(x_test.astype(np.float32), y_test.astype(np.float32), verbose=1) \n",
        "\n",
        "print('Test accuracy:', test_acc)"
      ],
      "execution_count": null,
      "outputs": [
        {
          "output_type": "stream",
          "text": [
            "313/313 [==============================] - 6s 18ms/step - loss: 0.5441 - sparse_categorical_accuracy: 0.9334\n",
            "Test accuracy: 0.9333999752998352\n"
          ],
          "name": "stdout"
        }
      ]
    },
    {
      "cell_type": "code",
      "metadata": {
        "colab": {
          "base_uri": "https://localhost:8080/"
        },
        "id": "0nODv9IUyYwv",
        "outputId": "e095a86b-6379-4ec1-dbd4-43797dcd306c"
      },
      "source": [
        "model.fit(\n",
        "    x_train.astype(np.float32), y_train.astype(np.float32),\n",
        "    epochs=5,\n",
        "    steps_per_epoch=500,\n",
        "    validation_freq=17\n",
        ")"
      ],
      "execution_count": null,
      "outputs": [
        {
          "output_type": "stream",
          "text": [
            "Epoch 1/5\n",
            "500/500 [==============================] - 13s 20ms/step - loss: 0.0500 - sparse_categorical_accuracy: 0.9859\n",
            "Epoch 2/5\n",
            "500/500 [==============================] - 10s 20ms/step - loss: 0.0382 - sparse_categorical_accuracy: 0.9886\n",
            "Epoch 3/5\n",
            "500/500 [==============================] - 10s 20ms/step - loss: 0.0367 - sparse_categorical_accuracy: 0.9889\n",
            "Epoch 4/5\n",
            "500/500 [==============================] - 10s 20ms/step - loss: 0.0313 - sparse_categorical_accuracy: 0.9905\n",
            "Epoch 5/5\n",
            "500/500 [==============================] - 10s 20ms/step - loss: 0.0295 - sparse_categorical_accuracy: 0.9906\n"
          ],
          "name": "stdout"
        },
        {
          "output_type": "execute_result",
          "data": {
            "text/plain": [
              "<tensorflow.python.keras.callbacks.History at 0x7fd5de6f4390>"
            ]
          },
          "metadata": {
            "tags": []
          },
          "execution_count": 25
        }
      ]
    },
    {
      "cell_type": "code",
      "metadata": {
        "colab": {
          "base_uri": "https://localhost:8080/"
        },
        "id": "eo8drpfhyq5O",
        "outputId": "dfa34528-3a3f-4c7f-9a46-77600718ee5a"
      },
      "source": [
        "test_loss, test_acc = model.evaluate(x_test.astype(np.float32), y_test.astype(np.float32), verbose=1) \n",
        "\n",
        "print('Test accuracy:', test_acc)"
      ],
      "execution_count": null,
      "outputs": [
        {
          "output_type": "stream",
          "text": [
            "313/313 [==============================] - 6s 17ms/step - loss: 0.4922 - sparse_categorical_accuracy: 0.9309\n",
            "Test accuracy: 0.930899977684021\n"
          ],
          "name": "stdout"
        }
      ]
    },
    {
      "cell_type": "code",
      "metadata": {
        "colab": {
          "base_uri": "https://localhost:8080/"
        },
        "id": "Iny4ZW-QyinD",
        "outputId": "3ea9bfce-45bd-42bb-9344-7e81d260c3c8"
      },
      "source": [
        "model.fit(\n",
        "    x_train.astype(np.float32), y_train.astype(np.float32),\n",
        "    epochs=10,\n",
        "    steps_per_epoch=500,\n",
        "    validation_freq=17\n",
        ")"
      ],
      "execution_count": null,
      "outputs": [
        {
          "output_type": "stream",
          "text": [
            "Epoch 1/10\n",
            "500/500 [==============================] - 10s 21ms/step - loss: 0.0335 - sparse_categorical_accuracy: 0.9903\n",
            "Epoch 2/10\n",
            "500/500 [==============================] - 10s 21ms/step - loss: 0.0295 - sparse_categorical_accuracy: 0.9910\n",
            "Epoch 3/10\n",
            "500/500 [==============================] - 10s 20ms/step - loss: 0.0292 - sparse_categorical_accuracy: 0.9915\n",
            "Epoch 4/10\n",
            "500/500 [==============================] - 10s 20ms/step - loss: 0.0275 - sparse_categorical_accuracy: 0.9919\n",
            "Epoch 5/10\n",
            "500/500 [==============================] - 10s 21ms/step - loss: 0.0298 - sparse_categorical_accuracy: 0.9913\n",
            "Epoch 6/10\n",
            "500/500 [==============================] - 10s 20ms/step - loss: 0.0291 - sparse_categorical_accuracy: 0.9912\n",
            "Epoch 7/10\n",
            "500/500 [==============================] - 10s 20ms/step - loss: 0.0327 - sparse_categorical_accuracy: 0.9903\n",
            "Epoch 8/10\n",
            "500/500 [==============================] - 10s 20ms/step - loss: 0.0264 - sparse_categorical_accuracy: 0.9915\n",
            "Epoch 9/10\n",
            "500/500 [==============================] - 10s 20ms/step - loss: 0.0305 - sparse_categorical_accuracy: 0.9908\n",
            "Epoch 10/10\n",
            "500/500 [==============================] - 10s 21ms/step - loss: 0.0273 - sparse_categorical_accuracy: 0.9917\n"
          ],
          "name": "stdout"
        },
        {
          "output_type": "execute_result",
          "data": {
            "text/plain": [
              "<tensorflow.python.keras.callbacks.History at 0x7fd5de0dcf50>"
            ]
          },
          "metadata": {
            "tags": []
          },
          "execution_count": 27
        }
      ]
    },
    {
      "cell_type": "code",
      "metadata": {
        "colab": {
          "base_uri": "https://localhost:8080/"
        },
        "id": "WI4pzfb3yqjG",
        "outputId": "515d74f3-31e1-4878-d4c6-ba8a902b67f5"
      },
      "source": [
        "test_loss, test_acc = model.evaluate(x_test.astype(np.float32), y_test.astype(np.float32), verbose=1) \n",
        "\n",
        "print('Test accuracy:', test_acc)"
      ],
      "execution_count": null,
      "outputs": [
        {
          "output_type": "stream",
          "text": [
            "313/313 [==============================] - 6s 17ms/step - loss: 0.5060 - sparse_categorical_accuracy: 0.9315\n",
            "Test accuracy: 0.9314999580383301\n"
          ],
          "name": "stdout"
        }
      ]
    },
    {
      "cell_type": "code",
      "metadata": {
        "colab": {
          "base_uri": "https://localhost:8080/"
        },
        "id": "19ieUAYyyieh",
        "outputId": "996b8173-fc5b-4409-fc1d-942c0daeaed3"
      },
      "source": [
        "model.fit(\n",
        "    x_train.astype(np.float32), y_train.astype(np.float32),\n",
        "    epochs=20,\n",
        "    steps_per_epoch=500,\n",
        "    validation_freq=17\n",
        ")"
      ],
      "execution_count": null,
      "outputs": [
        {
          "output_type": "stream",
          "text": [
            "Epoch 1/20\n",
            "500/500 [==============================] - 10s 20ms/step - loss: 0.0282 - sparse_categorical_accuracy: 0.9920\n",
            "Epoch 2/20\n",
            "500/500 [==============================] - 10s 20ms/step - loss: 0.0267 - sparse_categorical_accuracy: 0.9914\n",
            "Epoch 3/20\n",
            "500/500 [==============================] - 10s 21ms/step - loss: 0.0261 - sparse_categorical_accuracy: 0.9918\n",
            "Epoch 4/20\n",
            "500/500 [==============================] - 10s 21ms/step - loss: 0.0288 - sparse_categorical_accuracy: 0.9914\n",
            "Epoch 5/20\n",
            "500/500 [==============================] - 10s 21ms/step - loss: 0.0289 - sparse_categorical_accuracy: 0.9909\n",
            "Epoch 6/20\n",
            "500/500 [==============================] - 10s 21ms/step - loss: 0.0295 - sparse_categorical_accuracy: 0.9910\n",
            "Epoch 7/20\n",
            "500/500 [==============================] - 10s 21ms/step - loss: 0.0280 - sparse_categorical_accuracy: 0.9912\n",
            "Epoch 8/20\n",
            "500/500 [==============================] - 10s 21ms/step - loss: 0.0269 - sparse_categorical_accuracy: 0.9918\n",
            "Epoch 9/20\n",
            "500/500 [==============================] - 11s 21ms/step - loss: 0.0279 - sparse_categorical_accuracy: 0.9908\n",
            "Epoch 10/20\n",
            "500/500 [==============================] - 11s 22ms/step - loss: 0.0317 - sparse_categorical_accuracy: 0.9908\n",
            "Epoch 11/20\n",
            "500/500 [==============================] - 11s 22ms/step - loss: 0.0275 - sparse_categorical_accuracy: 0.9919\n",
            "Epoch 12/20\n",
            "500/500 [==============================] - 11s 21ms/step - loss: 0.0298 - sparse_categorical_accuracy: 0.9911\n",
            "Epoch 13/20\n",
            "500/500 [==============================] - 11s 21ms/step - loss: 0.0252 - sparse_categorical_accuracy: 0.9924\n",
            "Epoch 14/20\n",
            "500/500 [==============================] - 10s 21ms/step - loss: 0.0251 - sparse_categorical_accuracy: 0.9920\n",
            "Epoch 15/20\n",
            "500/500 [==============================] - 10s 21ms/step - loss: 0.0265 - sparse_categorical_accuracy: 0.9920\n",
            "Epoch 16/20\n",
            "500/500 [==============================] - 10s 20ms/step - loss: 0.0254 - sparse_categorical_accuracy: 0.9920\n",
            "Epoch 17/20\n",
            "500/500 [==============================] - 10s 21ms/step - loss: 0.0275 - sparse_categorical_accuracy: 0.9914\n",
            "Epoch 18/20\n",
            "500/500 [==============================] - 10s 20ms/step - loss: 0.0272 - sparse_categorical_accuracy: 0.9916\n",
            "Epoch 19/20\n",
            "500/500 [==============================] - 10s 20ms/step - loss: 0.0255 - sparse_categorical_accuracy: 0.9925\n",
            "Epoch 20/20\n",
            "500/500 [==============================] - 10s 20ms/step - loss: 0.0302 - sparse_categorical_accuracy: 0.9913\n"
          ],
          "name": "stdout"
        },
        {
          "output_type": "execute_result",
          "data": {
            "text/plain": [
              "<tensorflow.python.keras.callbacks.History at 0x7fd5de0d2a10>"
            ]
          },
          "metadata": {
            "tags": []
          },
          "execution_count": 29
        }
      ]
    },
    {
      "cell_type": "code",
      "metadata": {
        "colab": {
          "base_uri": "https://localhost:8080/"
        },
        "id": "UvCiF2wayqO3",
        "outputId": "43b74f2a-fb78-4ef4-956c-5c6392154096"
      },
      "source": [
        "test_loss, test_acc = model.evaluate(x_test.astype(np.float32), y_test.astype(np.float32), verbose=1) \n",
        "\n",
        "print('Test accuracy:', test_acc)"
      ],
      "execution_count": null,
      "outputs": [
        {
          "output_type": "stream",
          "text": [
            "313/313 [==============================] - 6s 17ms/step - loss: 0.4846 - sparse_categorical_accuracy: 0.9296\n",
            "Test accuracy: 0.9296000003814697\n"
          ],
          "name": "stdout"
        }
      ]
    },
    {
      "cell_type": "code",
      "metadata": {
        "colab": {
          "base_uri": "https://localhost:8080/"
        },
        "id": "7yvRx5kGyiVq",
        "outputId": "854011f9-e05b-4586-a3c2-e52449fcd04e"
      },
      "source": [
        "model.fit(\n",
        "    x_train.astype(np.float32), y_train.astype(np.float32),\n",
        "    epochs=40,\n",
        "    steps_per_epoch=500,\n",
        "    validation_freq=17\n",
        ")"
      ],
      "execution_count": null,
      "outputs": [
        {
          "output_type": "stream",
          "text": [
            "Epoch 1/40\n",
            "500/500 [==============================] - 10s 21ms/step - loss: 0.0263 - sparse_categorical_accuracy: 0.9924\n",
            "Epoch 2/40\n",
            "500/500 [==============================] - 10s 21ms/step - loss: 0.0240 - sparse_categorical_accuracy: 0.9926\n",
            "Epoch 3/40\n",
            "500/500 [==============================] - 10s 20ms/step - loss: 0.0260 - sparse_categorical_accuracy: 0.9917\n",
            "Epoch 4/40\n",
            "500/500 [==============================] - 10s 21ms/step - loss: 0.0220 - sparse_categorical_accuracy: 0.9928\n",
            "Epoch 5/40\n",
            "500/500 [==============================] - 10s 21ms/step - loss: 0.0289 - sparse_categorical_accuracy: 0.9914\n",
            "Epoch 6/40\n",
            "500/500 [==============================] - 10s 20ms/step - loss: 0.0267 - sparse_categorical_accuracy: 0.9919\n",
            "Epoch 7/40\n",
            "500/500 [==============================] - 10s 21ms/step - loss: 0.0251 - sparse_categorical_accuracy: 0.9928\n",
            "Epoch 8/40\n",
            "500/500 [==============================] - 10s 20ms/step - loss: 0.0265 - sparse_categorical_accuracy: 0.9919\n",
            "Epoch 9/40\n",
            "500/500 [==============================] - 10s 20ms/step - loss: 0.0241 - sparse_categorical_accuracy: 0.9929\n",
            "Epoch 10/40\n",
            "500/500 [==============================] - 10s 20ms/step - loss: 0.0261 - sparse_categorical_accuracy: 0.9924\n",
            "Epoch 11/40\n",
            "500/500 [==============================] - 10s 21ms/step - loss: 0.0249 - sparse_categorical_accuracy: 0.9919\n",
            "Epoch 12/40\n",
            "500/500 [==============================] - 10s 21ms/step - loss: 0.0246 - sparse_categorical_accuracy: 0.9925\n",
            "Epoch 13/40\n",
            "500/500 [==============================] - 10s 21ms/step - loss: 0.0263 - sparse_categorical_accuracy: 0.9926\n",
            "Epoch 14/40\n",
            "500/500 [==============================] - 10s 21ms/step - loss: 0.0255 - sparse_categorical_accuracy: 0.9924\n",
            "Epoch 15/40\n",
            "500/500 [==============================] - 10s 21ms/step - loss: 0.0235 - sparse_categorical_accuracy: 0.9930\n",
            "Epoch 16/40\n",
            "500/500 [==============================] - 10s 21ms/step - loss: 0.0280 - sparse_categorical_accuracy: 0.9915\n",
            "Epoch 17/40\n",
            "500/500 [==============================] - 10s 21ms/step - loss: 0.0266 - sparse_categorical_accuracy: 0.9920\n",
            "Epoch 18/40\n",
            "500/500 [==============================] - 10s 21ms/step - loss: 0.0251 - sparse_categorical_accuracy: 0.9924\n",
            "Epoch 19/40\n",
            "500/500 [==============================] - 10s 21ms/step - loss: 0.0259 - sparse_categorical_accuracy: 0.9922\n",
            "Epoch 20/40\n",
            "500/500 [==============================] - 10s 21ms/step - loss: 0.0216 - sparse_categorical_accuracy: 0.9933\n",
            "Epoch 21/40\n",
            "500/500 [==============================] - 10s 21ms/step - loss: 0.0221 - sparse_categorical_accuracy: 0.9936\n",
            "Epoch 22/40\n",
            "500/500 [==============================] - 10s 21ms/step - loss: 0.0250 - sparse_categorical_accuracy: 0.9923\n",
            "Epoch 23/40\n",
            "500/500 [==============================] - 10s 21ms/step - loss: 0.0246 - sparse_categorical_accuracy: 0.9927\n",
            "Epoch 24/40\n",
            "500/500 [==============================] - 10s 21ms/step - loss: 0.0262 - sparse_categorical_accuracy: 0.9921\n",
            "Epoch 25/40\n",
            "500/500 [==============================] - 10s 20ms/step - loss: 0.0238 - sparse_categorical_accuracy: 0.9928\n",
            "Epoch 26/40\n",
            "500/500 [==============================] - 10s 20ms/step - loss: 0.0263 - sparse_categorical_accuracy: 0.9920\n",
            "Epoch 27/40\n",
            "500/500 [==============================] - 10s 20ms/step - loss: 0.0251 - sparse_categorical_accuracy: 0.9928\n",
            "Epoch 28/40\n",
            "500/500 [==============================] - 10s 21ms/step - loss: 0.0206 - sparse_categorical_accuracy: 0.9937\n",
            "Epoch 29/40\n",
            "500/500 [==============================] - 10s 21ms/step - loss: 0.0213 - sparse_categorical_accuracy: 0.9937\n",
            "Epoch 30/40\n",
            "500/500 [==============================] - 10s 21ms/step - loss: 0.0243 - sparse_categorical_accuracy: 0.9925\n",
            "Epoch 31/40\n",
            "500/500 [==============================] - 10s 21ms/step - loss: 0.0219 - sparse_categorical_accuracy: 0.9931\n",
            "Epoch 32/40\n",
            "500/500 [==============================] - 10s 21ms/step - loss: 0.0247 - sparse_categorical_accuracy: 0.9926\n",
            "Epoch 33/40\n",
            "500/500 [==============================] - 10s 21ms/step - loss: 0.0233 - sparse_categorical_accuracy: 0.9927\n",
            "Epoch 34/40\n",
            "500/500 [==============================] - 10s 21ms/step - loss: 0.0248 - sparse_categorical_accuracy: 0.9925\n",
            "Epoch 35/40\n",
            "500/500 [==============================] - 10s 21ms/step - loss: 0.0230 - sparse_categorical_accuracy: 0.9928\n",
            "Epoch 36/40\n",
            "500/500 [==============================] - 10s 21ms/step - loss: 0.0220 - sparse_categorical_accuracy: 0.9934\n",
            "Epoch 37/40\n",
            "500/500 [==============================] - 10s 21ms/step - loss: 0.0227 - sparse_categorical_accuracy: 0.9934\n",
            "Epoch 38/40\n",
            "500/500 [==============================] - 10s 21ms/step - loss: 0.0230 - sparse_categorical_accuracy: 0.9932\n",
            "Epoch 39/40\n",
            "500/500 [==============================] - 10s 21ms/step - loss: 0.0214 - sparse_categorical_accuracy: 0.9934\n",
            "Epoch 40/40\n",
            "500/500 [==============================] - 10s 21ms/step - loss: 0.0242 - sparse_categorical_accuracy: 0.9929\n"
          ],
          "name": "stdout"
        },
        {
          "output_type": "execute_result",
          "data": {
            "text/plain": [
              "<tensorflow.python.keras.callbacks.History at 0x7fd5dd98d290>"
            ]
          },
          "metadata": {
            "tags": []
          },
          "execution_count": 31
        }
      ]
    },
    {
      "cell_type": "code",
      "metadata": {
        "colab": {
          "base_uri": "https://localhost:8080/"
        },
        "id": "VOMETb2Rypol",
        "outputId": "54c78578-a762-409a-84e9-e274819d85fa"
      },
      "source": [
        "test_loss, test_acc = model.evaluate(x_test.astype(np.float32), y_test.astype(np.float32), verbose=1) \n",
        "\n",
        "print('Test accuracy:', test_acc)"
      ],
      "execution_count": null,
      "outputs": [
        {
          "output_type": "stream",
          "text": [
            "313/313 [==============================] - 6s 17ms/step - loss: 0.4767 - sparse_categorical_accuracy: 0.9301\n",
            "Test accuracy: 0.9300999641418457\n"
          ],
          "name": "stdout"
        }
      ]
    },
    {
      "cell_type": "code",
      "metadata": {
        "colab": {
          "base_uri": "https://localhost:8080/"
        },
        "id": "Ntdn2zQCyiNa",
        "outputId": "dc2240b6-1cfd-42f0-c5c8-cf800899cc94"
      },
      "source": [
        "model.fit(\n",
        "    x_train.astype(np.float32), y_train.astype(np.float32),\n",
        "    epochs=100,\n",
        "    steps_per_epoch=500,\n",
        "    validation_freq=17\n",
        ")"
      ],
      "execution_count": null,
      "outputs": [
        {
          "output_type": "stream",
          "text": [
            "Epoch 1/100\n",
            "500/500 [==============================] - 10s 20ms/step - loss: 0.0237 - sparse_categorical_accuracy: 0.9927\n",
            "Epoch 2/100\n",
            "500/500 [==============================] - 10s 21ms/step - loss: 0.0227 - sparse_categorical_accuracy: 0.9934\n",
            "Epoch 3/100\n",
            "500/500 [==============================] - 10s 20ms/step - loss: 0.0225 - sparse_categorical_accuracy: 0.9931\n",
            "Epoch 4/100\n",
            "500/500 [==============================] - 10s 21ms/step - loss: 0.0223 - sparse_categorical_accuracy: 0.9936\n",
            "Epoch 5/100\n",
            "500/500 [==============================] - 10s 21ms/step - loss: 0.0201 - sparse_categorical_accuracy: 0.9940\n",
            "Epoch 6/100\n",
            "500/500 [==============================] - 10s 21ms/step - loss: 0.0217 - sparse_categorical_accuracy: 0.9935\n",
            "Epoch 7/100\n",
            "500/500 [==============================] - 10s 21ms/step - loss: 0.0212 - sparse_categorical_accuracy: 0.9937\n",
            "Epoch 8/100\n",
            "500/500 [==============================] - 11s 21ms/step - loss: 0.0182 - sparse_categorical_accuracy: 0.9942\n",
            "Epoch 9/100\n",
            "500/500 [==============================] - 11s 22ms/step - loss: 0.0235 - sparse_categorical_accuracy: 0.9930\n",
            "Epoch 10/100\n",
            "500/500 [==============================] - 11s 21ms/step - loss: 0.0232 - sparse_categorical_accuracy: 0.9930\n",
            "Epoch 11/100\n",
            "500/500 [==============================] - 10s 21ms/step - loss: 0.0203 - sparse_categorical_accuracy: 0.9935\n",
            "Epoch 12/100\n",
            "500/500 [==============================] - 10s 21ms/step - loss: 0.0207 - sparse_categorical_accuracy: 0.9934\n",
            "Epoch 13/100\n",
            "500/500 [==============================] - 10s 21ms/step - loss: 0.0228 - sparse_categorical_accuracy: 0.9936\n",
            "Epoch 14/100\n",
            "500/500 [==============================] - 10s 20ms/step - loss: 0.0229 - sparse_categorical_accuracy: 0.9932\n",
            "Epoch 15/100\n",
            "500/500 [==============================] - 10s 20ms/step - loss: 0.0213 - sparse_categorical_accuracy: 0.9933\n",
            "Epoch 16/100\n",
            "500/500 [==============================] - 10s 21ms/step - loss: 0.0211 - sparse_categorical_accuracy: 0.9935\n",
            "Epoch 17/100\n",
            "500/500 [==============================] - 10s 20ms/step - loss: 0.0219 - sparse_categorical_accuracy: 0.9934\n",
            "Epoch 18/100\n",
            "500/500 [==============================] - 10s 21ms/step - loss: 0.0211 - sparse_categorical_accuracy: 0.9932\n",
            "Epoch 19/100\n",
            "500/500 [==============================] - 10s 21ms/step - loss: 0.0181 - sparse_categorical_accuracy: 0.9942\n",
            "Epoch 20/100\n",
            "500/500 [==============================] - 10s 20ms/step - loss: 0.0213 - sparse_categorical_accuracy: 0.9933\n",
            "Epoch 21/100\n",
            "500/500 [==============================] - 10s 20ms/step - loss: 0.0221 - sparse_categorical_accuracy: 0.9934\n",
            "Epoch 22/100\n",
            "500/500 [==============================] - 10s 20ms/step - loss: 0.0226 - sparse_categorical_accuracy: 0.9932\n",
            "Epoch 23/100\n",
            "500/500 [==============================] - 10s 20ms/step - loss: 0.0204 - sparse_categorical_accuracy: 0.9938\n",
            "Epoch 24/100\n",
            "500/500 [==============================] - 10s 20ms/step - loss: 0.0214 - sparse_categorical_accuracy: 0.9936\n",
            "Epoch 25/100\n",
            "500/500 [==============================] - 10s 21ms/step - loss: 0.0204 - sparse_categorical_accuracy: 0.9939\n",
            "Epoch 26/100\n",
            "500/500 [==============================] - 10s 21ms/step - loss: 0.0196 - sparse_categorical_accuracy: 0.9940\n",
            "Epoch 27/100\n",
            "500/500 [==============================] - 10s 21ms/step - loss: 0.0195 - sparse_categorical_accuracy: 0.9940\n",
            "Epoch 28/100\n",
            "500/500 [==============================] - 10s 21ms/step - loss: 0.0232 - sparse_categorical_accuracy: 0.9934\n",
            "Epoch 29/100\n",
            "500/500 [==============================] - 10s 21ms/step - loss: 0.0171 - sparse_categorical_accuracy: 0.9947\n",
            "Epoch 30/100\n",
            "500/500 [==============================] - 10s 21ms/step - loss: 0.0206 - sparse_categorical_accuracy: 0.9940\n",
            "Epoch 31/100\n",
            "500/500 [==============================] - 10s 21ms/step - loss: 0.0200 - sparse_categorical_accuracy: 0.9938\n",
            "Epoch 32/100\n",
            "500/500 [==============================] - 10s 21ms/step - loss: 0.0214 - sparse_categorical_accuracy: 0.9936\n",
            "Epoch 33/100\n",
            "500/500 [==============================] - 10s 21ms/step - loss: 0.0235 - sparse_categorical_accuracy: 0.9935\n",
            "Epoch 34/100\n",
            "500/500 [==============================] - 11s 21ms/step - loss: 0.0198 - sparse_categorical_accuracy: 0.9942\n",
            "Epoch 35/100\n",
            "500/500 [==============================] - 11s 21ms/step - loss: 0.0200 - sparse_categorical_accuracy: 0.9941\n",
            "Epoch 36/100\n",
            "500/500 [==============================] - 11s 21ms/step - loss: 0.0189 - sparse_categorical_accuracy: 0.9941\n",
            "Epoch 37/100\n",
            "500/500 [==============================] - 10s 21ms/step - loss: 0.0183 - sparse_categorical_accuracy: 0.9950\n",
            "Epoch 38/100\n",
            "500/500 [==============================] - 10s 21ms/step - loss: 0.0177 - sparse_categorical_accuracy: 0.9947\n",
            "Epoch 39/100\n",
            "500/500 [==============================] - 10s 21ms/step - loss: 0.0209 - sparse_categorical_accuracy: 0.9937\n",
            "Epoch 40/100\n",
            "500/500 [==============================] - 10s 21ms/step - loss: 0.0207 - sparse_categorical_accuracy: 0.9940\n",
            "Epoch 41/100\n",
            "500/500 [==============================] - 10s 20ms/step - loss: 0.0181 - sparse_categorical_accuracy: 0.9948\n",
            "Epoch 42/100\n",
            "500/500 [==============================] - 10s 20ms/step - loss: 0.0179 - sparse_categorical_accuracy: 0.9947\n",
            "Epoch 43/100\n",
            "500/500 [==============================] - 10s 21ms/step - loss: 0.0214 - sparse_categorical_accuracy: 0.9938\n",
            "Epoch 44/100\n",
            "500/500 [==============================] - 10s 21ms/step - loss: 0.0192 - sparse_categorical_accuracy: 0.9942\n",
            "Epoch 45/100\n",
            "500/500 [==============================] - 10s 21ms/step - loss: 0.0201 - sparse_categorical_accuracy: 0.9941\n",
            "Epoch 46/100\n",
            "500/500 [==============================] - 10s 21ms/step - loss: 0.0180 - sparse_categorical_accuracy: 0.9946\n",
            "Epoch 47/100\n",
            "500/500 [==============================] - 10s 21ms/step - loss: 0.0218 - sparse_categorical_accuracy: 0.9936\n",
            "Epoch 48/100\n",
            "500/500 [==============================] - 10s 21ms/step - loss: 0.0188 - sparse_categorical_accuracy: 0.9944\n",
            "Epoch 49/100\n",
            "500/500 [==============================] - 10s 21ms/step - loss: 0.0203 - sparse_categorical_accuracy: 0.9943\n",
            "Epoch 50/100\n",
            "500/500 [==============================] - 10s 21ms/step - loss: 0.0215 - sparse_categorical_accuracy: 0.9938\n",
            "Epoch 51/100\n",
            "500/500 [==============================] - 10s 21ms/step - loss: 0.0173 - sparse_categorical_accuracy: 0.9947\n",
            "Epoch 52/100\n",
            "500/500 [==============================] - 10s 21ms/step - loss: 0.0200 - sparse_categorical_accuracy: 0.9943\n",
            "Epoch 53/100\n",
            "500/500 [==============================] - 10s 21ms/step - loss: 0.0176 - sparse_categorical_accuracy: 0.9949\n",
            "Epoch 54/100\n",
            "500/500 [==============================] - 10s 21ms/step - loss: 0.0189 - sparse_categorical_accuracy: 0.9939\n",
            "Epoch 55/100\n",
            "500/500 [==============================] - 10s 20ms/step - loss: 0.0183 - sparse_categorical_accuracy: 0.9947\n",
            "Epoch 56/100\n",
            "500/500 [==============================] - 10s 21ms/step - loss: 0.0219 - sparse_categorical_accuracy: 0.9933\n",
            "Epoch 57/100\n",
            "500/500 [==============================] - 10s 21ms/step - loss: 0.0197 - sparse_categorical_accuracy: 0.9942\n",
            "Epoch 58/100\n",
            "500/500 [==============================] - 10s 21ms/step - loss: 0.0218 - sparse_categorical_accuracy: 0.9939\n",
            "Epoch 59/100\n",
            "500/500 [==============================] - 10s 21ms/step - loss: 0.0204 - sparse_categorical_accuracy: 0.9940\n",
            "Epoch 60/100\n",
            "500/500 [==============================] - 10s 20ms/step - loss: 0.0192 - sparse_categorical_accuracy: 0.9941\n",
            "Epoch 61/100\n",
            "500/500 [==============================] - 10s 20ms/step - loss: 0.0156 - sparse_categorical_accuracy: 0.9951\n",
            "Epoch 62/100\n",
            "500/500 [==============================] - 10s 21ms/step - loss: 0.0183 - sparse_categorical_accuracy: 0.9946\n",
            "Epoch 63/100\n",
            "500/500 [==============================] - 10s 21ms/step - loss: 0.0198 - sparse_categorical_accuracy: 0.9941\n",
            "Epoch 64/100\n",
            "500/500 [==============================] - 10s 21ms/step - loss: 0.0193 - sparse_categorical_accuracy: 0.9941\n",
            "Epoch 65/100\n",
            "500/500 [==============================] - 10s 21ms/step - loss: 0.0172 - sparse_categorical_accuracy: 0.9948\n",
            "Epoch 66/100\n",
            "500/500 [==============================] - 10s 21ms/step - loss: 0.0172 - sparse_categorical_accuracy: 0.9947\n",
            "Epoch 67/100\n",
            "500/500 [==============================] - 11s 22ms/step - loss: 0.0182 - sparse_categorical_accuracy: 0.9947\n",
            "Epoch 68/100\n",
            "500/500 [==============================] - 11s 22ms/step - loss: 0.0185 - sparse_categorical_accuracy: 0.9945\n",
            "Epoch 69/100\n",
            "500/500 [==============================] - 11s 22ms/step - loss: 0.0169 - sparse_categorical_accuracy: 0.9951\n",
            "Epoch 70/100\n",
            "500/500 [==============================] - 11s 22ms/step - loss: 0.0167 - sparse_categorical_accuracy: 0.9949\n",
            "Epoch 71/100\n",
            "500/500 [==============================] - 11s 21ms/step - loss: 0.0188 - sparse_categorical_accuracy: 0.9945\n",
            "Epoch 72/100\n",
            "500/500 [==============================] - 11s 21ms/step - loss: 0.0202 - sparse_categorical_accuracy: 0.9941\n",
            "Epoch 73/100\n",
            "500/500 [==============================] - 11s 21ms/step - loss: 0.0179 - sparse_categorical_accuracy: 0.9945\n",
            "Epoch 74/100\n",
            "500/500 [==============================] - 11s 22ms/step - loss: 0.0158 - sparse_categorical_accuracy: 0.9952\n",
            "Epoch 75/100\n",
            "500/500 [==============================] - 11s 21ms/step - loss: 0.0195 - sparse_categorical_accuracy: 0.9943\n",
            "Epoch 76/100\n",
            "500/500 [==============================] - 10s 21ms/step - loss: 0.0197 - sparse_categorical_accuracy: 0.9944\n",
            "Epoch 77/100\n",
            "500/500 [==============================] - 10s 20ms/step - loss: 0.0196 - sparse_categorical_accuracy: 0.9944\n",
            "Epoch 78/100\n",
            "500/500 [==============================] - 10s 21ms/step - loss: 0.0182 - sparse_categorical_accuracy: 0.9949\n",
            "Epoch 79/100\n",
            "500/500 [==============================] - 10s 21ms/step - loss: 0.0196 - sparse_categorical_accuracy: 0.9947\n",
            "Epoch 80/100\n",
            "500/500 [==============================] - 11s 21ms/step - loss: 0.0176 - sparse_categorical_accuracy: 0.9949\n",
            "Epoch 81/100\n",
            "500/500 [==============================] - 10s 21ms/step - loss: 0.0161 - sparse_categorical_accuracy: 0.9950\n",
            "Epoch 82/100\n",
            "500/500 [==============================] - 10s 21ms/step - loss: 0.0196 - sparse_categorical_accuracy: 0.9944\n",
            "Epoch 83/100\n",
            "500/500 [==============================] - 10s 21ms/step - loss: 0.0188 - sparse_categorical_accuracy: 0.9947\n",
            "Epoch 84/100\n",
            "500/500 [==============================] - 10s 21ms/step - loss: 0.0198 - sparse_categorical_accuracy: 0.9941\n",
            "Epoch 85/100\n",
            "500/500 [==============================] - 10s 21ms/step - loss: 0.0166 - sparse_categorical_accuracy: 0.9947\n",
            "Epoch 86/100\n",
            "500/500 [==============================] - 10s 21ms/step - loss: 0.0184 - sparse_categorical_accuracy: 0.9943\n",
            "Epoch 87/100\n",
            "500/500 [==============================] - 10s 21ms/step - loss: 0.0169 - sparse_categorical_accuracy: 0.9951\n",
            "Epoch 88/100\n",
            "500/500 [==============================] - 11s 21ms/step - loss: 0.0182 - sparse_categorical_accuracy: 0.9948\n",
            "Epoch 89/100\n",
            "500/500 [==============================] - 11s 22ms/step - loss: 0.0162 - sparse_categorical_accuracy: 0.9951\n",
            "Epoch 90/100\n",
            "500/500 [==============================] - 11s 21ms/step - loss: 0.0195 - sparse_categorical_accuracy: 0.9943\n",
            "Epoch 91/100\n",
            "500/500 [==============================] - 10s 21ms/step - loss: 0.0198 - sparse_categorical_accuracy: 0.9944\n",
            "Epoch 92/100\n",
            "500/500 [==============================] - 10s 21ms/step - loss: 0.0164 - sparse_categorical_accuracy: 0.9951\n",
            "Epoch 93/100\n",
            "500/500 [==============================] - 10s 21ms/step - loss: 0.0177 - sparse_categorical_accuracy: 0.9942\n",
            "Epoch 94/100\n",
            "500/500 [==============================] - 11s 21ms/step - loss: 0.0179 - sparse_categorical_accuracy: 0.9949\n",
            "Epoch 95/100\n",
            "500/500 [==============================] - 11s 21ms/step - loss: 0.0164 - sparse_categorical_accuracy: 0.9949\n",
            "Epoch 96/100\n",
            "500/500 [==============================] - 11s 21ms/step - loss: 0.0177 - sparse_categorical_accuracy: 0.9946\n",
            "Epoch 97/100\n",
            "500/500 [==============================] - 11s 21ms/step - loss: 0.0191 - sparse_categorical_accuracy: 0.9947\n",
            "Epoch 98/100\n",
            "500/500 [==============================] - 11s 21ms/step - loss: 0.0168 - sparse_categorical_accuracy: 0.9952\n",
            "Epoch 99/100\n",
            "500/500 [==============================] - 10s 21ms/step - loss: 0.0181 - sparse_categorical_accuracy: 0.9948\n",
            "Epoch 100/100\n",
            "500/500 [==============================] - 10s 21ms/step - loss: 0.0152 - sparse_categorical_accuracy: 0.9955\n"
          ],
          "name": "stdout"
        },
        {
          "output_type": "execute_result",
          "data": {
            "text/plain": [
              "<tensorflow.python.keras.callbacks.History at 0x7fd5de439050>"
            ]
          },
          "metadata": {
            "tags": []
          },
          "execution_count": 33
        }
      ]
    },
    {
      "cell_type": "code",
      "metadata": {
        "colab": {
          "base_uri": "https://localhost:8080/"
        },
        "id": "JR6ONIM6y23-",
        "outputId": "a3068e12-7ee9-4757-ce11-a93ac5fa9122"
      },
      "source": [
        "test_loss, test_acc = model.evaluate(x_test.astype(np.float32), y_test.astype(np.float32), verbose=1) \n",
        "\n",
        "print('Test accuracy:', test_acc)"
      ],
      "execution_count": null,
      "outputs": [
        {
          "output_type": "stream",
          "text": [
            "313/313 [==============================] - 6s 18ms/step - loss: 0.5712 - sparse_categorical_accuracy: 0.9340\n",
            "Test accuracy: 0.9339999556541443\n"
          ],
          "name": "stdout"
        }
      ]
    }
  ]
}