{
  "nbformat": 4,
  "nbformat_minor": 0,
  "metadata": {
    "colab": {
      "name": "Третья сеть.ipynb",
      "provenance": []
    },
    "kernelspec": {
      "name": "python3",
      "display_name": "Python 3"
    },
    "language_info": {
      "name": "python"
    },
    "accelerator": "TPU"
  },
  "cells": [
    {
      "cell_type": "code",
      "metadata": {
        "id": "KOLE209MOt_G",
        "colab": {
          "base_uri": "https://localhost:8080/"
        },
        "outputId": "9acddd3b-102f-447a-b878-9fb2a539bb9f"
      },
      "source": [
        "import tensorflow as tf\n",
        "import numpy as np\n",
        "import os\n",
        "\n",
        "(x_train, y_train), (x_test, y_test) = tf.keras.datasets.fashion_mnist.load_data()\n",
        "\n",
        "x_train = np.expand_dims(x_train, -1)\n",
        "x_test = np.expand_dims(x_test, -1)"
      ],
      "execution_count": 1,
      "outputs": [
        {
          "output_type": "stream",
          "text": [
            "Downloading data from https://storage.googleapis.com/tensorflow/tf-keras-datasets/train-labels-idx1-ubyte.gz\n",
            "32768/29515 [=================================] - 0s 0us/step\n",
            "Downloading data from https://storage.googleapis.com/tensorflow/tf-keras-datasets/train-images-idx3-ubyte.gz\n",
            "26427392/26421880 [==============================] - 0s 0us/step\n",
            "Downloading data from https://storage.googleapis.com/tensorflow/tf-keras-datasets/t10k-labels-idx1-ubyte.gz\n",
            "8192/5148 [===============================================] - 0s 0us/step\n",
            "Downloading data from https://storage.googleapis.com/tensorflow/tf-keras-datasets/t10k-images-idx3-ubyte.gz\n",
            "4423680/4422102 [==============================] - 0s 0us/step\n"
          ],
          "name": "stdout"
        }
      ]
    },
    {
      "cell_type": "code",
      "metadata": {
        "id": "1-eDd43iOtLe"
      },
      "source": [
        "def create_model():\n",
        "  model = tf.keras.models.Sequential()\n",
        "  model.add(tf.keras.layers.BatchNormalization(input_shape=x_train.shape[1:]))\n",
        "  model.add(tf.keras.layers.Conv2D(512, (5, 5), padding='same', activation='relu'))\n",
        "  model.add(tf.keras.layers.MaxPooling2D(pool_size=(2, 2), strides=(2,2)))\n",
        "  model.add(tf.keras.layers.Dropout(0.25))\n",
        "\n",
        "  model.add(tf.keras.layers.BatchNormalization(input_shape=x_train.shape[1:]))\n",
        "  model.add(tf.keras.layers.Conv2D(512, (5, 5), padding='same', activation='relu'))\n",
        "  model.add(tf.keras.layers.MaxPooling2D(pool_size=(2, 2)))\n",
        "  model.add(tf.keras.layers.Dropout(0.25))\n",
        "\n",
        "  model.add(tf.keras.layers.BatchNormalization(input_shape=x_train.shape[1:]))\n",
        "  model.add(tf.keras.layers.Conv2D(256, (5, 5), padding='same', activation='relu'))\n",
        "  model.add(tf.keras.layers.MaxPooling2D(pool_size=(2, 2), strides=(2,2)))\n",
        "  model.add(tf.keras.layers.Dropout(0.25))\n",
        "\n",
        "  model.add(tf.keras.layers.BatchNormalization(input_shape=x_train.shape[1:]))\n",
        "  model.add(tf.keras.layers.Conv2D(512, (5, 5), padding='same', activation='relu'))\n",
        "  model.add(tf.keras.layers.MaxPooling2D(pool_size=(2, 2), strides=(2,2)))\n",
        "  model.add(tf.keras.layers.Dropout(0.25))\n",
        "\n",
        "  model.add(tf.keras.layers.Flatten())\n",
        "  model.add(tf.keras.layers.Dense(256))\n",
        "  model.add(tf.keras.layers.Activation('relu'))\n",
        "  model.add(tf.keras.layers.Dropout(0.5))\n",
        "  model.add(tf.keras.layers.Dense(10))\n",
        "  model.add(tf.keras.layers.Activation('softmax'))\n",
        "  return model"
      ],
      "execution_count": 2,
      "outputs": []
    },
    {
      "cell_type": "code",
      "metadata": {
        "colab": {
          "base_uri": "https://localhost:8080/"
        },
        "id": "ZfA7RHeBlA1z",
        "outputId": "eab83e02-2fac-4e17-838f-9f64ad551530"
      },
      "source": [
        "tf.keras.backend.clear_session()\n",
        "\n",
        "resolver = tf.distribute.cluster_resolver.TPUClusterResolver('grpc://' + os.environ['COLAB_TPU_ADDR'])\n",
        "tf.config.experimental_connect_to_cluster(resolver)\n",
        "tf.tpu.experimental.initialize_tpu_system(resolver)\n",
        "print(\"All devices: \", tf.config.list_logical_devices('TPU'))\n",
        "\n",
        "strategy = tf.distribute.experimental.TPUStrategy(resolver)\n"
      ],
      "execution_count": 3,
      "outputs": [
        {
          "output_type": "stream",
          "text": [
            "INFO:tensorflow:Initializing the TPU system: grpc://10.77.91.114:8470\n"
          ],
          "name": "stdout"
        },
        {
          "output_type": "stream",
          "text": [
            "INFO:tensorflow:Initializing the TPU system: grpc://10.77.91.114:8470\n"
          ],
          "name": "stderr"
        },
        {
          "output_type": "stream",
          "text": [
            "INFO:tensorflow:Clearing out eager caches\n"
          ],
          "name": "stdout"
        },
        {
          "output_type": "stream",
          "text": [
            "INFO:tensorflow:Clearing out eager caches\n"
          ],
          "name": "stderr"
        },
        {
          "output_type": "stream",
          "text": [
            "INFO:tensorflow:Finished initializing TPU system.\n"
          ],
          "name": "stdout"
        },
        {
          "output_type": "stream",
          "text": [
            "INFO:tensorflow:Finished initializing TPU system.\n",
            "WARNING:absl:`tf.distribute.experimental.TPUStrategy` is deprecated, please use  the non experimental symbol `tf.distribute.TPUStrategy` instead.\n"
          ],
          "name": "stderr"
        },
        {
          "output_type": "stream",
          "text": [
            "All devices:  [LogicalDevice(name='/job:worker/replica:0/task:0/device:TPU:7', device_type='TPU'), LogicalDevice(name='/job:worker/replica:0/task:0/device:TPU:6', device_type='TPU'), LogicalDevice(name='/job:worker/replica:0/task:0/device:TPU:5', device_type='TPU'), LogicalDevice(name='/job:worker/replica:0/task:0/device:TPU:4', device_type='TPU'), LogicalDevice(name='/job:worker/replica:0/task:0/device:TPU:3', device_type='TPU'), LogicalDevice(name='/job:worker/replica:0/task:0/device:TPU:0', device_type='TPU'), LogicalDevice(name='/job:worker/replica:0/task:0/device:TPU:1', device_type='TPU'), LogicalDevice(name='/job:worker/replica:0/task:0/device:TPU:2', device_type='TPU')]\n",
            "INFO:tensorflow:Found TPU system:\n"
          ],
          "name": "stdout"
        },
        {
          "output_type": "stream",
          "text": [
            "INFO:tensorflow:Found TPU system:\n"
          ],
          "name": "stderr"
        },
        {
          "output_type": "stream",
          "text": [
            "INFO:tensorflow:*** Num TPU Cores: 8\n"
          ],
          "name": "stdout"
        },
        {
          "output_type": "stream",
          "text": [
            "INFO:tensorflow:*** Num TPU Cores: 8\n"
          ],
          "name": "stderr"
        },
        {
          "output_type": "stream",
          "text": [
            "INFO:tensorflow:*** Num TPU Workers: 1\n"
          ],
          "name": "stdout"
        },
        {
          "output_type": "stream",
          "text": [
            "INFO:tensorflow:*** Num TPU Workers: 1\n"
          ],
          "name": "stderr"
        },
        {
          "output_type": "stream",
          "text": [
            "INFO:tensorflow:*** Num TPU Cores Per Worker: 8\n"
          ],
          "name": "stdout"
        },
        {
          "output_type": "stream",
          "text": [
            "INFO:tensorflow:*** Num TPU Cores Per Worker: 8\n"
          ],
          "name": "stderr"
        },
        {
          "output_type": "stream",
          "text": [
            "INFO:tensorflow:*** Available Device: _DeviceAttributes(/job:localhost/replica:0/task:0/device:CPU:0, CPU, 0, 0)\n"
          ],
          "name": "stdout"
        },
        {
          "output_type": "stream",
          "text": [
            "INFO:tensorflow:*** Available Device: _DeviceAttributes(/job:localhost/replica:0/task:0/device:CPU:0, CPU, 0, 0)\n"
          ],
          "name": "stderr"
        },
        {
          "output_type": "stream",
          "text": [
            "INFO:tensorflow:*** Available Device: _DeviceAttributes(/job:worker/replica:0/task:0/device:CPU:0, CPU, 0, 0)\n"
          ],
          "name": "stdout"
        },
        {
          "output_type": "stream",
          "text": [
            "INFO:tensorflow:*** Available Device: _DeviceAttributes(/job:worker/replica:0/task:0/device:CPU:0, CPU, 0, 0)\n"
          ],
          "name": "stderr"
        },
        {
          "output_type": "stream",
          "text": [
            "INFO:tensorflow:*** Available Device: _DeviceAttributes(/job:worker/replica:0/task:0/device:TPU:0, TPU, 0, 0)\n"
          ],
          "name": "stdout"
        },
        {
          "output_type": "stream",
          "text": [
            "INFO:tensorflow:*** Available Device: _DeviceAttributes(/job:worker/replica:0/task:0/device:TPU:0, TPU, 0, 0)\n"
          ],
          "name": "stderr"
        },
        {
          "output_type": "stream",
          "text": [
            "INFO:tensorflow:*** Available Device: _DeviceAttributes(/job:worker/replica:0/task:0/device:TPU:1, TPU, 0, 0)\n"
          ],
          "name": "stdout"
        },
        {
          "output_type": "stream",
          "text": [
            "INFO:tensorflow:*** Available Device: _DeviceAttributes(/job:worker/replica:0/task:0/device:TPU:1, TPU, 0, 0)\n"
          ],
          "name": "stderr"
        },
        {
          "output_type": "stream",
          "text": [
            "INFO:tensorflow:*** Available Device: _DeviceAttributes(/job:worker/replica:0/task:0/device:TPU:2, TPU, 0, 0)\n"
          ],
          "name": "stdout"
        },
        {
          "output_type": "stream",
          "text": [
            "INFO:tensorflow:*** Available Device: _DeviceAttributes(/job:worker/replica:0/task:0/device:TPU:2, TPU, 0, 0)\n"
          ],
          "name": "stderr"
        },
        {
          "output_type": "stream",
          "text": [
            "INFO:tensorflow:*** Available Device: _DeviceAttributes(/job:worker/replica:0/task:0/device:TPU:3, TPU, 0, 0)\n"
          ],
          "name": "stdout"
        },
        {
          "output_type": "stream",
          "text": [
            "INFO:tensorflow:*** Available Device: _DeviceAttributes(/job:worker/replica:0/task:0/device:TPU:3, TPU, 0, 0)\n"
          ],
          "name": "stderr"
        },
        {
          "output_type": "stream",
          "text": [
            "INFO:tensorflow:*** Available Device: _DeviceAttributes(/job:worker/replica:0/task:0/device:TPU:4, TPU, 0, 0)\n"
          ],
          "name": "stdout"
        },
        {
          "output_type": "stream",
          "text": [
            "INFO:tensorflow:*** Available Device: _DeviceAttributes(/job:worker/replica:0/task:0/device:TPU:4, TPU, 0, 0)\n"
          ],
          "name": "stderr"
        },
        {
          "output_type": "stream",
          "text": [
            "INFO:tensorflow:*** Available Device: _DeviceAttributes(/job:worker/replica:0/task:0/device:TPU:5, TPU, 0, 0)\n"
          ],
          "name": "stdout"
        },
        {
          "output_type": "stream",
          "text": [
            "INFO:tensorflow:*** Available Device: _DeviceAttributes(/job:worker/replica:0/task:0/device:TPU:5, TPU, 0, 0)\n"
          ],
          "name": "stderr"
        },
        {
          "output_type": "stream",
          "text": [
            "INFO:tensorflow:*** Available Device: _DeviceAttributes(/job:worker/replica:0/task:0/device:TPU:6, TPU, 0, 0)\n"
          ],
          "name": "stdout"
        },
        {
          "output_type": "stream",
          "text": [
            "INFO:tensorflow:*** Available Device: _DeviceAttributes(/job:worker/replica:0/task:0/device:TPU:6, TPU, 0, 0)\n"
          ],
          "name": "stderr"
        },
        {
          "output_type": "stream",
          "text": [
            "INFO:tensorflow:*** Available Device: _DeviceAttributes(/job:worker/replica:0/task:0/device:TPU:7, TPU, 0, 0)\n"
          ],
          "name": "stdout"
        },
        {
          "output_type": "stream",
          "text": [
            "INFO:tensorflow:*** Available Device: _DeviceAttributes(/job:worker/replica:0/task:0/device:TPU:7, TPU, 0, 0)\n"
          ],
          "name": "stderr"
        },
        {
          "output_type": "stream",
          "text": [
            "INFO:tensorflow:*** Available Device: _DeviceAttributes(/job:worker/replica:0/task:0/device:TPU_SYSTEM:0, TPU_SYSTEM, 0, 0)\n"
          ],
          "name": "stdout"
        },
        {
          "output_type": "stream",
          "text": [
            "INFO:tensorflow:*** Available Device: _DeviceAttributes(/job:worker/replica:0/task:0/device:TPU_SYSTEM:0, TPU_SYSTEM, 0, 0)\n"
          ],
          "name": "stderr"
        },
        {
          "output_type": "stream",
          "text": [
            "INFO:tensorflow:*** Available Device: _DeviceAttributes(/job:worker/replica:0/task:0/device:XLA_CPU:0, XLA_CPU, 0, 0)\n"
          ],
          "name": "stdout"
        },
        {
          "output_type": "stream",
          "text": [
            "INFO:tensorflow:*** Available Device: _DeviceAttributes(/job:worker/replica:0/task:0/device:XLA_CPU:0, XLA_CPU, 0, 0)\n"
          ],
          "name": "stderr"
        }
      ]
    },
    {
      "cell_type": "code",
      "metadata": {
        "id": "Fmso6NA9yDme"
      },
      "source": [
        "with strategy.scope():\n",
        "  model = create_model()\n",
        "  model.compile(\n",
        "      optimizer=tf.keras.optimizers.Adam(learning_rate=1e-3, ),\n",
        "      loss='sparse_categorical_crossentropy',\n",
        "      metrics=['sparse_categorical_accuracy'])"
      ],
      "execution_count": 4,
      "outputs": []
    },
    {
      "cell_type": "code",
      "metadata": {
        "colab": {
          "base_uri": "https://localhost:8080/"
        },
        "id": "j_J7ivVUO2QK",
        "outputId": "ea155e39-2a67-4ab2-8048-60468ad04355"
      },
      "source": [
        "model.fit(\n",
        "    x_train.astype(np.float32), y_train.astype(np.float32),\n",
        "    epochs=5,\n",
        "    steps_per_epoch=100,\n",
        "    validation_freq=17\n",
        ")"
      ],
      "execution_count": null,
      "outputs": [
        {
          "output_type": "stream",
          "text": [
            "Epoch 1/5\n",
            "100/100 [==============================] - 21s 74ms/step - loss: 1.0056 - sparse_categorical_accuracy: 0.6509\n",
            "Epoch 2/5\n",
            "100/100 [==============================] - 7s 74ms/step - loss: 0.3927 - sparse_categorical_accuracy: 0.8604\n",
            "Epoch 3/5\n",
            "100/100 [==============================] - 7s 74ms/step - loss: 0.3142 - sparse_categorical_accuracy: 0.8867\n",
            "Epoch 4/5\n",
            "100/100 [==============================] - 7s 74ms/step - loss: 0.2664 - sparse_categorical_accuracy: 0.9040\n",
            "Epoch 5/5\n",
            "100/100 [==============================] - 7s 74ms/step - loss: 0.2438 - sparse_categorical_accuracy: 0.9134\n"
          ],
          "name": "stdout"
        },
        {
          "output_type": "execute_result",
          "data": {
            "text/plain": [
              "<tensorflow.python.keras.callbacks.History at 0x7f97c0b02510>"
            ]
          },
          "metadata": {
            "tags": []
          },
          "execution_count": 5
        }
      ]
    },
    {
      "cell_type": "code",
      "metadata": {
        "colab": {
          "base_uri": "https://localhost:8080/"
        },
        "id": "2m8wgpZzl229",
        "outputId": "6f195509-9b7c-4a4c-94f5-60237c248af6"
      },
      "source": [
        "test_loss, test_acc = model.evaluate(x_test.astype(np.float32), y_test.astype(np.float32), verbose=1) \n",
        "\n",
        "print('Test accuracy:', test_acc)"
      ],
      "execution_count": null,
      "outputs": [
        {
          "output_type": "stream",
          "text": [
            "313/313 [==============================] - 9s 21ms/step - loss: 0.5838 - sparse_categorical_accuracy: 0.7786\n",
            "Test accuracy: 0.7785999774932861\n"
          ],
          "name": "stdout"
        }
      ]
    },
    {
      "cell_type": "code",
      "metadata": {
        "colab": {
          "base_uri": "https://localhost:8080/"
        },
        "id": "7NfMxTRVyAeN",
        "outputId": "916efa3f-9abc-480c-e314-42635bc4eb96"
      },
      "source": [
        "model.fit(\n",
        "    x_train.astype(np.float32), y_train.astype(np.float32),\n",
        "    epochs=10,\n",
        "    steps_per_epoch=100,\n",
        "    validation_freq=17\n",
        ")"
      ],
      "execution_count": null,
      "outputs": [
        {
          "output_type": "stream",
          "text": [
            "Epoch 1/10\n",
            "100/100 [==============================] - 7s 75ms/step - loss: 0.2230 - sparse_categorical_accuracy: 0.9191\n",
            "Epoch 2/10\n",
            "100/100 [==============================] - 7s 74ms/step - loss: 0.2054 - sparse_categorical_accuracy: 0.9247\n",
            "Epoch 3/10\n",
            "100/100 [==============================] - 7s 75ms/step - loss: 0.1936 - sparse_categorical_accuracy: 0.9293\n",
            "Epoch 4/10\n",
            "100/100 [==============================] - 7s 74ms/step - loss: 0.1768 - sparse_categorical_accuracy: 0.9343\n",
            "Epoch 5/10\n",
            "100/100 [==============================] - 7s 74ms/step - loss: 0.1620 - sparse_categorical_accuracy: 0.9392\n",
            "Epoch 6/10\n",
            "100/100 [==============================] - 7s 74ms/step - loss: 0.1541 - sparse_categorical_accuracy: 0.9428\n",
            "Epoch 7/10\n",
            "100/100 [==============================] - 7s 74ms/step - loss: 0.1397 - sparse_categorical_accuracy: 0.9484\n",
            "Epoch 8/10\n",
            "100/100 [==============================] - 7s 73ms/step - loss: 0.1306 - sparse_categorical_accuracy: 0.9509\n",
            "Epoch 9/10\n",
            "100/100 [==============================] - 7s 74ms/step - loss: 0.1213 - sparse_categorical_accuracy: 0.9541\n",
            "Epoch 10/10\n",
            "100/100 [==============================] - 7s 74ms/step - loss: 0.1108 - sparse_categorical_accuracy: 0.9577\n"
          ],
          "name": "stdout"
        },
        {
          "output_type": "execute_result",
          "data": {
            "text/plain": [
              "<tensorflow.python.keras.callbacks.History at 0x7f97c097ffd0>"
            ]
          },
          "metadata": {
            "tags": []
          },
          "execution_count": 7
        }
      ]
    },
    {
      "cell_type": "code",
      "metadata": {
        "colab": {
          "base_uri": "https://localhost:8080/"
        },
        "id": "J7yFHu-Jyu-o",
        "outputId": "406822ff-7e8f-4b48-aee0-183be976eae7"
      },
      "source": [
        "test_loss, test_acc = model.evaluate(x_test.astype(np.float32), y_test.astype(np.float32), verbose=1) \n",
        "\n",
        "print('Test accuracy:', test_acc)"
      ],
      "execution_count": null,
      "outputs": [
        {
          "output_type": "stream",
          "text": [
            "313/313 [==============================] - 5s 16ms/step - loss: 0.2693 - sparse_categorical_accuracy: 0.9206\n",
            "Test accuracy: 0.9205999970436096\n"
          ],
          "name": "stdout"
        }
      ]
    },
    {
      "cell_type": "code",
      "metadata": {
        "colab": {
          "base_uri": "https://localhost:8080/"
        },
        "id": "MGp7fSqCyMEr",
        "outputId": "9ede73f9-6fe8-4e3b-a399-1e5db84489a8"
      },
      "source": [
        "model.fit(\n",
        "    x_train.astype(np.float32), y_train.astype(np.float32),\n",
        "    epochs=20,\n",
        "    steps_per_epoch=100,\n",
        "    validation_freq=17\n",
        ")"
      ],
      "execution_count": null,
      "outputs": [
        {
          "output_type": "stream",
          "text": [
            "Epoch 1/20\n",
            "100/100 [==============================] - 7s 73ms/step - loss: 0.1060 - sparse_categorical_accuracy: 0.9602\n",
            "Epoch 2/20\n",
            "100/100 [==============================] - 7s 73ms/step - loss: 0.0979 - sparse_categorical_accuracy: 0.9629\n",
            "Epoch 3/20\n",
            "100/100 [==============================] - 7s 74ms/step - loss: 0.0916 - sparse_categorical_accuracy: 0.9652\n",
            "Epoch 4/20\n",
            "100/100 [==============================] - 7s 74ms/step - loss: 0.0867 - sparse_categorical_accuracy: 0.9679\n",
            "Epoch 5/20\n",
            "100/100 [==============================] - 7s 74ms/step - loss: 0.0780 - sparse_categorical_accuracy: 0.9700\n",
            "Epoch 6/20\n",
            "100/100 [==============================] - 7s 75ms/step - loss: 0.0750 - sparse_categorical_accuracy: 0.9715\n",
            "Epoch 7/20\n",
            "100/100 [==============================] - 7s 74ms/step - loss: 0.0770 - sparse_categorical_accuracy: 0.9716\n",
            "Epoch 8/20\n",
            "100/100 [==============================] - 7s 74ms/step - loss: 0.0690 - sparse_categorical_accuracy: 0.9752\n",
            "Epoch 9/20\n",
            "100/100 [==============================] - 7s 74ms/step - loss: 0.0657 - sparse_categorical_accuracy: 0.9754\n",
            "Epoch 10/20\n",
            "100/100 [==============================] - 7s 73ms/step - loss: 0.0595 - sparse_categorical_accuracy: 0.9774\n",
            "Epoch 11/20\n",
            "100/100 [==============================] - 7s 74ms/step - loss: 0.0591 - sparse_categorical_accuracy: 0.9779\n",
            "Epoch 12/20\n",
            "100/100 [==============================] - 7s 73ms/step - loss: 0.0563 - sparse_categorical_accuracy: 0.9796\n",
            "Epoch 13/20\n",
            "100/100 [==============================] - 7s 74ms/step - loss: 0.0528 - sparse_categorical_accuracy: 0.9803\n",
            "Epoch 14/20\n",
            "100/100 [==============================] - 7s 74ms/step - loss: 0.0489 - sparse_categorical_accuracy: 0.9820\n",
            "Epoch 15/20\n",
            "100/100 [==============================] - 7s 74ms/step - loss: 0.0502 - sparse_categorical_accuracy: 0.9815\n",
            "Epoch 16/20\n",
            "100/100 [==============================] - 7s 74ms/step - loss: 0.0490 - sparse_categorical_accuracy: 0.9829\n",
            "Epoch 17/20\n",
            "100/100 [==============================] - 7s 74ms/step - loss: 0.0455 - sparse_categorical_accuracy: 0.9834\n",
            "Epoch 18/20\n",
            "100/100 [==============================] - 7s 74ms/step - loss: 0.0428 - sparse_categorical_accuracy: 0.9846\n",
            "Epoch 19/20\n",
            "100/100 [==============================] - 7s 74ms/step - loss: 0.0415 - sparse_categorical_accuracy: 0.9848\n",
            "Epoch 20/20\n",
            "100/100 [==============================] - 7s 74ms/step - loss: 0.0418 - sparse_categorical_accuracy: 0.9847\n"
          ],
          "name": "stdout"
        },
        {
          "output_type": "execute_result",
          "data": {
            "text/plain": [
              "<tensorflow.python.keras.callbacks.History at 0x7f97bf57ae90>"
            ]
          },
          "metadata": {
            "tags": []
          },
          "execution_count": 9
        }
      ]
    },
    {
      "cell_type": "code",
      "metadata": {
        "colab": {
          "base_uri": "https://localhost:8080/"
        },
        "id": "fNTtYPwryuWg",
        "outputId": "208131df-10be-4324-af6f-f2487174a131"
      },
      "source": [
        "test_loss, test_acc = model.evaluate(x_test.astype(np.float32), y_test.astype(np.float32), verbose=1) \n",
        "\n",
        "print('Test accuracy:', test_acc)"
      ],
      "execution_count": null,
      "outputs": [
        {
          "output_type": "stream",
          "text": [
            "313/313 [==============================] - 5s 16ms/step - loss: 0.3372 - sparse_categorical_accuracy: 0.9295\n",
            "Test accuracy: 0.9294999837875366\n"
          ],
          "name": "stdout"
        }
      ]
    },
    {
      "cell_type": "code",
      "metadata": {
        "colab": {
          "base_uri": "https://localhost:8080/"
        },
        "id": "2vEqNn_SyOt7",
        "outputId": "f1e18944-b83a-48f8-e59a-1aebdcff4496"
      },
      "source": [
        "model.fit(\n",
        "    x_train.astype(np.float32), y_train.astype(np.float32),\n",
        "    epochs=40,\n",
        "    steps_per_epoch=100,\n",
        "    validation_freq=17\n",
        ")"
      ],
      "execution_count": null,
      "outputs": [
        {
          "output_type": "stream",
          "text": [
            "Epoch 1/40\n",
            "100/100 [==============================] - 7s 74ms/step - loss: 0.0375 - sparse_categorical_accuracy: 0.9864\n",
            "Epoch 2/40\n",
            "100/100 [==============================] - 7s 74ms/step - loss: 0.0374 - sparse_categorical_accuracy: 0.9861\n",
            "Epoch 3/40\n",
            "100/100 [==============================] - 7s 74ms/step - loss: 0.0356 - sparse_categorical_accuracy: 0.9870\n",
            "Epoch 4/40\n",
            "100/100 [==============================] - 7s 73ms/step - loss: 0.0320 - sparse_categorical_accuracy: 0.9885\n",
            "Epoch 5/40\n",
            "100/100 [==============================] - 7s 74ms/step - loss: 0.0349 - sparse_categorical_accuracy: 0.9875\n",
            "Epoch 6/40\n",
            "100/100 [==============================] - 7s 73ms/step - loss: 0.0312 - sparse_categorical_accuracy: 0.9889\n",
            "Epoch 7/40\n",
            "100/100 [==============================] - 7s 74ms/step - loss: 0.0297 - sparse_categorical_accuracy: 0.9896\n",
            "Epoch 8/40\n",
            "100/100 [==============================] - 7s 74ms/step - loss: 0.0289 - sparse_categorical_accuracy: 0.9897\n",
            "Epoch 9/40\n",
            "100/100 [==============================] - 7s 74ms/step - loss: 0.0300 - sparse_categorical_accuracy: 0.9887\n",
            "Epoch 10/40\n",
            "100/100 [==============================] - 7s 74ms/step - loss: 0.0257 - sparse_categorical_accuracy: 0.9910\n",
            "Epoch 11/40\n",
            "100/100 [==============================] - 7s 74ms/step - loss: 0.0299 - sparse_categorical_accuracy: 0.9897\n",
            "Epoch 12/40\n",
            "100/100 [==============================] - 7s 74ms/step - loss: 0.0289 - sparse_categorical_accuracy: 0.9905\n",
            "Epoch 13/40\n",
            "100/100 [==============================] - 7s 74ms/step - loss: 0.0288 - sparse_categorical_accuracy: 0.9902\n",
            "Epoch 14/40\n",
            "100/100 [==============================] - 7s 74ms/step - loss: 0.0258 - sparse_categorical_accuracy: 0.9911\n",
            "Epoch 15/40\n",
            "100/100 [==============================] - 7s 74ms/step - loss: 0.0283 - sparse_categorical_accuracy: 0.9905\n",
            "Epoch 16/40\n",
            "100/100 [==============================] - 7s 74ms/step - loss: 0.0234 - sparse_categorical_accuracy: 0.9921\n",
            "Epoch 17/40\n",
            "100/100 [==============================] - 7s 74ms/step - loss: 0.0236 - sparse_categorical_accuracy: 0.9918\n",
            "Epoch 18/40\n",
            "100/100 [==============================] - 7s 74ms/step - loss: 0.0236 - sparse_categorical_accuracy: 0.9919\n",
            "Epoch 19/40\n",
            "100/100 [==============================] - 7s 73ms/step - loss: 0.0235 - sparse_categorical_accuracy: 0.9918\n",
            "Epoch 20/40\n",
            "100/100 [==============================] - 7s 73ms/step - loss: 0.0249 - sparse_categorical_accuracy: 0.9918\n",
            "Epoch 21/40\n",
            "100/100 [==============================] - 7s 74ms/step - loss: 0.0210 - sparse_categorical_accuracy: 0.9927\n",
            "Epoch 22/40\n",
            "100/100 [==============================] - 7s 74ms/step - loss: 0.0229 - sparse_categorical_accuracy: 0.9919\n",
            "Epoch 23/40\n",
            "100/100 [==============================] - 7s 74ms/step - loss: 0.0213 - sparse_categorical_accuracy: 0.9929\n",
            "Epoch 24/40\n",
            "100/100 [==============================] - 7s 74ms/step - loss: 0.0197 - sparse_categorical_accuracy: 0.9930\n",
            "Epoch 25/40\n",
            "100/100 [==============================] - 7s 74ms/step - loss: 0.0239 - sparse_categorical_accuracy: 0.9919\n",
            "Epoch 26/40\n",
            "100/100 [==============================] - 7s 74ms/step - loss: 0.0204 - sparse_categorical_accuracy: 0.9930\n",
            "Epoch 27/40\n",
            "100/100 [==============================] - 7s 74ms/step - loss: 0.0218 - sparse_categorical_accuracy: 0.9925\n",
            "Epoch 28/40\n",
            "100/100 [==============================] - 7s 74ms/step - loss: 0.0184 - sparse_categorical_accuracy: 0.9944\n",
            "Epoch 29/40\n",
            "100/100 [==============================] - 7s 74ms/step - loss: 0.0188 - sparse_categorical_accuracy: 0.9930\n",
            "Epoch 30/40\n",
            "100/100 [==============================] - 7s 74ms/step - loss: 0.0201 - sparse_categorical_accuracy: 0.9934\n",
            "Epoch 31/40\n",
            "100/100 [==============================] - 7s 74ms/step - loss: 0.0189 - sparse_categorical_accuracy: 0.9934\n",
            "Epoch 32/40\n",
            "100/100 [==============================] - 7s 74ms/step - loss: 0.0220 - sparse_categorical_accuracy: 0.9930\n",
            "Epoch 33/40\n",
            "100/100 [==============================] - 7s 74ms/step - loss: 0.0204 - sparse_categorical_accuracy: 0.9933\n",
            "Epoch 34/40\n",
            "100/100 [==============================] - 7s 74ms/step - loss: 0.0200 - sparse_categorical_accuracy: 0.9929\n",
            "Epoch 35/40\n",
            "100/100 [==============================] - 7s 74ms/step - loss: 0.0148 - sparse_categorical_accuracy: 0.9951\n",
            "Epoch 36/40\n",
            "100/100 [==============================] - 7s 74ms/step - loss: 0.0188 - sparse_categorical_accuracy: 0.9935\n",
            "Epoch 37/40\n",
            "100/100 [==============================] - 7s 74ms/step - loss: 0.0218 - sparse_categorical_accuracy: 0.9933\n",
            "Epoch 38/40\n",
            "100/100 [==============================] - 7s 74ms/step - loss: 0.0213 - sparse_categorical_accuracy: 0.9935\n",
            "Epoch 39/40\n",
            "100/100 [==============================] - 7s 74ms/step - loss: 0.0182 - sparse_categorical_accuracy: 0.9936\n",
            "Epoch 40/40\n",
            "100/100 [==============================] - 7s 74ms/step - loss: 0.0167 - sparse_categorical_accuracy: 0.9944\n"
          ],
          "name": "stdout"
        },
        {
          "output_type": "execute_result",
          "data": {
            "text/plain": [
              "<tensorflow.python.keras.callbacks.History at 0x7f97bf4d7790>"
            ]
          },
          "metadata": {
            "tags": []
          },
          "execution_count": 11
        }
      ]
    },
    {
      "cell_type": "code",
      "metadata": {
        "colab": {
          "base_uri": "https://localhost:8080/"
        },
        "id": "x6Q66zs2ytzH",
        "outputId": "cd838357-8602-4d33-fc33-685b69d3e92e"
      },
      "source": [
        "test_loss, test_acc = model.evaluate(x_test.astype(np.float32), y_test.astype(np.float32), verbose=1) \n",
        "\n",
        "print('Test accuracy:', test_acc)"
      ],
      "execution_count": null,
      "outputs": [
        {
          "output_type": "stream",
          "text": [
            "313/313 [==============================] - 6s 17ms/step - loss: 0.5614 - sparse_categorical_accuracy: 0.9315\n",
            "Test accuracy: 0.9314999580383301\n"
          ],
          "name": "stdout"
        }
      ]
    },
    {
      "cell_type": "code",
      "metadata": {
        "colab": {
          "base_uri": "https://localhost:8080/"
        },
        "id": "VrLvoRivyOoR",
        "outputId": "333fd778-2773-4501-9e2d-1f0f9b9b2140"
      },
      "source": [
        "model.fit(\n",
        "    x_train.astype(np.float32), y_train.astype(np.float32),\n",
        "    epochs=100,\n",
        "    steps_per_epoch=100,\n",
        "    validation_freq=17\n",
        ")"
      ],
      "execution_count": null,
      "outputs": [
        {
          "output_type": "stream",
          "text": [
            "Epoch 1/100\n",
            "100/100 [==============================] - 7s 74ms/step - loss: 0.0176 - sparse_categorical_accuracy: 0.9942\n",
            "Epoch 2/100\n",
            "100/100 [==============================] - 7s 74ms/step - loss: 0.0164 - sparse_categorical_accuracy: 0.9947\n",
            "Epoch 3/100\n",
            "100/100 [==============================] - 7s 74ms/step - loss: 0.0165 - sparse_categorical_accuracy: 0.9947\n",
            "Epoch 4/100\n",
            "100/100 [==============================] - 7s 74ms/step - loss: 0.0159 - sparse_categorical_accuracy: 0.9949\n",
            "Epoch 5/100\n",
            "100/100 [==============================] - 7s 74ms/step - loss: 0.0156 - sparse_categorical_accuracy: 0.9950\n",
            "Epoch 6/100\n",
            "100/100 [==============================] - 7s 74ms/step - loss: 0.0151 - sparse_categorical_accuracy: 0.9953\n",
            "Epoch 7/100\n",
            "100/100 [==============================] - 7s 74ms/step - loss: 0.0156 - sparse_categorical_accuracy: 0.9951\n",
            "Epoch 8/100\n",
            "100/100 [==============================] - 7s 75ms/step - loss: 0.0166 - sparse_categorical_accuracy: 0.9946\n",
            "Epoch 9/100\n",
            "100/100 [==============================] - 7s 74ms/step - loss: 0.0138 - sparse_categorical_accuracy: 0.9957\n",
            "Epoch 10/100\n",
            "100/100 [==============================] - 7s 74ms/step - loss: 0.0151 - sparse_categorical_accuracy: 0.9952\n",
            "Epoch 11/100\n",
            "100/100 [==============================] - 7s 74ms/step - loss: 0.0143 - sparse_categorical_accuracy: 0.9952\n",
            "Epoch 12/100\n",
            "100/100 [==============================] - 7s 74ms/step - loss: 0.0149 - sparse_categorical_accuracy: 0.9955\n",
            "Epoch 13/100\n",
            "100/100 [==============================] - 7s 74ms/step - loss: 0.0156 - sparse_categorical_accuracy: 0.9950\n",
            "Epoch 14/100\n",
            "100/100 [==============================] - 7s 74ms/step - loss: 0.0187 - sparse_categorical_accuracy: 0.9942\n",
            "Epoch 15/100\n",
            "100/100 [==============================] - 7s 75ms/step - loss: 0.0159 - sparse_categorical_accuracy: 0.9948\n",
            "Epoch 16/100\n",
            "100/100 [==============================] - 7s 74ms/step - loss: 0.0191 - sparse_categorical_accuracy: 0.9940\n",
            "Epoch 17/100\n",
            "100/100 [==============================] - 7s 74ms/step - loss: 0.0148 - sparse_categorical_accuracy: 0.9952\n",
            "Epoch 18/100\n",
            "100/100 [==============================] - 7s 75ms/step - loss: 0.0138 - sparse_categorical_accuracy: 0.9956\n",
            "Epoch 19/100\n",
            "100/100 [==============================] - 7s 74ms/step - loss: 0.0141 - sparse_categorical_accuracy: 0.9955\n",
            "Epoch 20/100\n",
            "100/100 [==============================] - 7s 74ms/step - loss: 0.0137 - sparse_categorical_accuracy: 0.9958\n",
            "Epoch 21/100\n",
            "100/100 [==============================] - 7s 74ms/step - loss: 0.0132 - sparse_categorical_accuracy: 0.9956\n",
            "Epoch 22/100\n",
            "100/100 [==============================] - 7s 74ms/step - loss: 0.0172 - sparse_categorical_accuracy: 0.9942\n",
            "Epoch 23/100\n",
            "100/100 [==============================] - 7s 74ms/step - loss: 0.0126 - sparse_categorical_accuracy: 0.9959\n",
            "Epoch 24/100\n",
            "100/100 [==============================] - 7s 74ms/step - loss: 0.0144 - sparse_categorical_accuracy: 0.9956\n",
            "Epoch 25/100\n",
            "100/100 [==============================] - 7s 74ms/step - loss: 0.0120 - sparse_categorical_accuracy: 0.9962\n",
            "Epoch 26/100\n",
            "100/100 [==============================] - 8s 76ms/step - loss: 0.0112 - sparse_categorical_accuracy: 0.9967\n",
            "Epoch 27/100\n",
            "100/100 [==============================] - 8s 75ms/step - loss: 0.0160 - sparse_categorical_accuracy: 0.9952\n",
            "Epoch 28/100\n",
            "100/100 [==============================] - 7s 74ms/step - loss: 0.0135 - sparse_categorical_accuracy: 0.9956\n",
            "Epoch 29/100\n",
            "100/100 [==============================] - 7s 74ms/step - loss: 0.0112 - sparse_categorical_accuracy: 0.9963\n",
            "Epoch 30/100\n",
            "100/100 [==============================] - 7s 74ms/step - loss: 0.0095 - sparse_categorical_accuracy: 0.9967\n",
            "Epoch 31/100\n",
            "100/100 [==============================] - 7s 74ms/step - loss: 0.0123 - sparse_categorical_accuracy: 0.9958\n",
            "Epoch 32/100\n",
            "100/100 [==============================] - 7s 74ms/step - loss: 0.0120 - sparse_categorical_accuracy: 0.9960\n",
            "Epoch 33/100\n",
            "100/100 [==============================] - 7s 75ms/step - loss: 0.0118 - sparse_categorical_accuracy: 0.9962\n",
            "Epoch 34/100\n",
            "100/100 [==============================] - 7s 74ms/step - loss: 0.0136 - sparse_categorical_accuracy: 0.9955\n",
            "Epoch 35/100\n",
            "100/100 [==============================] - 7s 74ms/step - loss: 0.0127 - sparse_categorical_accuracy: 0.9959\n",
            "Epoch 36/100\n",
            "100/100 [==============================] - 7s 74ms/step - loss: 0.0124 - sparse_categorical_accuracy: 0.9959\n",
            "Epoch 37/100\n",
            "100/100 [==============================] - 7s 75ms/step - loss: 0.0116 - sparse_categorical_accuracy: 0.9965\n",
            "Epoch 38/100\n",
            "100/100 [==============================] - 7s 74ms/step - loss: 0.0111 - sparse_categorical_accuracy: 0.9964\n",
            "Epoch 39/100\n",
            "100/100 [==============================] - 7s 75ms/step - loss: 0.0144 - sparse_categorical_accuracy: 0.9959\n",
            "Epoch 40/100\n",
            "100/100 [==============================] - 7s 74ms/step - loss: 0.0148 - sparse_categorical_accuracy: 0.9956\n",
            "Epoch 41/100\n",
            "100/100 [==============================] - 7s 74ms/step - loss: 0.0142 - sparse_categorical_accuracy: 0.9955\n",
            "Epoch 42/100\n",
            "100/100 [==============================] - 7s 75ms/step - loss: 0.0127 - sparse_categorical_accuracy: 0.9962\n",
            "Epoch 43/100\n",
            "100/100 [==============================] - 7s 75ms/step - loss: 0.0118 - sparse_categorical_accuracy: 0.9962\n",
            "Epoch 44/100\n",
            "100/100 [==============================] - 7s 75ms/step - loss: 0.0152 - sparse_categorical_accuracy: 0.9953\n",
            "Epoch 45/100\n",
            "100/100 [==============================] - 7s 75ms/step - loss: 0.0140 - sparse_categorical_accuracy: 0.9955\n",
            "Epoch 46/100\n",
            "100/100 [==============================] - 7s 74ms/step - loss: 0.0120 - sparse_categorical_accuracy: 0.9961\n",
            "Epoch 47/100\n",
            "100/100 [==============================] - 7s 74ms/step - loss: 0.0088 - sparse_categorical_accuracy: 0.9972\n",
            "Epoch 48/100\n",
            "100/100 [==============================] - 7s 74ms/step - loss: 0.0099 - sparse_categorical_accuracy: 0.9968\n",
            "Epoch 49/100\n",
            "100/100 [==============================] - 8s 75ms/step - loss: 0.0119 - sparse_categorical_accuracy: 0.9964\n",
            "Epoch 50/100\n",
            "100/100 [==============================] - 7s 74ms/step - loss: 0.0123 - sparse_categorical_accuracy: 0.9963\n",
            "Epoch 51/100\n",
            "100/100 [==============================] - 7s 75ms/step - loss: 0.0102 - sparse_categorical_accuracy: 0.9968\n",
            "Epoch 52/100\n",
            "100/100 [==============================] - 7s 75ms/step - loss: 0.0103 - sparse_categorical_accuracy: 0.9968\n",
            "Epoch 53/100\n",
            "100/100 [==============================] - 7s 75ms/step - loss: 0.0144 - sparse_categorical_accuracy: 0.9956\n",
            "Epoch 54/100\n",
            "100/100 [==============================] - 7s 74ms/step - loss: 0.0093 - sparse_categorical_accuracy: 0.9971\n",
            "Epoch 55/100\n",
            "100/100 [==============================] - 7s 74ms/step - loss: 0.0085 - sparse_categorical_accuracy: 0.9973\n",
            "Epoch 56/100\n",
            "100/100 [==============================] - 7s 74ms/step - loss: 0.0128 - sparse_categorical_accuracy: 0.9962\n",
            "Epoch 57/100\n",
            "100/100 [==============================] - 7s 74ms/step - loss: 0.0116 - sparse_categorical_accuracy: 0.9960\n",
            "Epoch 58/100\n",
            "100/100 [==============================] - 7s 75ms/step - loss: 0.0110 - sparse_categorical_accuracy: 0.9962\n",
            "Epoch 59/100\n",
            "100/100 [==============================] - 7s 75ms/step - loss: 0.0138 - sparse_categorical_accuracy: 0.9959\n",
            "Epoch 60/100\n",
            "100/100 [==============================] - 7s 74ms/step - loss: 0.0109 - sparse_categorical_accuracy: 0.9966\n",
            "Epoch 61/100\n",
            "100/100 [==============================] - 7s 74ms/step - loss: 0.0095 - sparse_categorical_accuracy: 0.9969\n",
            "Epoch 62/100\n",
            "100/100 [==============================] - 7s 75ms/step - loss: 0.0093 - sparse_categorical_accuracy: 0.9969\n",
            "Epoch 63/100\n",
            "100/100 [==============================] - 7s 74ms/step - loss: 0.0096 - sparse_categorical_accuracy: 0.9970\n",
            "Epoch 64/100\n",
            "100/100 [==============================] - 7s 74ms/step - loss: 0.0097 - sparse_categorical_accuracy: 0.9974\n",
            "Epoch 65/100\n",
            "100/100 [==============================] - 7s 74ms/step - loss: 0.0096 - sparse_categorical_accuracy: 0.9970\n",
            "Epoch 66/100\n",
            "100/100 [==============================] - 7s 75ms/step - loss: 0.0085 - sparse_categorical_accuracy: 0.9975\n",
            "Epoch 67/100\n",
            "100/100 [==============================] - 7s 74ms/step - loss: 0.0104 - sparse_categorical_accuracy: 0.9969\n",
            "Epoch 68/100\n",
            "100/100 [==============================] - 7s 74ms/step - loss: 0.0100 - sparse_categorical_accuracy: 0.9965\n",
            "Epoch 69/100\n",
            "100/100 [==============================] - 7s 74ms/step - loss: 0.0097 - sparse_categorical_accuracy: 0.9970\n",
            "Epoch 70/100\n",
            "100/100 [==============================] - 7s 75ms/step - loss: 0.0112 - sparse_categorical_accuracy: 0.9964\n",
            "Epoch 71/100\n",
            "100/100 [==============================] - 7s 75ms/step - loss: 0.0106 - sparse_categorical_accuracy: 0.9967\n",
            "Epoch 72/100\n",
            "100/100 [==============================] - 7s 74ms/step - loss: 0.0087 - sparse_categorical_accuracy: 0.9972\n",
            "Epoch 73/100\n",
            "100/100 [==============================] - 7s 75ms/step - loss: 0.0082 - sparse_categorical_accuracy: 0.9975\n",
            "Epoch 74/100\n",
            "100/100 [==============================] - 7s 75ms/step - loss: 0.0099 - sparse_categorical_accuracy: 0.9971\n",
            "Epoch 75/100\n",
            "100/100 [==============================] - 8s 75ms/step - loss: 0.0095 - sparse_categorical_accuracy: 0.9973\n",
            "Epoch 76/100\n",
            "100/100 [==============================] - 7s 74ms/step - loss: 0.0117 - sparse_categorical_accuracy: 0.9963\n",
            "Epoch 77/100\n",
            "100/100 [==============================] - 8s 75ms/step - loss: 0.0096 - sparse_categorical_accuracy: 0.9969\n",
            "Epoch 78/100\n",
            "100/100 [==============================] - 8s 75ms/step - loss: 0.0087 - sparse_categorical_accuracy: 0.9974\n",
            "Epoch 79/100\n",
            "100/100 [==============================] - 7s 75ms/step - loss: 0.0088 - sparse_categorical_accuracy: 0.9973\n",
            "Epoch 80/100\n",
            "100/100 [==============================] - 7s 75ms/step - loss: 0.0083 - sparse_categorical_accuracy: 0.9973\n",
            "Epoch 81/100\n",
            "100/100 [==============================] - 7s 75ms/step - loss: 0.0109 - sparse_categorical_accuracy: 0.9966\n",
            "Epoch 82/100\n",
            "100/100 [==============================] - 7s 75ms/step - loss: 0.0087 - sparse_categorical_accuracy: 0.9973\n",
            "Epoch 83/100\n",
            "100/100 [==============================] - 7s 75ms/step - loss: 0.0094 - sparse_categorical_accuracy: 0.9972\n",
            "Epoch 84/100\n",
            "100/100 [==============================] - 7s 75ms/step - loss: 0.0079 - sparse_categorical_accuracy: 0.9974\n",
            "Epoch 85/100\n",
            "100/100 [==============================] - 7s 75ms/step - loss: 0.0093 - sparse_categorical_accuracy: 0.9971\n",
            "Epoch 86/100\n",
            "100/100 [==============================] - 7s 75ms/step - loss: 0.0079 - sparse_categorical_accuracy: 0.9974\n",
            "Epoch 87/100\n",
            "100/100 [==============================] - 7s 75ms/step - loss: 0.0098 - sparse_categorical_accuracy: 0.9969\n",
            "Epoch 88/100\n",
            "100/100 [==============================] - 7s 74ms/step - loss: 0.0092 - sparse_categorical_accuracy: 0.9970\n",
            "Epoch 89/100\n",
            "100/100 [==============================] - 7s 75ms/step - loss: 0.0105 - sparse_categorical_accuracy: 0.9971\n",
            "Epoch 90/100\n",
            "100/100 [==============================] - 7s 75ms/step - loss: 0.0113 - sparse_categorical_accuracy: 0.9967\n",
            "Epoch 91/100\n",
            "100/100 [==============================] - 8s 75ms/step - loss: 0.0110 - sparse_categorical_accuracy: 0.9967\n",
            "Epoch 92/100\n",
            "100/100 [==============================] - 7s 74ms/step - loss: 0.0107 - sparse_categorical_accuracy: 0.9969\n",
            "Epoch 93/100\n",
            "100/100 [==============================] - 7s 74ms/step - loss: 0.0082 - sparse_categorical_accuracy: 0.9973\n",
            "Epoch 94/100\n",
            "100/100 [==============================] - 7s 74ms/step - loss: 0.0126 - sparse_categorical_accuracy: 0.9963\n",
            "Epoch 95/100\n",
            "100/100 [==============================] - 7s 74ms/step - loss: 0.0090 - sparse_categorical_accuracy: 0.9970\n",
            "Epoch 96/100\n",
            "100/100 [==============================] - 7s 74ms/step - loss: 0.0074 - sparse_categorical_accuracy: 0.9977\n",
            "Epoch 97/100\n",
            "100/100 [==============================] - 7s 74ms/step - loss: 0.0078 - sparse_categorical_accuracy: 0.9974\n",
            "Epoch 98/100\n",
            "100/100 [==============================] - 7s 74ms/step - loss: 0.0089 - sparse_categorical_accuracy: 0.9973\n",
            "Epoch 99/100\n",
            "100/100 [==============================] - 7s 74ms/step - loss: 0.0083 - sparse_categorical_accuracy: 0.9975\n",
            "Epoch 100/100\n",
            "100/100 [==============================] - 7s 75ms/step - loss: 0.0062 - sparse_categorical_accuracy: 0.9982\n"
          ],
          "name": "stdout"
        },
        {
          "output_type": "execute_result",
          "data": {
            "text/plain": [
              "<tensorflow.python.keras.callbacks.History at 0x7f97bf2ccdd0>"
            ]
          },
          "metadata": {
            "tags": []
          },
          "execution_count": 13
        }
      ]
    },
    {
      "cell_type": "code",
      "metadata": {
        "colab": {
          "base_uri": "https://localhost:8080/"
        },
        "id": "YQtkcPv_ytOi",
        "outputId": "ddb46e65-b1ca-4d40-dc2c-d19d18f79e1b"
      },
      "source": [
        "test_loss, test_acc = model.evaluate(x_test.astype(np.float32), y_test.astype(np.float32), verbose=1) \n",
        "\n",
        "print('Test accuracy:', test_acc)"
      ],
      "execution_count": null,
      "outputs": [
        {
          "output_type": "stream",
          "text": [
            "313/313 [==============================] - 5s 16ms/step - loss: 0.7550 - sparse_categorical_accuracy: 0.9343\n",
            "Test accuracy: 0.9343000054359436\n"
          ],
          "name": "stdout"
        }
      ]
    },
    {
      "cell_type": "code",
      "metadata": {
        "colab": {
          "base_uri": "https://localhost:8080/"
        },
        "id": "0nODv9IUyYwv",
        "outputId": "b7d5c407-b089-41d5-c704-64d6e23b332d"
      },
      "source": [
        "model.fit(\n",
        "    x_train.astype(np.float32), y_train.astype(np.float32),\n",
        "    epochs=5,\n",
        "    steps_per_epoch=500,\n",
        "    validation_freq=17\n",
        ")"
      ],
      "execution_count": null,
      "outputs": [
        {
          "output_type": "stream",
          "text": [
            "Epoch 1/5\n",
            "500/500 [==============================] - 24s 29ms/step - loss: 0.1346 - sparse_categorical_accuracy: 0.9598\n",
            "Epoch 2/5\n",
            "500/500 [==============================] - 15s 29ms/step - loss: 0.0704 - sparse_categorical_accuracy: 0.9775\n",
            "Epoch 3/5\n",
            "500/500 [==============================] - 15s 29ms/step - loss: 0.0494 - sparse_categorical_accuracy: 0.9846\n",
            "Epoch 4/5\n",
            "500/500 [==============================] - 15s 29ms/step - loss: 0.0401 - sparse_categorical_accuracy: 0.9871\n",
            "Epoch 5/5\n",
            "500/500 [==============================] - 15s 29ms/step - loss: 0.0438 - sparse_categorical_accuracy: 0.9869\n"
          ],
          "name": "stdout"
        },
        {
          "output_type": "execute_result",
          "data": {
            "text/plain": [
              "<tensorflow.python.keras.callbacks.History at 0x7f97bf50ed10>"
            ]
          },
          "metadata": {
            "tags": []
          },
          "execution_count": 15
        }
      ]
    },
    {
      "cell_type": "code",
      "metadata": {
        "colab": {
          "base_uri": "https://localhost:8080/"
        },
        "id": "eo8drpfhyq5O",
        "outputId": "d5f6b7b0-9967-4810-abab-430374185b2c"
      },
      "source": [
        "test_loss, test_acc = model.evaluate(x_test.astype(np.float32), y_test.astype(np.float32), verbose=1) \n",
        "\n",
        "print('Test accuracy:', test_acc)"
      ],
      "execution_count": null,
      "outputs": [
        {
          "output_type": "stream",
          "text": [
            "313/313 [==============================] - 5s 15ms/step - loss: 0.5067 - sparse_categorical_accuracy: 0.9262\n",
            "Test accuracy: 0.9261999726295471\n"
          ],
          "name": "stdout"
        }
      ]
    },
    {
      "cell_type": "code",
      "metadata": {
        "colab": {
          "base_uri": "https://localhost:8080/"
        },
        "id": "Iny4ZW-QyinD",
        "outputId": "4040f592-9af7-428b-aa98-3a901404eb7f"
      },
      "source": [
        "model.fit(\n",
        "    x_train.astype(np.float32), y_train.astype(np.float32),\n",
        "    epochs=10,\n",
        "    steps_per_epoch=500,\n",
        "    validation_freq=17\n",
        ")"
      ],
      "execution_count": null,
      "outputs": [
        {
          "output_type": "stream",
          "text": [
            "Epoch 1/10\n",
            "500/500 [==============================] - 15s 29ms/step - loss: 0.0403 - sparse_categorical_accuracy: 0.9877\n",
            "Epoch 2/10\n",
            "500/500 [==============================] - 15s 29ms/step - loss: 0.0413 - sparse_categorical_accuracy: 0.9871\n",
            "Epoch 3/10\n",
            "500/500 [==============================] - 15s 29ms/step - loss: 0.0355 - sparse_categorical_accuracy: 0.9881\n",
            "Epoch 4/10\n",
            "500/500 [==============================] - 15s 29ms/step - loss: 0.0362 - sparse_categorical_accuracy: 0.9889\n",
            "Epoch 5/10\n",
            "500/500 [==============================] - 15s 29ms/step - loss: 0.0402 - sparse_categorical_accuracy: 0.9879\n",
            "Epoch 6/10\n",
            "500/500 [==============================] - 15s 29ms/step - loss: 0.0423 - sparse_categorical_accuracy: 0.9869\n",
            "Epoch 7/10\n",
            "500/500 [==============================] - 15s 29ms/step - loss: 0.0337 - sparse_categorical_accuracy: 0.9890\n",
            "Epoch 8/10\n",
            "500/500 [==============================] - 15s 29ms/step - loss: 0.0359 - sparse_categorical_accuracy: 0.9892\n",
            "Epoch 9/10\n",
            "500/500 [==============================] - 15s 29ms/step - loss: 0.0382 - sparse_categorical_accuracy: 0.9886\n",
            "Epoch 10/10\n",
            "500/500 [==============================] - 15s 29ms/step - loss: 0.0325 - sparse_categorical_accuracy: 0.9903\n"
          ],
          "name": "stdout"
        },
        {
          "output_type": "execute_result",
          "data": {
            "text/plain": [
              "<tensorflow.python.keras.callbacks.History at 0x7f97c0866810>"
            ]
          },
          "metadata": {
            "tags": []
          },
          "execution_count": 17
        }
      ]
    },
    {
      "cell_type": "code",
      "metadata": {
        "colab": {
          "base_uri": "https://localhost:8080/"
        },
        "id": "WI4pzfb3yqjG",
        "outputId": "c6169d0e-0cbc-4e63-c4bf-e9a760cd870e"
      },
      "source": [
        "test_loss, test_acc = model.evaluate(x_test.astype(np.float32), y_test.astype(np.float32), verbose=1) \n",
        "\n",
        "print('Test accuracy:', test_acc)"
      ],
      "execution_count": null,
      "outputs": [
        {
          "output_type": "stream",
          "text": [
            "313/313 [==============================] - 5s 15ms/step - loss: 0.4423 - sparse_categorical_accuracy: 0.9258\n",
            "Test accuracy: 0.9257999658584595\n"
          ],
          "name": "stdout"
        }
      ]
    },
    {
      "cell_type": "code",
      "metadata": {
        "colab": {
          "base_uri": "https://localhost:8080/"
        },
        "id": "19ieUAYyyieh",
        "outputId": "e373c915-3283-4072-b0f2-4467db380b26"
      },
      "source": [
        "model.fit(\n",
        "    x_train.astype(np.float32), y_train.astype(np.float32),\n",
        "    epochs=20,\n",
        "    steps_per_epoch=500,\n",
        "    validation_freq=17\n",
        ")"
      ],
      "execution_count": null,
      "outputs": [
        {
          "output_type": "stream",
          "text": [
            "Epoch 1/20\n",
            "500/500 [==============================] - 14s 28ms/step - loss: 0.0494 - sparse_categorical_accuracy: 0.9829\n",
            "Epoch 2/20\n",
            "500/500 [==============================] - 14s 28ms/step - loss: 0.0498 - sparse_categorical_accuracy: 0.9839\n",
            "Epoch 3/20\n",
            "500/500 [==============================] - 14s 28ms/step - loss: 0.0514 - sparse_categorical_accuracy: 0.9833\n",
            "Epoch 4/20\n",
            "500/500 [==============================] - 14s 28ms/step - loss: 0.0461 - sparse_categorical_accuracy: 0.9845\n",
            "Epoch 5/20\n",
            "500/500 [==============================] - 14s 28ms/step - loss: 0.0429 - sparse_categorical_accuracy: 0.9861\n",
            "Epoch 6/20\n",
            "500/500 [==============================] - 14s 28ms/step - loss: 0.0431 - sparse_categorical_accuracy: 0.9856\n",
            "Epoch 7/20\n",
            "500/500 [==============================] - 14s 28ms/step - loss: 0.0411 - sparse_categorical_accuracy: 0.9860\n",
            "Epoch 8/20\n",
            "500/500 [==============================] - 14s 28ms/step - loss: 0.0393 - sparse_categorical_accuracy: 0.9871\n",
            "Epoch 9/20\n",
            "500/500 [==============================] - 14s 28ms/step - loss: 0.0443 - sparse_categorical_accuracy: 0.9853\n",
            "Epoch 10/20\n",
            "500/500 [==============================] - 14s 28ms/step - loss: 0.0446 - sparse_categorical_accuracy: 0.9849\n",
            "Epoch 11/20\n",
            "500/500 [==============================] - 14s 28ms/step - loss: 0.0434 - sparse_categorical_accuracy: 0.9857\n",
            "Epoch 12/20\n",
            "500/500 [==============================] - 14s 28ms/step - loss: 0.0378 - sparse_categorical_accuracy: 0.9870\n",
            "Epoch 13/20\n",
            "500/500 [==============================] - 14s 28ms/step - loss: 0.0353 - sparse_categorical_accuracy: 0.9880\n",
            "Epoch 14/20\n",
            "500/500 [==============================] - 14s 28ms/step - loss: 0.0371 - sparse_categorical_accuracy: 0.9883\n",
            "Epoch 15/20\n",
            "500/500 [==============================] - 14s 28ms/step - loss: 0.0352 - sparse_categorical_accuracy: 0.9889\n",
            "Epoch 16/20\n",
            "500/500 [==============================] - 14s 28ms/step - loss: 0.0380 - sparse_categorical_accuracy: 0.9877\n",
            "Epoch 17/20\n",
            "500/500 [==============================] - 14s 28ms/step - loss: 0.0361 - sparse_categorical_accuracy: 0.9881\n",
            "Epoch 18/20\n",
            "500/500 [==============================] - 14s 28ms/step - loss: 0.0336 - sparse_categorical_accuracy: 0.9886\n",
            "Epoch 19/20\n",
            "500/500 [==============================] - 14s 28ms/step - loss: 0.0392 - sparse_categorical_accuracy: 0.9878\n",
            "Epoch 20/20\n",
            "500/500 [==============================] - 14s 28ms/step - loss: 0.0338 - sparse_categorical_accuracy: 0.9892\n"
          ],
          "name": "stdout"
        },
        {
          "output_type": "execute_result",
          "data": {
            "text/plain": [
              "<tensorflow.python.keras.callbacks.History at 0x7f97bec1d790>"
            ]
          },
          "metadata": {
            "tags": []
          },
          "execution_count": 38
        }
      ]
    },
    {
      "cell_type": "code",
      "metadata": {
        "id": "UvCiF2wayqO3",
        "colab": {
          "base_uri": "https://localhost:8080/"
        },
        "outputId": "dae0af2b-c0be-4615-94a5-bc90cef5e70d"
      },
      "source": [
        "test_loss, test_acc = model.evaluate(x_test.astype(np.float32), y_test.astype(np.float32), verbose=1) \n",
        "\n",
        "print('Test accuracy:', test_acc)"
      ],
      "execution_count": null,
      "outputs": [
        {
          "output_type": "stream",
          "text": [
            "Exception ignored in: <function IteratorResourceDeleter.__del__ at 0x7f9802d20830>\n",
            "Traceback (most recent call last):\n",
            "  File \"/usr/local/lib/python3.7/dist-packages/tensorflow/python/data/ops/iterator_ops.py\", line 535, in __del__\n",
            "    handle=self._handle, deleter=self._deleter)\n",
            "  File \"/usr/local/lib/python3.7/dist-packages/tensorflow/python/ops/gen_dataset_ops.py\", line 1267, in delete_iterator\n",
            "    _ops.raise_from_not_ok_status(e, name)\n",
            "  File \"/usr/local/lib/python3.7/dist-packages/tensorflow/python/framework/ops.py\", line 6862, in raise_from_not_ok_status\n",
            "    six.raise_from(core._status_to_exception(e.code, message), None)\n",
            "  File \"<string>\", line 3, in raise_from\n",
            "tensorflow.python.framework.errors_impl.InvalidArgumentError: Resource input tensor contains an invalid device. This might happen when the client has connected to a different cluster, or some remote workers have been restarted. [Op:DeleteIterator]\n",
            "Exception ignored in: <function IteratorResourceDeleter.__del__ at 0x7f9802d20830>\n",
            "Traceback (most recent call last):\n",
            "  File \"/usr/local/lib/python3.7/dist-packages/tensorflow/python/data/ops/iterator_ops.py\", line 535, in __del__\n",
            "    handle=self._handle, deleter=self._deleter)\n",
            "  File \"/usr/local/lib/python3.7/dist-packages/tensorflow/python/ops/gen_dataset_ops.py\", line 1267, in delete_iterator\n",
            "    _ops.raise_from_not_ok_status(e, name)\n",
            "  File \"/usr/local/lib/python3.7/dist-packages/tensorflow/python/framework/ops.py\", line 6862, in raise_from_not_ok_status\n",
            "    six.raise_from(core._status_to_exception(e.code, message), None)\n",
            "  File \"<string>\", line 3, in raise_from\n",
            "tensorflow.python.framework.errors_impl.InvalidArgumentError: Resource input tensor contains an invalid device. This might happen when the client has connected to a different cluster, or some remote workers have been restarted. [Op:DeleteIterator]\n",
            "Exception ignored in: <function IteratorResourceDeleter.__del__ at 0x7f9802d20830>\n",
            "Traceback (most recent call last):\n",
            "  File \"/usr/local/lib/python3.7/dist-packages/tensorflow/python/data/ops/iterator_ops.py\", line 535, in __del__\n",
            "    handle=self._handle, deleter=self._deleter)\n",
            "  File \"/usr/local/lib/python3.7/dist-packages/tensorflow/python/ops/gen_dataset_ops.py\", line 1267, in delete_iterator\n",
            "    _ops.raise_from_not_ok_status(e, name)\n",
            "  File \"/usr/local/lib/python3.7/dist-packages/tensorflow/python/framework/ops.py\", line 6862, in raise_from_not_ok_status\n",
            "    six.raise_from(core._status_to_exception(e.code, message), None)\n",
            "  File \"<string>\", line 3, in raise_from\n",
            "tensorflow.python.framework.errors_impl.InvalidArgumentError: Resource input tensor contains an invalid device. This might happen when the client has connected to a different cluster, or some remote workers have been restarted. [Op:DeleteIterator]\n",
            "Exception ignored in: <function IteratorResourceDeleter.__del__ at 0x7f9802d20830>\n",
            "Traceback (most recent call last):\n",
            "  File \"/usr/local/lib/python3.7/dist-packages/tensorflow/python/data/ops/iterator_ops.py\", line 535, in __del__\n",
            "    handle=self._handle, deleter=self._deleter)\n",
            "  File \"/usr/local/lib/python3.7/dist-packages/tensorflow/python/ops/gen_dataset_ops.py\", line 1267, in delete_iterator\n",
            "    _ops.raise_from_not_ok_status(e, name)\n",
            "  File \"/usr/local/lib/python3.7/dist-packages/tensorflow/python/framework/ops.py\", line 6862, in raise_from_not_ok_status\n",
            "    six.raise_from(core._status_to_exception(e.code, message), None)\n",
            "  File \"<string>\", line 3, in raise_from\n",
            "tensorflow.python.framework.errors_impl.InvalidArgumentError: Resource input tensor contains an invalid device. This might happen when the client has connected to a different cluster, or some remote workers have been restarted. [Op:DeleteIterator]\n",
            "Exception ignored in: <function IteratorResourceDeleter.__del__ at 0x7f9802d20830>\n",
            "Traceback (most recent call last):\n",
            "  File \"/usr/local/lib/python3.7/dist-packages/tensorflow/python/data/ops/iterator_ops.py\", line 535, in __del__\n",
            "    handle=self._handle, deleter=self._deleter)\n",
            "  File \"/usr/local/lib/python3.7/dist-packages/tensorflow/python/ops/gen_dataset_ops.py\", line 1267, in delete_iterator\n",
            "    _ops.raise_from_not_ok_status(e, name)\n",
            "  File \"/usr/local/lib/python3.7/dist-packages/tensorflow/python/framework/ops.py\", line 6862, in raise_from_not_ok_status\n",
            "    six.raise_from(core._status_to_exception(e.code, message), None)\n",
            "  File \"<string>\", line 3, in raise_from\n",
            "tensorflow.python.framework.errors_impl.InvalidArgumentError: Resource input tensor contains an invalid device. This might happen when the client has connected to a different cluster, or some remote workers have been restarted. [Op:DeleteIterator]\n",
            "Exception ignored in: <function IteratorResourceDeleter.__del__ at 0x7f9802d20830>\n",
            "Traceback (most recent call last):\n",
            "  File \"/usr/local/lib/python3.7/dist-packages/tensorflow/python/data/ops/iterator_ops.py\", line 535, in __del__\n",
            "    handle=self._handle, deleter=self._deleter)\n",
            "  File \"/usr/local/lib/python3.7/dist-packages/tensorflow/python/ops/gen_dataset_ops.py\", line 1267, in delete_iterator\n",
            "    _ops.raise_from_not_ok_status(e, name)\n",
            "  File \"/usr/local/lib/python3.7/dist-packages/tensorflow/python/framework/ops.py\", line 6862, in raise_from_not_ok_status\n",
            "    six.raise_from(core._status_to_exception(e.code, message), None)\n",
            "  File \"<string>\", line 3, in raise_from\n",
            "tensorflow.python.framework.errors_impl.InvalidArgumentError: Resource input tensor contains an invalid device. This might happen when the client has connected to a different cluster, or some remote workers have been restarted. [Op:DeleteIterator]\n",
            "Exception ignored in: <function IteratorResourceDeleter.__del__ at 0x7f9802d20830>\n",
            "Traceback (most recent call last):\n",
            "  File \"/usr/local/lib/python3.7/dist-packages/tensorflow/python/data/ops/iterator_ops.py\", line 535, in __del__\n",
            "    handle=self._handle, deleter=self._deleter)\n",
            "  File \"/usr/local/lib/python3.7/dist-packages/tensorflow/python/ops/gen_dataset_ops.py\", line 1267, in delete_iterator\n",
            "    _ops.raise_from_not_ok_status(e, name)\n",
            "  File \"/usr/local/lib/python3.7/dist-packages/tensorflow/python/framework/ops.py\", line 6862, in raise_from_not_ok_status\n",
            "    six.raise_from(core._status_to_exception(e.code, message), None)\n",
            "  File \"<string>\", line 3, in raise_from\n",
            "tensorflow.python.framework.errors_impl.InvalidArgumentError: Resource input tensor contains an invalid device. This might happen when the client has connected to a different cluster, or some remote workers have been restarted. [Op:DeleteIterator]\n",
            "Exception ignored in: <function IteratorResourceDeleter.__del__ at 0x7f9802d20830>\n",
            "Traceback (most recent call last):\n",
            "  File \"/usr/local/lib/python3.7/dist-packages/tensorflow/python/data/ops/iterator_ops.py\", line 535, in __del__\n",
            "    handle=self._handle, deleter=self._deleter)\n",
            "  File \"/usr/local/lib/python3.7/dist-packages/tensorflow/python/ops/gen_dataset_ops.py\", line 1267, in delete_iterator\n",
            "    _ops.raise_from_not_ok_status(e, name)\n",
            "  File \"/usr/local/lib/python3.7/dist-packages/tensorflow/python/framework/ops.py\", line 6862, in raise_from_not_ok_status\n",
            "    six.raise_from(core._status_to_exception(e.code, message), None)\n",
            "  File \"<string>\", line 3, in raise_from\n",
            "tensorflow.python.framework.errors_impl.InvalidArgumentError: Resource input tensor contains an invalid device. This might happen when the client has connected to a different cluster, or some remote workers have been restarted. [Op:DeleteIterator]\n"
          ],
          "name": "stderr"
        },
        {
          "output_type": "stream",
          "text": [
            "313/313 [==============================] - 9s 20ms/step - loss: 5.6101 - sparse_categorical_accuracy: 0.1075\n",
            "Test accuracy: 0.10939999669790268\n"
          ],
          "name": "stdout"
        }
      ]
    },
    {
      "cell_type": "code",
      "metadata": {
        "id": "7yvRx5kGyiVq",
        "colab": {
          "base_uri": "https://localhost:8080/"
        },
        "outputId": "03d0faf5-2424-4eb6-db4d-91c2c83a0760"
      },
      "source": [
        "model.fit(\n",
        "    x_train.astype(np.float32), y_train.astype(np.float32),\n",
        "    epochs=40,\n",
        "    steps_per_epoch=500,\n",
        "    validation_freq=17\n",
        ")"
      ],
      "execution_count": 5,
      "outputs": [
        {
          "output_type": "stream",
          "text": [
            "Epoch 1/40\n",
            "500/500 [==============================] - 25s 29ms/step - loss: 0.7797 - sparse_categorical_accuracy: 0.7225\n",
            "Epoch 2/40\n",
            "500/500 [==============================] - 14s 28ms/step - loss: 0.3579 - sparse_categorical_accuracy: 0.8723\n",
            "Epoch 3/40\n",
            "500/500 [==============================] - 14s 29ms/step - loss: 0.2969 - sparse_categorical_accuracy: 0.8921\n",
            "Epoch 4/40\n",
            "500/500 [==============================] - 14s 28ms/step - loss: 0.2675 - sparse_categorical_accuracy: 0.9052\n",
            "Epoch 5/40\n",
            "500/500 [==============================] - 14s 28ms/step - loss: 0.2399 - sparse_categorical_accuracy: 0.9121\n",
            "Epoch 6/40\n",
            "500/500 [==============================] - 14s 29ms/step - loss: 0.2155 - sparse_categorical_accuracy: 0.9223\n",
            "Epoch 7/40\n",
            "500/500 [==============================] - 14s 28ms/step - loss: 0.2062 - sparse_categorical_accuracy: 0.9237\n",
            "Epoch 8/40\n",
            "500/500 [==============================] - 14s 28ms/step - loss: 0.1892 - sparse_categorical_accuracy: 0.9318\n",
            "Epoch 9/40\n",
            "500/500 [==============================] - 14s 29ms/step - loss: 0.1761 - sparse_categorical_accuracy: 0.9341\n",
            "Epoch 10/40\n",
            "500/500 [==============================] - 14s 28ms/step - loss: 0.1614 - sparse_categorical_accuracy: 0.9403\n",
            "Epoch 11/40\n",
            "500/500 [==============================] - 14s 28ms/step - loss: 0.1571 - sparse_categorical_accuracy: 0.9416\n",
            "Epoch 12/40\n",
            "500/500 [==============================] - 14s 28ms/step - loss: 0.1498 - sparse_categorical_accuracy: 0.9448\n",
            "Epoch 13/40\n",
            "500/500 [==============================] - 14s 28ms/step - loss: 0.1364 - sparse_categorical_accuracy: 0.9502\n",
            "Epoch 14/40\n",
            "500/500 [==============================] - 14s 28ms/step - loss: 0.1358 - sparse_categorical_accuracy: 0.9510\n",
            "Epoch 15/40\n",
            "500/500 [==============================] - 15s 29ms/step - loss: 0.1204 - sparse_categorical_accuracy: 0.9556\n",
            "Epoch 16/40\n",
            "500/500 [==============================] - 14s 28ms/step - loss: 0.1196 - sparse_categorical_accuracy: 0.9536\n",
            "Epoch 17/40\n",
            "500/500 [==============================] - 15s 29ms/step - loss: 0.1145 - sparse_categorical_accuracy: 0.9564\n",
            "Epoch 18/40\n",
            "500/500 [==============================] - 14s 29ms/step - loss: 0.1043 - sparse_categorical_accuracy: 0.9618\n",
            "Epoch 19/40\n",
            "500/500 [==============================] - 14s 28ms/step - loss: 0.1018 - sparse_categorical_accuracy: 0.9622\n",
            "Epoch 20/40\n",
            "500/500 [==============================] - 14s 28ms/step - loss: 0.0987 - sparse_categorical_accuracy: 0.9647\n",
            "Epoch 21/40\n",
            "500/500 [==============================] - 14s 28ms/step - loss: 0.0982 - sparse_categorical_accuracy: 0.9648\n",
            "Epoch 22/40\n",
            "500/500 [==============================] - 14s 28ms/step - loss: 0.0888 - sparse_categorical_accuracy: 0.9680\n",
            "Epoch 23/40\n",
            "500/500 [==============================] - 14s 28ms/step - loss: 0.0825 - sparse_categorical_accuracy: 0.9694\n",
            "Epoch 24/40\n",
            "500/500 [==============================] - 14s 28ms/step - loss: 0.0809 - sparse_categorical_accuracy: 0.9703\n",
            "Epoch 25/40\n",
            "500/500 [==============================] - 14s 28ms/step - loss: 0.0801 - sparse_categorical_accuracy: 0.9711\n",
            "Epoch 26/40\n",
            "500/500 [==============================] - 14s 28ms/step - loss: 0.0825 - sparse_categorical_accuracy: 0.9715\n",
            "Epoch 27/40\n",
            "500/500 [==============================] - 14s 28ms/step - loss: 0.0695 - sparse_categorical_accuracy: 0.9734\n",
            "Epoch 28/40\n",
            "500/500 [==============================] - 14s 28ms/step - loss: 0.0721 - sparse_categorical_accuracy: 0.9746\n",
            "Epoch 29/40\n",
            "500/500 [==============================] - 14s 28ms/step - loss: 0.0610 - sparse_categorical_accuracy: 0.9778\n",
            "Epoch 30/40\n",
            "500/500 [==============================] - 14s 28ms/step - loss: 0.0652 - sparse_categorical_accuracy: 0.9765\n",
            "Epoch 31/40\n",
            "500/500 [==============================] - 14s 28ms/step - loss: 0.0678 - sparse_categorical_accuracy: 0.9765\n",
            "Epoch 32/40\n",
            "500/500 [==============================] - 14s 28ms/step - loss: 0.0597 - sparse_categorical_accuracy: 0.9785\n",
            "Epoch 33/40\n",
            "500/500 [==============================] - 14s 28ms/step - loss: 0.0636 - sparse_categorical_accuracy: 0.9783\n",
            "Epoch 34/40\n",
            "500/500 [==============================] - 14s 28ms/step - loss: 0.0540 - sparse_categorical_accuracy: 0.9796\n",
            "Epoch 35/40\n",
            "500/500 [==============================] - 14s 28ms/step - loss: 0.0505 - sparse_categorical_accuracy: 0.9822\n",
            "Epoch 36/40\n",
            "500/500 [==============================] - 14s 28ms/step - loss: 0.0570 - sparse_categorical_accuracy: 0.9794\n",
            "Epoch 37/40\n",
            "500/500 [==============================] - 14s 28ms/step - loss: 0.0518 - sparse_categorical_accuracy: 0.9825\n",
            "Epoch 38/40\n",
            "500/500 [==============================] - 14s 28ms/step - loss: 0.0503 - sparse_categorical_accuracy: 0.9823\n",
            "Epoch 39/40\n",
            "500/500 [==============================] - 14s 28ms/step - loss: 0.0487 - sparse_categorical_accuracy: 0.9836\n",
            "Epoch 40/40\n",
            "500/500 [==============================] - 14s 28ms/step - loss: 0.0514 - sparse_categorical_accuracy: 0.9820\n"
          ],
          "name": "stdout"
        },
        {
          "output_type": "execute_result",
          "data": {
            "text/plain": [
              "<tensorflow.python.keras.callbacks.History at 0x7fd1c8cda350>"
            ]
          },
          "metadata": {
            "tags": []
          },
          "execution_count": 5
        }
      ]
    },
    {
      "cell_type": "code",
      "metadata": {
        "id": "VOMETb2Rypol",
        "colab": {
          "base_uri": "https://localhost:8080/"
        },
        "outputId": "8b6fec17-c7cc-463a-96d1-0a752b0bd416"
      },
      "source": [
        "test_loss, test_acc = model.evaluate(x_test.astype(np.float32), y_test.astype(np.float32), verbose=1) \n",
        "\n",
        "print('Test accuracy:', test_acc)"
      ],
      "execution_count": 6,
      "outputs": [
        {
          "output_type": "stream",
          "text": [
            "313/313 [==============================] - 9s 20ms/step - loss: 0.3575 - sparse_categorical_accuracy: 0.9277\n",
            "Test accuracy: 0.9276999831199646\n"
          ],
          "name": "stdout"
        }
      ]
    },
    {
      "cell_type": "code",
      "metadata": {
        "id": "Ntdn2zQCyiNa",
        "colab": {
          "base_uri": "https://localhost:8080/"
        },
        "outputId": "6fd4ad88-442f-4e7c-f46b-193e44fb2d50"
      },
      "source": [
        "model.fit(\n",
        "    x_train.astype(np.float32), y_train.astype(np.float32),\n",
        "    epochs=100,\n",
        "    steps_per_epoch=500,\n",
        "    validation_freq=17\n",
        ")"
      ],
      "execution_count": null,
      "outputs": [
        {
          "output_type": "stream",
          "text": [
            "Epoch 1/100\n",
            "500/500 [==============================] - 14s 28ms/step - loss: 0.0308 - sparse_categorical_accuracy: 0.9897\n",
            "Epoch 2/100\n",
            "500/500 [==============================] - 14s 28ms/step - loss: 0.0310 - sparse_categorical_accuracy: 0.9901\n",
            "Epoch 3/100\n",
            "500/500 [==============================] - 14s 28ms/step - loss: 0.0336 - sparse_categorical_accuracy: 0.9892\n",
            "Epoch 4/100\n",
            "500/500 [==============================] - 14s 28ms/step - loss: 0.0307 - sparse_categorical_accuracy: 0.9899\n",
            "Epoch 5/100\n",
            "500/500 [==============================] - 14s 28ms/step - loss: 0.0337 - sparse_categorical_accuracy: 0.9892\n",
            "Epoch 6/100\n",
            "500/500 [==============================] - 14s 28ms/step - loss: 0.0334 - sparse_categorical_accuracy: 0.9890\n",
            "Epoch 7/100\n",
            "500/500 [==============================] - 14s 28ms/step - loss: 0.0295 - sparse_categorical_accuracy: 0.9911\n",
            "Epoch 8/100\n",
            "500/500 [==============================] - 14s 28ms/step - loss: 0.0298 - sparse_categorical_accuracy: 0.9909\n",
            "Epoch 9/100\n",
            "500/500 [==============================] - 14s 28ms/step - loss: 0.0314 - sparse_categorical_accuracy: 0.9901\n",
            "Epoch 10/100\n",
            "500/500 [==============================] - 14s 28ms/step - loss: 0.0297 - sparse_categorical_accuracy: 0.9906\n",
            "Epoch 11/100\n",
            "500/500 [==============================] - 14s 28ms/step - loss: 0.0276 - sparse_categorical_accuracy: 0.9911\n",
            "Epoch 12/100\n",
            "500/500 [==============================] - 14s 28ms/step - loss: 0.0276 - sparse_categorical_accuracy: 0.9911\n",
            "Epoch 13/100\n",
            "500/500 [==============================] - 14s 28ms/step - loss: 0.0273 - sparse_categorical_accuracy: 0.9912\n",
            "Epoch 14/100\n",
            "500/500 [==============================] - 14s 28ms/step - loss: 0.0318 - sparse_categorical_accuracy: 0.9903\n",
            "Epoch 15/100\n",
            "500/500 [==============================] - 14s 28ms/step - loss: 0.0264 - sparse_categorical_accuracy: 0.9916\n",
            "Epoch 16/100\n",
            "500/500 [==============================] - 14s 28ms/step - loss: 0.0253 - sparse_categorical_accuracy: 0.9916\n",
            "Epoch 17/100\n",
            "500/500 [==============================] - 14s 28ms/step - loss: 0.0268 - sparse_categorical_accuracy: 0.9916\n",
            "Epoch 18/100\n",
            "500/500 [==============================] - 14s 28ms/step - loss: 0.0302 - sparse_categorical_accuracy: 0.9913\n",
            "Epoch 19/100\n",
            "500/500 [==============================] - 14s 28ms/step - loss: 0.0278 - sparse_categorical_accuracy: 0.9912\n",
            "Epoch 20/100\n",
            "500/500 [==============================] - 14s 28ms/step - loss: 0.0255 - sparse_categorical_accuracy: 0.9922\n",
            "Epoch 21/100\n",
            "500/500 [==============================] - 14s 28ms/step - loss: 0.0234 - sparse_categorical_accuracy: 0.9928\n",
            "Epoch 22/100\n",
            "500/500 [==============================] - 14s 28ms/step - loss: 0.0210 - sparse_categorical_accuracy: 0.9934\n",
            "Epoch 23/100\n",
            "500/500 [==============================] - 14s 28ms/step - loss: 0.0282 - sparse_categorical_accuracy: 0.9915\n",
            "Epoch 24/100\n",
            "500/500 [==============================] - 14s 28ms/step - loss: 0.0242 - sparse_categorical_accuracy: 0.9924\n",
            "Epoch 25/100\n",
            "500/500 [==============================] - 14s 28ms/step - loss: 0.0257 - sparse_categorical_accuracy: 0.9922\n",
            "Epoch 26/100\n",
            "500/500 [==============================] - 14s 28ms/step - loss: 0.0274 - sparse_categorical_accuracy: 0.9920\n",
            "Epoch 27/100\n",
            "500/500 [==============================] - 14s 28ms/step - loss: 0.0273 - sparse_categorical_accuracy: 0.9919\n",
            "Epoch 28/100\n",
            "500/500 [==============================] - 14s 28ms/step - loss: 0.0222 - sparse_categorical_accuracy: 0.9927\n",
            "Epoch 29/100\n",
            "500/500 [==============================] - 14s 28ms/step - loss: 0.0232 - sparse_categorical_accuracy: 0.9933\n",
            "Epoch 30/100\n",
            "500/500 [==============================] - 14s 28ms/step - loss: 0.0231 - sparse_categorical_accuracy: 0.9929\n",
            "Epoch 31/100\n",
            "500/500 [==============================] - 14s 28ms/step - loss: 0.0215 - sparse_categorical_accuracy: 0.9933\n",
            "Epoch 32/100\n",
            "500/500 [==============================] - 14s 28ms/step - loss: 0.0245 - sparse_categorical_accuracy: 0.9924\n",
            "Epoch 33/100\n",
            "500/500 [==============================] - 14s 28ms/step - loss: 0.0201 - sparse_categorical_accuracy: 0.9938\n",
            "Epoch 34/100\n",
            "500/500 [==============================] - 14s 28ms/step - loss: 0.0212 - sparse_categorical_accuracy: 0.9933\n",
            "Epoch 35/100\n",
            "500/500 [==============================] - 14s 28ms/step - loss: 0.0215 - sparse_categorical_accuracy: 0.9931\n",
            "Epoch 36/100\n",
            "500/500 [==============================] - 14s 28ms/step - loss: 0.0207 - sparse_categorical_accuracy: 0.9938\n",
            "Epoch 37/100\n",
            "500/500 [==============================] - 14s 28ms/step - loss: 0.0203 - sparse_categorical_accuracy: 0.9938\n",
            "Epoch 38/100\n",
            "500/500 [==============================] - 14s 28ms/step - loss: 0.0210 - sparse_categorical_accuracy: 0.9940\n",
            "Epoch 39/100\n",
            "500/500 [==============================] - 14s 28ms/step - loss: 0.0230 - sparse_categorical_accuracy: 0.9929\n",
            "Epoch 40/100\n",
            "500/500 [==============================] - 14s 28ms/step - loss: 0.0235 - sparse_categorical_accuracy: 0.9934\n",
            "Epoch 41/100\n",
            "500/500 [==============================] - 14s 29ms/step - loss: 0.0222 - sparse_categorical_accuracy: 0.9935\n",
            "Epoch 42/100\n",
            "500/500 [==============================] - 14s 28ms/step - loss: 0.0240 - sparse_categorical_accuracy: 0.9932\n",
            "Epoch 43/100\n",
            "500/500 [==============================] - 14s 28ms/step - loss: 0.0228 - sparse_categorical_accuracy: 0.9935\n",
            "Epoch 44/100\n",
            "500/500 [==============================] - 14s 28ms/step - loss: 0.0224 - sparse_categorical_accuracy: 0.9934\n",
            "Epoch 45/100\n",
            "500/500 [==============================] - 14s 28ms/step - loss: 0.0224 - sparse_categorical_accuracy: 0.9939\n",
            "Epoch 46/100\n",
            "500/500 [==============================] - 14s 28ms/step - loss: 0.0209 - sparse_categorical_accuracy: 0.9937\n",
            "Epoch 47/100\n",
            "500/500 [==============================] - 14s 28ms/step - loss: 0.0193 - sparse_categorical_accuracy: 0.9942\n",
            "Epoch 48/100\n",
            "500/500 [==============================] - 14s 28ms/step - loss: 0.0185 - sparse_categorical_accuracy: 0.9944\n",
            "Epoch 49/100\n",
            "500/500 [==============================] - 14s 28ms/step - loss: 0.0191 - sparse_categorical_accuracy: 0.9943\n",
            "Epoch 50/100\n",
            "500/500 [==============================] - 14s 28ms/step - loss: 0.0203 - sparse_categorical_accuracy: 0.9942\n",
            "Epoch 51/100\n",
            "500/500 [==============================] - 14s 28ms/step - loss: 0.0205 - sparse_categorical_accuracy: 0.9940\n",
            "Epoch 52/100\n",
            "500/500 [==============================] - 14s 29ms/step - loss: 0.0187 - sparse_categorical_accuracy: 0.9947\n",
            "Epoch 53/100\n",
            "500/500 [==============================] - 14s 28ms/step - loss: 0.0211 - sparse_categorical_accuracy: 0.9938\n",
            "Epoch 54/100\n",
            "500/500 [==============================] - 14s 28ms/step - loss: 0.0215 - sparse_categorical_accuracy: 0.9941\n",
            "Epoch 55/100\n",
            "500/500 [==============================] - 14s 28ms/step - loss: 0.0172 - sparse_categorical_accuracy: 0.9953\n",
            "Epoch 56/100\n",
            "500/500 [==============================] - 14s 28ms/step - loss: 0.0174 - sparse_categorical_accuracy: 0.9945\n",
            "Epoch 57/100\n",
            "500/500 [==============================] - 14s 28ms/step - loss: 0.0185 - sparse_categorical_accuracy: 0.9947\n",
            "Epoch 58/100\n",
            "500/500 [==============================] - 14s 28ms/step - loss: 0.0170 - sparse_categorical_accuracy: 0.9947\n",
            "Epoch 59/100\n",
            "500/500 [==============================] - 14s 28ms/step - loss: 0.0155 - sparse_categorical_accuracy: 0.9951\n",
            "Epoch 60/100\n",
            "500/500 [==============================] - 14s 29ms/step - loss: 0.0220 - sparse_categorical_accuracy: 0.9942\n",
            "Epoch 61/100\n",
            "500/500 [==============================] - 14s 28ms/step - loss: 0.0172 - sparse_categorical_accuracy: 0.9948\n",
            "Epoch 62/100\n",
            "500/500 [==============================] - 14s 28ms/step - loss: 0.0160 - sparse_categorical_accuracy: 0.9952\n",
            "Epoch 63/100\n",
            "500/500 [==============================] - 14s 29ms/step - loss: 0.0205 - sparse_categorical_accuracy: 0.9942\n",
            "Epoch 64/100\n",
            "500/500 [==============================] - 14s 29ms/step - loss: 0.0211 - sparse_categorical_accuracy: 0.9944\n",
            "Epoch 65/100\n",
            "500/500 [==============================] - 14s 29ms/step - loss: 0.0182 - sparse_categorical_accuracy: 0.9945\n",
            "Epoch 66/100\n",
            "500/500 [==============================] - 14s 29ms/step - loss: 0.0155 - sparse_categorical_accuracy: 0.9956\n",
            "Epoch 67/100\n",
            "500/500 [==============================] - 14s 29ms/step - loss: 0.0176 - sparse_categorical_accuracy: 0.9946\n",
            "Epoch 68/100\n",
            "500/500 [==============================] - 14s 29ms/step - loss: 0.0176 - sparse_categorical_accuracy: 0.9951\n",
            "Epoch 69/100\n",
            "500/500 [==============================] - 14s 29ms/step - loss: 0.0167 - sparse_categorical_accuracy: 0.9949\n",
            "Epoch 70/100\n",
            "500/500 [==============================] - 14s 29ms/step - loss: 0.0167 - sparse_categorical_accuracy: 0.9954\n",
            "Epoch 71/100\n",
            "500/500 [==============================] - 14s 29ms/step - loss: 0.0170 - sparse_categorical_accuracy: 0.9947\n",
            "Epoch 72/100\n",
            "500/500 [==============================] - 14s 29ms/step - loss: 0.0186 - sparse_categorical_accuracy: 0.9946\n",
            "Epoch 73/100\n",
            "500/500 [==============================] - 14s 29ms/step - loss: 0.0145 - sparse_categorical_accuracy: 0.9957\n",
            "Epoch 74/100\n",
            "500/500 [==============================] - 14s 29ms/step - loss: 0.0172 - sparse_categorical_accuracy: 0.9953\n",
            "Epoch 75/100\n",
            "500/500 [==============================] - 15s 29ms/step - loss: 0.0178 - sparse_categorical_accuracy: 0.9946\n",
            "Epoch 76/100\n",
            "500/500 [==============================] - 14s 29ms/step - loss: 0.0138 - sparse_categorical_accuracy: 0.9959\n",
            "Epoch 77/100\n",
            "500/500 [==============================] - 14s 29ms/step - loss: 0.0153 - sparse_categorical_accuracy: 0.9959\n",
            "Epoch 78/100\n",
            "500/500 [==============================] - 14s 29ms/step - loss: 0.0140 - sparse_categorical_accuracy: 0.9959\n",
            "Epoch 79/100\n",
            "500/500 [==============================] - 14s 28ms/step - loss: 0.0218 - sparse_categorical_accuracy: 0.9941\n",
            "Epoch 80/100\n",
            "500/500 [==============================] - 14s 29ms/step - loss: 0.0166 - sparse_categorical_accuracy: 0.9955\n",
            "Epoch 81/100\n",
            "500/500 [==============================] - 14s 29ms/step - loss: 0.0141 - sparse_categorical_accuracy: 0.9958\n",
            "Epoch 82/100\n",
            "500/500 [==============================] - 14s 29ms/step - loss: 0.0135 - sparse_categorical_accuracy: 0.9959\n",
            "Epoch 83/100\n",
            "500/500 [==============================] - 14s 29ms/step - loss: 0.0186 - sparse_categorical_accuracy: 0.9952\n",
            "Epoch 84/100\n",
            "500/500 [==============================] - 15s 29ms/step - loss: 0.0162 - sparse_categorical_accuracy: 0.9948\n",
            "Epoch 85/100\n",
            "500/500 [==============================] - 15s 29ms/step - loss: 0.0181 - sparse_categorical_accuracy: 0.9953\n",
            "Epoch 86/100\n",
            "500/500 [==============================] - 14s 29ms/step - loss: 0.0134 - sparse_categorical_accuracy: 0.9959\n",
            "Epoch 87/100\n",
            "500/500 [==============================] - 14s 29ms/step - loss: 0.0157 - sparse_categorical_accuracy: 0.9956\n",
            "Epoch 88/100\n",
            "500/500 [==============================] - 14s 28ms/step - loss: 0.0159 - sparse_categorical_accuracy: 0.9952\n",
            "Epoch 89/100\n",
            "500/500 [==============================] - 14s 29ms/step - loss: 0.0147 - sparse_categorical_accuracy: 0.9959\n",
            "Epoch 90/100\n",
            "500/500 [==============================] - 14s 29ms/step - loss: 0.0155 - sparse_categorical_accuracy: 0.9959\n",
            "Epoch 91/100\n",
            "500/500 [==============================] - 15s 29ms/step - loss: 0.0127 - sparse_categorical_accuracy: 0.9965\n",
            "Epoch 92/100\n",
            "500/500 [==============================] - 14s 29ms/step - loss: 0.0147 - sparse_categorical_accuracy: 0.9959\n",
            "Epoch 93/100\n",
            "500/500 [==============================] - 14s 29ms/step - loss: 0.0156 - sparse_categorical_accuracy: 0.9959\n",
            "Epoch 94/100\n",
            "500/500 [==============================] - 14s 29ms/step - loss: 0.0123 - sparse_categorical_accuracy: 0.9963\n",
            "Epoch 95/100\n",
            "500/500 [==============================] - 14s 29ms/step - loss: 0.0166 - sparse_categorical_accuracy: 0.9957\n",
            "Epoch 96/100\n",
            "500/500 [==============================] - 14s 29ms/step - loss: 0.0131 - sparse_categorical_accuracy: 0.9960\n",
            "Epoch 97/100\n",
            "500/500 [==============================] - 14s 29ms/step - loss: 0.0153 - sparse_categorical_accuracy: 0.9958\n",
            "Epoch 98/100\n",
            "500/500 [==============================] - 14s 29ms/step - loss: 0.0157 - sparse_categorical_accuracy: 0.9955\n",
            "Epoch 99/100\n",
            "500/500 [==============================] - 14s 29ms/step - loss: 0.0131 - sparse_categorical_accuracy: 0.9962\n",
            "Epoch 100/100\n",
            "500/500 [==============================] - 14s 29ms/step - loss: 0.0136 - sparse_categorical_accuracy: 0.9957\n"
          ],
          "name": "stdout"
        },
        {
          "output_type": "execute_result",
          "data": {
            "text/plain": [
              "<tensorflow.python.keras.callbacks.History at 0x7f97b9119390>"
            ]
          },
          "metadata": {
            "tags": []
          },
          "execution_count": 40
        }
      ]
    },
    {
      "cell_type": "code",
      "metadata": {
        "id": "JR6ONIM6y23-",
        "colab": {
          "base_uri": "https://localhost:8080/"
        },
        "outputId": "4bf53110-ba91-47f3-f1ed-987f4ce225c7"
      },
      "source": [
        "test_loss, test_acc = model.evaluate(x_test.astype(np.float32), y_test.astype(np.float32), verbose=1) \n",
        "\n",
        "print('Test accuracy:', test_acc)"
      ],
      "execution_count": null,
      "outputs": [
        {
          "output_type": "stream",
          "text": [
            "313/313 [==============================] - 6s 17ms/step - loss: 0.5249 - sparse_categorical_accuracy: 0.9256\n",
            "Test accuracy: 0.925599992275238\n"
          ],
          "name": "stdout"
        }
      ]
    }
  ]
}