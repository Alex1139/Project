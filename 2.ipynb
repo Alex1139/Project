{
  "nbformat": 4,
  "nbformat_minor": 0,
  "metadata": {
    "colab": {
      "name": "Вторая сеть.ipynb",
      "provenance": []
    },
    "kernelspec": {
      "name": "python3",
      "display_name": "Python 3"
    },
    "language_info": {
      "name": "python"
    },
    "accelerator": "TPU"
  },
  "cells": [
    {
      "cell_type": "code",
      "metadata": {
        "id": "KOLE209MOt_G",
        "colab": {
          "base_uri": "https://localhost:8080/"
        },
        "outputId": "f86b827a-24e0-443a-9782-58169d651b0c"
      },
      "source": [
        "import tensorflow as tf\n",
        "import numpy as np\n",
        "import os\n",
        "\n",
        "(x_train, y_train), (x_test, y_test) = tf.keras.datasets.fashion_mnist.load_data()\n",
        "\n",
        "x_train = np.expand_dims(x_train, -1)\n",
        "x_test = np.expand_dims(x_test, -1)"
      ],
      "execution_count": null,
      "outputs": [
        {
          "output_type": "stream",
          "text": [
            "Downloading data from https://storage.googleapis.com/tensorflow/tf-keras-datasets/train-labels-idx1-ubyte.gz\n",
            "32768/29515 [=================================] - 0s 0us/step\n",
            "Downloading data from https://storage.googleapis.com/tensorflow/tf-keras-datasets/train-images-idx3-ubyte.gz\n",
            "26427392/26421880 [==============================] - 0s 0us/step\n",
            "Downloading data from https://storage.googleapis.com/tensorflow/tf-keras-datasets/t10k-labels-idx1-ubyte.gz\n",
            "8192/5148 [===============================================] - 0s 0us/step\n",
            "Downloading data from https://storage.googleapis.com/tensorflow/tf-keras-datasets/t10k-images-idx3-ubyte.gz\n",
            "4423680/4422102 [==============================] - 0s 0us/step\n"
          ],
          "name": "stdout"
        }
      ]
    },
    {
      "cell_type": "code",
      "metadata": {
        "id": "1-eDd43iOtLe"
      },
      "source": [
        "def create_model():\n",
        "  model = tf.keras.models.Sequential()\n",
        "  model.add(tf.keras.layers.BatchNormalization(input_shape=x_train.shape[1:]))\n",
        "  model.add(tf.keras.layers.Conv2D(64, (5, 5), padding='same', activation='tanh'))\n",
        "  model.add(tf.keras.layers.MaxPooling2D(pool_size=(2, 2), strides=(2,2)))\n",
        "  model.add(tf.keras.layers.Dropout(0.25))\n",
        "\n",
        "  model.add(tf.keras.layers.BatchNormalization(input_shape=x_train.shape[1:]))\n",
        "  model.add(tf.keras.layers.Conv2D(128, (5, 5), padding='same', activation='tanh'))\n",
        "  model.add(tf.keras.layers.MaxPooling2D(pool_size=(2, 2)))\n",
        "  model.add(tf.keras.layers.Dropout(0.25))\n",
        "\n",
        "  model.add(tf.keras.layers.BatchNormalization(input_shape=x_train.shape[1:]))\n",
        "  model.add(tf.keras.layers.Conv2D(256, (5, 5), padding='same', activation='tanh'))\n",
        "  model.add(tf.keras.layers.MaxPooling2D(pool_size=(2, 2), strides=(2,2)))\n",
        "  model.add(tf.keras.layers.Dropout(0.25))\n",
        "\n",
        "  model.add(tf.keras.layers.BatchNormalization(input_shape=x_train.shape[1:]))\n",
        "  model.add(tf.keras.layers.Conv2D(512, (5, 5), padding='same', activation='tanh'))\n",
        "  model.add(tf.keras.layers.MaxPooling2D(pool_size=(2, 2), strides=(2,2)))\n",
        "  model.add(tf.keras.layers.Dropout(0.25))\n",
        "\n",
        "  model.add(tf.keras.layers.Flatten())\n",
        "  model.add(tf.keras.layers.Dense(256))\n",
        "  model.add(tf.keras.layers.Activation('relu'))\n",
        "  model.add(tf.keras.layers.Dropout(0.5))\n",
        "  model.add(tf.keras.layers.Dense(10))\n",
        "  model.add(tf.keras.layers.Activation('softmax'))\n",
        "  return model"
      ],
      "execution_count": null,
      "outputs": []
    },
    {
      "cell_type": "code",
      "metadata": {
        "colab": {
          "base_uri": "https://localhost:8080/"
        },
        "id": "ZfA7RHeBlA1z",
        "outputId": "0a34f38c-6edb-4269-f443-1fce8dba1c5b"
      },
      "source": [
        "tf.keras.backend.clear_session()\n",
        "\n",
        "resolver = tf.distribute.cluster_resolver.TPUClusterResolver('grpc://' + os.environ['COLAB_TPU_ADDR'])\n",
        "tf.config.experimental_connect_to_cluster(resolver)\n",
        "tf.tpu.experimental.initialize_tpu_system(resolver)\n",
        "print(\"All devices: \", tf.config.list_logical_devices('TPU'))\n",
        "\n",
        "strategy = tf.distribute.experimental.TPUStrategy(resolver)\n"
      ],
      "execution_count": null,
      "outputs": [
        {
          "output_type": "stream",
          "text": [
            "INFO:tensorflow:Initializing the TPU system: grpc://10.115.208.178:8470\n"
          ],
          "name": "stdout"
        },
        {
          "output_type": "stream",
          "text": [
            "INFO:tensorflow:Initializing the TPU system: grpc://10.115.208.178:8470\n"
          ],
          "name": "stderr"
        },
        {
          "output_type": "stream",
          "text": [
            "INFO:tensorflow:Clearing out eager caches\n"
          ],
          "name": "stdout"
        },
        {
          "output_type": "stream",
          "text": [
            "INFO:tensorflow:Clearing out eager caches\n"
          ],
          "name": "stderr"
        },
        {
          "output_type": "stream",
          "text": [
            "INFO:tensorflow:Finished initializing TPU system.\n"
          ],
          "name": "stdout"
        },
        {
          "output_type": "stream",
          "text": [
            "INFO:tensorflow:Finished initializing TPU system.\n",
            "WARNING:absl:`tf.distribute.experimental.TPUStrategy` is deprecated, please use  the non experimental symbol `tf.distribute.TPUStrategy` instead.\n"
          ],
          "name": "stderr"
        },
        {
          "output_type": "stream",
          "text": [
            "All devices:  [LogicalDevice(name='/job:worker/replica:0/task:0/device:TPU:7', device_type='TPU'), LogicalDevice(name='/job:worker/replica:0/task:0/device:TPU:6', device_type='TPU'), LogicalDevice(name='/job:worker/replica:0/task:0/device:TPU:5', device_type='TPU'), LogicalDevice(name='/job:worker/replica:0/task:0/device:TPU:4', device_type='TPU'), LogicalDevice(name='/job:worker/replica:0/task:0/device:TPU:3', device_type='TPU'), LogicalDevice(name='/job:worker/replica:0/task:0/device:TPU:0', device_type='TPU'), LogicalDevice(name='/job:worker/replica:0/task:0/device:TPU:1', device_type='TPU'), LogicalDevice(name='/job:worker/replica:0/task:0/device:TPU:2', device_type='TPU')]\n",
            "INFO:tensorflow:Found TPU system:\n"
          ],
          "name": "stdout"
        },
        {
          "output_type": "stream",
          "text": [
            "INFO:tensorflow:Found TPU system:\n"
          ],
          "name": "stderr"
        },
        {
          "output_type": "stream",
          "text": [
            "INFO:tensorflow:*** Num TPU Cores: 8\n"
          ],
          "name": "stdout"
        },
        {
          "output_type": "stream",
          "text": [
            "INFO:tensorflow:*** Num TPU Cores: 8\n"
          ],
          "name": "stderr"
        },
        {
          "output_type": "stream",
          "text": [
            "INFO:tensorflow:*** Num TPU Workers: 1\n"
          ],
          "name": "stdout"
        },
        {
          "output_type": "stream",
          "text": [
            "INFO:tensorflow:*** Num TPU Workers: 1\n"
          ],
          "name": "stderr"
        },
        {
          "output_type": "stream",
          "text": [
            "INFO:tensorflow:*** Num TPU Cores Per Worker: 8\n"
          ],
          "name": "stdout"
        },
        {
          "output_type": "stream",
          "text": [
            "INFO:tensorflow:*** Num TPU Cores Per Worker: 8\n"
          ],
          "name": "stderr"
        },
        {
          "output_type": "stream",
          "text": [
            "INFO:tensorflow:*** Available Device: _DeviceAttributes(/job:localhost/replica:0/task:0/device:CPU:0, CPU, 0, 0)\n"
          ],
          "name": "stdout"
        },
        {
          "output_type": "stream",
          "text": [
            "INFO:tensorflow:*** Available Device: _DeviceAttributes(/job:localhost/replica:0/task:0/device:CPU:0, CPU, 0, 0)\n"
          ],
          "name": "stderr"
        },
        {
          "output_type": "stream",
          "text": [
            "INFO:tensorflow:*** Available Device: _DeviceAttributes(/job:worker/replica:0/task:0/device:CPU:0, CPU, 0, 0)\n"
          ],
          "name": "stdout"
        },
        {
          "output_type": "stream",
          "text": [
            "INFO:tensorflow:*** Available Device: _DeviceAttributes(/job:worker/replica:0/task:0/device:CPU:0, CPU, 0, 0)\n"
          ],
          "name": "stderr"
        },
        {
          "output_type": "stream",
          "text": [
            "INFO:tensorflow:*** Available Device: _DeviceAttributes(/job:worker/replica:0/task:0/device:TPU:0, TPU, 0, 0)\n"
          ],
          "name": "stdout"
        },
        {
          "output_type": "stream",
          "text": [
            "INFO:tensorflow:*** Available Device: _DeviceAttributes(/job:worker/replica:0/task:0/device:TPU:0, TPU, 0, 0)\n"
          ],
          "name": "stderr"
        },
        {
          "output_type": "stream",
          "text": [
            "INFO:tensorflow:*** Available Device: _DeviceAttributes(/job:worker/replica:0/task:0/device:TPU:1, TPU, 0, 0)\n"
          ],
          "name": "stdout"
        },
        {
          "output_type": "stream",
          "text": [
            "INFO:tensorflow:*** Available Device: _DeviceAttributes(/job:worker/replica:0/task:0/device:TPU:1, TPU, 0, 0)\n"
          ],
          "name": "stderr"
        },
        {
          "output_type": "stream",
          "text": [
            "INFO:tensorflow:*** Available Device: _DeviceAttributes(/job:worker/replica:0/task:0/device:TPU:2, TPU, 0, 0)\n"
          ],
          "name": "stdout"
        },
        {
          "output_type": "stream",
          "text": [
            "INFO:tensorflow:*** Available Device: _DeviceAttributes(/job:worker/replica:0/task:0/device:TPU:2, TPU, 0, 0)\n"
          ],
          "name": "stderr"
        },
        {
          "output_type": "stream",
          "text": [
            "INFO:tensorflow:*** Available Device: _DeviceAttributes(/job:worker/replica:0/task:0/device:TPU:3, TPU, 0, 0)\n"
          ],
          "name": "stdout"
        },
        {
          "output_type": "stream",
          "text": [
            "INFO:tensorflow:*** Available Device: _DeviceAttributes(/job:worker/replica:0/task:0/device:TPU:3, TPU, 0, 0)\n"
          ],
          "name": "stderr"
        },
        {
          "output_type": "stream",
          "text": [
            "INFO:tensorflow:*** Available Device: _DeviceAttributes(/job:worker/replica:0/task:0/device:TPU:4, TPU, 0, 0)\n"
          ],
          "name": "stdout"
        },
        {
          "output_type": "stream",
          "text": [
            "INFO:tensorflow:*** Available Device: _DeviceAttributes(/job:worker/replica:0/task:0/device:TPU:4, TPU, 0, 0)\n"
          ],
          "name": "stderr"
        },
        {
          "output_type": "stream",
          "text": [
            "INFO:tensorflow:*** Available Device: _DeviceAttributes(/job:worker/replica:0/task:0/device:TPU:5, TPU, 0, 0)\n"
          ],
          "name": "stdout"
        },
        {
          "output_type": "stream",
          "text": [
            "INFO:tensorflow:*** Available Device: _DeviceAttributes(/job:worker/replica:0/task:0/device:TPU:5, TPU, 0, 0)\n"
          ],
          "name": "stderr"
        },
        {
          "output_type": "stream",
          "text": [
            "INFO:tensorflow:*** Available Device: _DeviceAttributes(/job:worker/replica:0/task:0/device:TPU:6, TPU, 0, 0)\n"
          ],
          "name": "stdout"
        },
        {
          "output_type": "stream",
          "text": [
            "INFO:tensorflow:*** Available Device: _DeviceAttributes(/job:worker/replica:0/task:0/device:TPU:6, TPU, 0, 0)\n"
          ],
          "name": "stderr"
        },
        {
          "output_type": "stream",
          "text": [
            "INFO:tensorflow:*** Available Device: _DeviceAttributes(/job:worker/replica:0/task:0/device:TPU:7, TPU, 0, 0)\n"
          ],
          "name": "stdout"
        },
        {
          "output_type": "stream",
          "text": [
            "INFO:tensorflow:*** Available Device: _DeviceAttributes(/job:worker/replica:0/task:0/device:TPU:7, TPU, 0, 0)\n"
          ],
          "name": "stderr"
        },
        {
          "output_type": "stream",
          "text": [
            "INFO:tensorflow:*** Available Device: _DeviceAttributes(/job:worker/replica:0/task:0/device:TPU_SYSTEM:0, TPU_SYSTEM, 0, 0)\n"
          ],
          "name": "stdout"
        },
        {
          "output_type": "stream",
          "text": [
            "INFO:tensorflow:*** Available Device: _DeviceAttributes(/job:worker/replica:0/task:0/device:TPU_SYSTEM:0, TPU_SYSTEM, 0, 0)\n"
          ],
          "name": "stderr"
        },
        {
          "output_type": "stream",
          "text": [
            "INFO:tensorflow:*** Available Device: _DeviceAttributes(/job:worker/replica:0/task:0/device:XLA_CPU:0, XLA_CPU, 0, 0)\n"
          ],
          "name": "stdout"
        },
        {
          "output_type": "stream",
          "text": [
            "INFO:tensorflow:*** Available Device: _DeviceAttributes(/job:worker/replica:0/task:0/device:XLA_CPU:0, XLA_CPU, 0, 0)\n"
          ],
          "name": "stderr"
        }
      ]
    },
    {
      "cell_type": "code",
      "metadata": {
        "id": "Fmso6NA9yDme"
      },
      "source": [
        "with strategy.scope():\n",
        "  model = create_model()\n",
        "  model.compile(\n",
        "      optimizer=tf.keras.optimizers.Adam(learning_rate=1e-3, ),\n",
        "      loss='sparse_categorical_crossentropy',\n",
        "      metrics=['sparse_categorical_accuracy'])"
      ],
      "execution_count": null,
      "outputs": []
    },
    {
      "cell_type": "code",
      "metadata": {
        "colab": {
          "base_uri": "https://localhost:8080/"
        },
        "id": "j_J7ivVUO2QK",
        "outputId": "49540f4f-5908-4b8b-ea6e-a415e374882b"
      },
      "source": [
        "model.fit(\n",
        "    x_train.astype(np.float32), y_train.astype(np.float32),\n",
        "    epochs=5,\n",
        "    steps_per_epoch=100,\n",
        "    validation_freq=17\n",
        ")"
      ],
      "execution_count": null,
      "outputs": [
        {
          "output_type": "stream",
          "text": [
            "Epoch 1/5\n",
            "100/100 [==============================] - 8s 21ms/step - loss: 0.9271 - sparse_categorical_accuracy: 0.6641\n",
            "Epoch 2/5\n",
            "100/100 [==============================] - 2s 21ms/step - loss: 0.3960 - sparse_categorical_accuracy: 0.8580\n",
            "Epoch 3/5\n",
            "100/100 [==============================] - 2s 21ms/step - loss: 0.3302 - sparse_categorical_accuracy: 0.8809\n",
            "Epoch 4/5\n",
            "100/100 [==============================] - 2s 22ms/step - loss: 0.2918 - sparse_categorical_accuracy: 0.8942\n",
            "Epoch 5/5\n",
            "100/100 [==============================] - 2s 21ms/step - loss: 0.2692 - sparse_categorical_accuracy: 0.9020\n"
          ],
          "name": "stdout"
        },
        {
          "output_type": "execute_result",
          "data": {
            "text/plain": [
              "<tensorflow.python.keras.callbacks.History at 0x7f10505df190>"
            ]
          },
          "metadata": {
            "tags": []
          },
          "execution_count": 5
        }
      ]
    },
    {
      "cell_type": "code",
      "metadata": {
        "colab": {
          "base_uri": "https://localhost:8080/"
        },
        "id": "2m8wgpZzl229",
        "outputId": "8cf44658-b6de-4c3e-9c81-1239d16f8fe2"
      },
      "source": [
        "test_loss, test_acc = model.evaluate(x_test.astype(np.float32), y_test.astype(np.float32), verbose=1) \n",
        "\n",
        "print('Test accuracy:', test_acc)"
      ],
      "execution_count": null,
      "outputs": [
        {
          "output_type": "stream",
          "text": [
            "313/313 [==============================] - 8s 19ms/step - loss: 0.2654 - sparse_categorical_accuracy: 0.9047\n",
            "Test accuracy: 0.904699981212616\n"
          ],
          "name": "stdout"
        }
      ]
    },
    {
      "cell_type": "code",
      "metadata": {
        "colab": {
          "base_uri": "https://localhost:8080/"
        },
        "id": "7NfMxTRVyAeN",
        "outputId": "fd97e2a7-3df7-4243-cefe-ed78ef29f957"
      },
      "source": [
        "model.fit(\n",
        "    x_train.astype(np.float32), y_train.astype(np.float32),\n",
        "    epochs=10,\n",
        "    steps_per_epoch=100,\n",
        "    validation_freq=17\n",
        ")"
      ],
      "execution_count": null,
      "outputs": [
        {
          "output_type": "stream",
          "text": [
            "Epoch 1/10\n",
            "100/100 [==============================] - 2s 21ms/step - loss: 0.2503 - sparse_categorical_accuracy: 0.9091\n",
            "Epoch 2/10\n",
            "100/100 [==============================] - 2s 21ms/step - loss: 0.2366 - sparse_categorical_accuracy: 0.9142\n",
            "Epoch 3/10\n",
            "100/100 [==============================] - 2s 21ms/step - loss: 0.2292 - sparse_categorical_accuracy: 0.9162\n",
            "Epoch 4/10\n",
            "100/100 [==============================] - 2s 21ms/step - loss: 0.2129 - sparse_categorical_accuracy: 0.9216\n",
            "Epoch 5/10\n",
            "100/100 [==============================] - 2s 22ms/step - loss: 0.2048 - sparse_categorical_accuracy: 0.9237\n",
            "Epoch 6/10\n",
            "100/100 [==============================] - 2s 21ms/step - loss: 0.1949 - sparse_categorical_accuracy: 0.9287\n",
            "Epoch 7/10\n",
            "100/100 [==============================] - 2s 21ms/step - loss: 0.1931 - sparse_categorical_accuracy: 0.9276\n",
            "Epoch 8/10\n",
            "100/100 [==============================] - 2s 22ms/step - loss: 0.1844 - sparse_categorical_accuracy: 0.9312\n",
            "Epoch 9/10\n",
            "100/100 [==============================] - 2s 21ms/step - loss: 0.1735 - sparse_categorical_accuracy: 0.9348\n",
            "Epoch 10/10\n",
            "100/100 [==============================] - 2s 21ms/step - loss: 0.1727 - sparse_categorical_accuracy: 0.9351\n"
          ],
          "name": "stdout"
        },
        {
          "output_type": "execute_result",
          "data": {
            "text/plain": [
              "<tensorflow.python.keras.callbacks.History at 0x7f104f3625d0>"
            ]
          },
          "metadata": {
            "tags": []
          },
          "execution_count": 7
        }
      ]
    },
    {
      "cell_type": "code",
      "metadata": {
        "colab": {
          "base_uri": "https://localhost:8080/"
        },
        "id": "J7yFHu-Jyu-o",
        "outputId": "0e7744b1-426a-44a1-eedc-eab547856f39"
      },
      "source": [
        "test_loss, test_acc = model.evaluate(x_test.astype(np.float32), y_test.astype(np.float32), verbose=1) \n",
        "\n",
        "print('Test accuracy:', test_acc)"
      ],
      "execution_count": null,
      "outputs": [
        {
          "output_type": "stream",
          "text": [
            "313/313 [==============================] - 6s 16ms/step - loss: 0.2291 - sparse_categorical_accuracy: 0.9190\n",
            "Test accuracy: 0.918999969959259\n"
          ],
          "name": "stdout"
        }
      ]
    },
    {
      "cell_type": "code",
      "metadata": {
        "colab": {
          "base_uri": "https://localhost:8080/"
        },
        "id": "MGp7fSqCyMEr",
        "outputId": "b60c91ef-bb67-4bab-d85a-dc5064f1c719"
      },
      "source": [
        "model.fit(\n",
        "    x_train.astype(np.float32), y_train.astype(np.float32),\n",
        "    epochs=20,\n",
        "    steps_per_epoch=100,\n",
        "    validation_freq=17\n",
        ")"
      ],
      "execution_count": null,
      "outputs": [
        {
          "output_type": "stream",
          "text": [
            "Epoch 1/20\n",
            "100/100 [==============================] - 2s 21ms/step - loss: 0.1657 - sparse_categorical_accuracy: 0.9389\n",
            "Epoch 2/20\n",
            "100/100 [==============================] - 2s 21ms/step - loss: 0.1627 - sparse_categorical_accuracy: 0.9406\n",
            "Epoch 3/20\n",
            "100/100 [==============================] - 2s 21ms/step - loss: 0.1621 - sparse_categorical_accuracy: 0.9394\n",
            "Epoch 4/20\n",
            "100/100 [==============================] - 2s 21ms/step - loss: 0.1546 - sparse_categorical_accuracy: 0.9412\n",
            "Epoch 5/20\n",
            "100/100 [==============================] - 2s 21ms/step - loss: 0.1518 - sparse_categorical_accuracy: 0.9433\n",
            "Epoch 6/20\n",
            "100/100 [==============================] - 2s 21ms/step - loss: 0.1473 - sparse_categorical_accuracy: 0.9445\n",
            "Epoch 7/20\n",
            "100/100 [==============================] - 2s 22ms/step - loss: 0.1449 - sparse_categorical_accuracy: 0.9451\n",
            "Epoch 8/20\n",
            "100/100 [==============================] - 2s 21ms/step - loss: 0.1417 - sparse_categorical_accuracy: 0.9461\n",
            "Epoch 9/20\n",
            "100/100 [==============================] - 2s 22ms/step - loss: 0.1410 - sparse_categorical_accuracy: 0.9478\n",
            "Epoch 10/20\n",
            "100/100 [==============================] - 2s 22ms/step - loss: 0.1418 - sparse_categorical_accuracy: 0.9465\n",
            "Epoch 11/20\n",
            "100/100 [==============================] - 2s 22ms/step - loss: 0.1366 - sparse_categorical_accuracy: 0.9486\n",
            "Epoch 12/20\n",
            "100/100 [==============================] - 2s 21ms/step - loss: 0.1320 - sparse_categorical_accuracy: 0.9508\n",
            "Epoch 13/20\n",
            "100/100 [==============================] - 2s 21ms/step - loss: 0.1348 - sparse_categorical_accuracy: 0.9491\n",
            "Epoch 14/20\n",
            "100/100 [==============================] - 2s 21ms/step - loss: 0.1333 - sparse_categorical_accuracy: 0.9499\n",
            "Epoch 15/20\n",
            "100/100 [==============================] - 2s 21ms/step - loss: 0.1296 - sparse_categorical_accuracy: 0.9511\n",
            "Epoch 16/20\n",
            "100/100 [==============================] - 2s 21ms/step - loss: 0.1251 - sparse_categorical_accuracy: 0.9531\n",
            "Epoch 17/20\n",
            "100/100 [==============================] - 2s 21ms/step - loss: 0.1256 - sparse_categorical_accuracy: 0.9527\n",
            "Epoch 18/20\n",
            "100/100 [==============================] - 2s 21ms/step - loss: 0.1204 - sparse_categorical_accuracy: 0.9541\n",
            "Epoch 19/20\n",
            "100/100 [==============================] - 2s 21ms/step - loss: 0.1233 - sparse_categorical_accuracy: 0.9541\n",
            "Epoch 20/20\n",
            "100/100 [==============================] - 2s 21ms/step - loss: 0.1226 - sparse_categorical_accuracy: 0.9546\n"
          ],
          "name": "stdout"
        },
        {
          "output_type": "execute_result",
          "data": {
            "text/plain": [
              "<tensorflow.python.keras.callbacks.History at 0x7f104f0ea490>"
            ]
          },
          "metadata": {
            "tags": []
          },
          "execution_count": 9
        }
      ]
    },
    {
      "cell_type": "code",
      "metadata": {
        "colab": {
          "base_uri": "https://localhost:8080/"
        },
        "id": "fNTtYPwryuWg",
        "outputId": "e7e00959-9f71-4208-88c9-652058f8f605"
      },
      "source": [
        "test_loss, test_acc = model.evaluate(x_test.astype(np.float32), y_test.astype(np.float32), verbose=1) \n",
        "\n",
        "print('Test accuracy:', test_acc)"
      ],
      "execution_count": null,
      "outputs": [
        {
          "output_type": "stream",
          "text": [
            "313/313 [==============================] - 5s 16ms/step - loss: 0.2590 - sparse_categorical_accuracy: 0.9268\n",
            "Test accuracy: 0.9267999529838562\n"
          ],
          "name": "stdout"
        }
      ]
    },
    {
      "cell_type": "code",
      "metadata": {
        "colab": {
          "base_uri": "https://localhost:8080/"
        },
        "id": "2vEqNn_SyOt7",
        "outputId": "cd573d98-668d-4193-cb63-b9144fa3c77d"
      },
      "source": [
        "model.fit(\n",
        "    x_train.astype(np.float32), y_train.astype(np.float32),\n",
        "    epochs=40,\n",
        "    steps_per_epoch=100,\n",
        "    validation_freq=17\n",
        ")"
      ],
      "execution_count": null,
      "outputs": [
        {
          "output_type": "stream",
          "text": [
            "Epoch 1/40\n",
            "100/100 [==============================] - 2s 21ms/step - loss: 0.1151 - sparse_categorical_accuracy: 0.9564\n",
            "Epoch 2/40\n",
            "100/100 [==============================] - 2s 21ms/step - loss: 0.1183 - sparse_categorical_accuracy: 0.9563\n",
            "Epoch 3/40\n",
            "100/100 [==============================] - 2s 21ms/step - loss: 0.1173 - sparse_categorical_accuracy: 0.9560\n",
            "Epoch 4/40\n",
            "100/100 [==============================] - 2s 22ms/step - loss: 0.1164 - sparse_categorical_accuracy: 0.9555\n",
            "Epoch 5/40\n",
            "100/100 [==============================] - 2s 21ms/step - loss: 0.1210 - sparse_categorical_accuracy: 0.9544\n",
            "Epoch 6/40\n",
            "100/100 [==============================] - 2s 21ms/step - loss: 0.1095 - sparse_categorical_accuracy: 0.9587\n",
            "Epoch 7/40\n",
            "100/100 [==============================] - 2s 21ms/step - loss: 0.1117 - sparse_categorical_accuracy: 0.9578\n",
            "Epoch 8/40\n",
            "100/100 [==============================] - 2s 21ms/step - loss: 0.1120 - sparse_categorical_accuracy: 0.9572\n",
            "Epoch 9/40\n",
            "100/100 [==============================] - 2s 21ms/step - loss: 0.1153 - sparse_categorical_accuracy: 0.9567\n",
            "Epoch 10/40\n",
            "100/100 [==============================] - 2s 21ms/step - loss: 0.1110 - sparse_categorical_accuracy: 0.9585\n",
            "Epoch 11/40\n",
            "100/100 [==============================] - 2s 21ms/step - loss: 0.1058 - sparse_categorical_accuracy: 0.9602\n",
            "Epoch 12/40\n",
            "100/100 [==============================] - 2s 21ms/step - loss: 0.1100 - sparse_categorical_accuracy: 0.9586\n",
            "Epoch 13/40\n",
            "100/100 [==============================] - 2s 21ms/step - loss: 0.1068 - sparse_categorical_accuracy: 0.9593\n",
            "Epoch 14/40\n",
            "100/100 [==============================] - 2s 21ms/step - loss: 0.1084 - sparse_categorical_accuracy: 0.9593\n",
            "Epoch 15/40\n",
            "100/100 [==============================] - 2s 21ms/step - loss: 0.1056 - sparse_categorical_accuracy: 0.9606\n",
            "Epoch 16/40\n",
            "100/100 [==============================] - 2s 21ms/step - loss: 0.1039 - sparse_categorical_accuracy: 0.9611\n",
            "Epoch 17/40\n",
            "100/100 [==============================] - 2s 21ms/step - loss: 0.1024 - sparse_categorical_accuracy: 0.9617\n",
            "Epoch 18/40\n",
            "100/100 [==============================] - 2s 22ms/step - loss: 0.1014 - sparse_categorical_accuracy: 0.9616\n",
            "Epoch 19/40\n",
            "100/100 [==============================] - 2s 21ms/step - loss: 0.1031 - sparse_categorical_accuracy: 0.9609\n",
            "Epoch 20/40\n",
            "100/100 [==============================] - 2s 21ms/step - loss: 0.1002 - sparse_categorical_accuracy: 0.9623\n",
            "Epoch 21/40\n",
            "100/100 [==============================] - 2s 21ms/step - loss: 0.1013 - sparse_categorical_accuracy: 0.9615\n",
            "Epoch 22/40\n",
            "100/100 [==============================] - 2s 21ms/step - loss: 0.0998 - sparse_categorical_accuracy: 0.9616\n",
            "Epoch 23/40\n",
            "100/100 [==============================] - 2s 21ms/step - loss: 0.0973 - sparse_categorical_accuracy: 0.9629\n",
            "Epoch 24/40\n",
            "100/100 [==============================] - 2s 21ms/step - loss: 0.1019 - sparse_categorical_accuracy: 0.9615\n",
            "Epoch 25/40\n",
            "100/100 [==============================] - 2s 21ms/step - loss: 0.1027 - sparse_categorical_accuracy: 0.9615\n",
            "Epoch 26/40\n",
            "100/100 [==============================] - 2s 21ms/step - loss: 0.0977 - sparse_categorical_accuracy: 0.9636\n",
            "Epoch 27/40\n",
            "100/100 [==============================] - 2s 21ms/step - loss: 0.0959 - sparse_categorical_accuracy: 0.9634\n",
            "Epoch 28/40\n",
            "100/100 [==============================] - 2s 21ms/step - loss: 0.0984 - sparse_categorical_accuracy: 0.9631\n",
            "Epoch 29/40\n",
            "100/100 [==============================] - 2s 21ms/step - loss: 0.0986 - sparse_categorical_accuracy: 0.9629\n",
            "Epoch 30/40\n",
            "100/100 [==============================] - 2s 21ms/step - loss: 0.0982 - sparse_categorical_accuracy: 0.9629\n",
            "Epoch 31/40\n",
            "100/100 [==============================] - 2s 21ms/step - loss: 0.0961 - sparse_categorical_accuracy: 0.9635\n",
            "Epoch 32/40\n",
            "100/100 [==============================] - 2s 21ms/step - loss: 0.0963 - sparse_categorical_accuracy: 0.9649\n",
            "Epoch 33/40\n",
            "100/100 [==============================] - 2s 21ms/step - loss: 0.0952 - sparse_categorical_accuracy: 0.9643\n",
            "Epoch 34/40\n",
            "100/100 [==============================] - 2s 21ms/step - loss: 0.0940 - sparse_categorical_accuracy: 0.9650\n",
            "Epoch 35/40\n",
            "100/100 [==============================] - 2s 21ms/step - loss: 0.0974 - sparse_categorical_accuracy: 0.9635\n",
            "Epoch 36/40\n",
            "100/100 [==============================] - 2s 21ms/step - loss: 0.0936 - sparse_categorical_accuracy: 0.9643\n",
            "Epoch 37/40\n",
            "100/100 [==============================] - 2s 22ms/step - loss: 0.0926 - sparse_categorical_accuracy: 0.9651\n",
            "Epoch 38/40\n",
            "100/100 [==============================] - 2s 21ms/step - loss: 0.0965 - sparse_categorical_accuracy: 0.9642\n",
            "Epoch 39/40\n",
            "100/100 [==============================] - 2s 21ms/step - loss: 0.0886 - sparse_categorical_accuracy: 0.9672\n",
            "Epoch 40/40\n",
            "100/100 [==============================] - 2s 21ms/step - loss: 0.0948 - sparse_categorical_accuracy: 0.9648\n"
          ],
          "name": "stdout"
        },
        {
          "output_type": "execute_result",
          "data": {
            "text/plain": [
              "<tensorflow.python.keras.callbacks.History at 0x7f1050377590>"
            ]
          },
          "metadata": {
            "tags": []
          },
          "execution_count": 11
        }
      ]
    },
    {
      "cell_type": "code",
      "metadata": {
        "colab": {
          "base_uri": "https://localhost:8080/"
        },
        "id": "x6Q66zs2ytzH",
        "outputId": "7652e901-ef21-465e-93f8-939182486f77"
      },
      "source": [
        "test_loss, test_acc = model.evaluate(x_test.astype(np.float32), y_test.astype(np.float32), verbose=1) \n",
        "\n",
        "print('Test accuracy:', test_acc)"
      ],
      "execution_count": null,
      "outputs": [
        {
          "output_type": "stream",
          "text": [
            "313/313 [==============================] - 6s 16ms/step - loss: 0.2780 - sparse_categorical_accuracy: 0.9263\n",
            "Test accuracy: 0.9262999892234802\n"
          ],
          "name": "stdout"
        }
      ]
    },
    {
      "cell_type": "code",
      "metadata": {
        "colab": {
          "base_uri": "https://localhost:8080/"
        },
        "id": "VrLvoRivyOoR",
        "outputId": "95d292ec-aa9f-4cff-8704-d1d9db4796a2"
      },
      "source": [
        "model.fit(\n",
        "    x_train.astype(np.float32), y_train.astype(np.float32),\n",
        "    epochs=100,\n",
        "    steps_per_epoch=100,\n",
        "    validation_freq=17\n",
        ")"
      ],
      "execution_count": null,
      "outputs": [
        {
          "output_type": "stream",
          "text": [
            "Epoch 1/100\n",
            "100/100 [==============================] - 2s 21ms/step - loss: 0.0930 - sparse_categorical_accuracy: 0.9651\n",
            "Epoch 2/100\n",
            "100/100 [==============================] - 2s 22ms/step - loss: 0.0903 - sparse_categorical_accuracy: 0.9665\n",
            "Epoch 3/100\n",
            "100/100 [==============================] - 2s 21ms/step - loss: 0.0885 - sparse_categorical_accuracy: 0.9659\n",
            "Epoch 4/100\n",
            "100/100 [==============================] - 2s 21ms/step - loss: 0.0917 - sparse_categorical_accuracy: 0.9655\n",
            "Epoch 5/100\n",
            "100/100 [==============================] - 2s 21ms/step - loss: 0.0889 - sparse_categorical_accuracy: 0.9663\n",
            "Epoch 6/100\n",
            "100/100 [==============================] - 2s 21ms/step - loss: 0.0878 - sparse_categorical_accuracy: 0.9667\n",
            "Epoch 7/100\n",
            "100/100 [==============================] - 2s 21ms/step - loss: 0.0890 - sparse_categorical_accuracy: 0.9664\n",
            "Epoch 8/100\n",
            "100/100 [==============================] - 2s 22ms/step - loss: 0.0879 - sparse_categorical_accuracy: 0.9663\n",
            "Epoch 9/100\n",
            "100/100 [==============================] - 2s 22ms/step - loss: 0.0885 - sparse_categorical_accuracy: 0.9670\n",
            "Epoch 10/100\n",
            "100/100 [==============================] - 2s 21ms/step - loss: 0.0896 - sparse_categorical_accuracy: 0.9661\n",
            "Epoch 11/100\n",
            "100/100 [==============================] - 2s 21ms/step - loss: 0.0874 - sparse_categorical_accuracy: 0.9668\n",
            "Epoch 12/100\n",
            "100/100 [==============================] - 2s 21ms/step - loss: 0.0875 - sparse_categorical_accuracy: 0.9667\n",
            "Epoch 13/100\n",
            "100/100 [==============================] - 2s 21ms/step - loss: 0.0854 - sparse_categorical_accuracy: 0.9680\n",
            "Epoch 14/100\n",
            "100/100 [==============================] - 2s 21ms/step - loss: 0.0873 - sparse_categorical_accuracy: 0.9678\n",
            "Epoch 15/100\n",
            "100/100 [==============================] - 2s 21ms/step - loss: 0.0846 - sparse_categorical_accuracy: 0.9686\n",
            "Epoch 16/100\n",
            "100/100 [==============================] - 2s 21ms/step - loss: 0.0845 - sparse_categorical_accuracy: 0.9681\n",
            "Epoch 17/100\n",
            "100/100 [==============================] - 2s 21ms/step - loss: 0.0827 - sparse_categorical_accuracy: 0.9679\n",
            "Epoch 18/100\n",
            "100/100 [==============================] - 2s 21ms/step - loss: 0.0871 - sparse_categorical_accuracy: 0.9679\n",
            "Epoch 19/100\n",
            "100/100 [==============================] - 2s 21ms/step - loss: 0.0904 - sparse_categorical_accuracy: 0.9662\n",
            "Epoch 20/100\n",
            "100/100 [==============================] - 2s 21ms/step - loss: 0.0861 - sparse_categorical_accuracy: 0.9672\n",
            "Epoch 21/100\n",
            "100/100 [==============================] - 2s 21ms/step - loss: 0.0864 - sparse_categorical_accuracy: 0.9680\n",
            "Epoch 22/100\n",
            "100/100 [==============================] - 2s 21ms/step - loss: 0.0877 - sparse_categorical_accuracy: 0.9665\n",
            "Epoch 23/100\n",
            "100/100 [==============================] - 2s 21ms/step - loss: 0.0862 - sparse_categorical_accuracy: 0.9681\n",
            "Epoch 24/100\n",
            "100/100 [==============================] - 2s 21ms/step - loss: 0.0858 - sparse_categorical_accuracy: 0.9675\n",
            "Epoch 25/100\n",
            "100/100 [==============================] - 2s 22ms/step - loss: 0.0846 - sparse_categorical_accuracy: 0.9684\n",
            "Epoch 26/100\n",
            "100/100 [==============================] - 2s 21ms/step - loss: 0.0836 - sparse_categorical_accuracy: 0.9678\n",
            "Epoch 27/100\n",
            "100/100 [==============================] - 2s 22ms/step - loss: 0.0816 - sparse_categorical_accuracy: 0.9692\n",
            "Epoch 28/100\n",
            "100/100 [==============================] - 2s 21ms/step - loss: 0.0818 - sparse_categorical_accuracy: 0.9691\n",
            "Epoch 29/100\n",
            "100/100 [==============================] - 2s 21ms/step - loss: 0.0814 - sparse_categorical_accuracy: 0.9697\n",
            "Epoch 30/100\n",
            "100/100 [==============================] - 2s 21ms/step - loss: 0.0787 - sparse_categorical_accuracy: 0.9704\n",
            "Epoch 31/100\n",
            "100/100 [==============================] - 2s 22ms/step - loss: 0.0794 - sparse_categorical_accuracy: 0.9693\n",
            "Epoch 32/100\n",
            "100/100 [==============================] - 2s 21ms/step - loss: 0.0804 - sparse_categorical_accuracy: 0.9699\n",
            "Epoch 33/100\n",
            "100/100 [==============================] - 2s 21ms/step - loss: 0.0824 - sparse_categorical_accuracy: 0.9695\n",
            "Epoch 34/100\n",
            "100/100 [==============================] - 2s 22ms/step - loss: 0.0825 - sparse_categorical_accuracy: 0.9687\n",
            "Epoch 35/100\n",
            "100/100 [==============================] - 2s 21ms/step - loss: 0.0824 - sparse_categorical_accuracy: 0.9692\n",
            "Epoch 36/100\n",
            "100/100 [==============================] - 2s 21ms/step - loss: 0.0831 - sparse_categorical_accuracy: 0.9686\n",
            "Epoch 37/100\n",
            "100/100 [==============================] - 2s 21ms/step - loss: 0.0818 - sparse_categorical_accuracy: 0.9698\n",
            "Epoch 38/100\n",
            "100/100 [==============================] - 2s 21ms/step - loss: 0.0825 - sparse_categorical_accuracy: 0.9695\n",
            "Epoch 39/100\n",
            "100/100 [==============================] - 2s 21ms/step - loss: 0.0790 - sparse_categorical_accuracy: 0.9714\n",
            "Epoch 40/100\n",
            "100/100 [==============================] - 2s 21ms/step - loss: 0.0799 - sparse_categorical_accuracy: 0.9700\n",
            "Epoch 41/100\n",
            "100/100 [==============================] - 2s 21ms/step - loss: 0.0802 - sparse_categorical_accuracy: 0.9701\n",
            "Epoch 42/100\n",
            "100/100 [==============================] - 2s 21ms/step - loss: 0.0739 - sparse_categorical_accuracy: 0.9727\n",
            "Epoch 43/100\n",
            "100/100 [==============================] - 2s 21ms/step - loss: 0.0806 - sparse_categorical_accuracy: 0.9700\n",
            "Epoch 44/100\n",
            "100/100 [==============================] - 2s 21ms/step - loss: 0.0789 - sparse_categorical_accuracy: 0.9704\n",
            "Epoch 45/100\n",
            "100/100 [==============================] - 2s 21ms/step - loss: 0.0771 - sparse_categorical_accuracy: 0.9708\n",
            "Epoch 46/100\n",
            "100/100 [==============================] - 2s 22ms/step - loss: 0.0784 - sparse_categorical_accuracy: 0.9702\n",
            "Epoch 47/100\n",
            "100/100 [==============================] - 2s 22ms/step - loss: 0.0781 - sparse_categorical_accuracy: 0.9714\n",
            "Epoch 48/100\n",
            "100/100 [==============================] - 2s 21ms/step - loss: 0.0786 - sparse_categorical_accuracy: 0.9706\n",
            "Epoch 49/100\n",
            "100/100 [==============================] - 2s 21ms/step - loss: 0.0764 - sparse_categorical_accuracy: 0.9720\n",
            "Epoch 50/100\n",
            "100/100 [==============================] - 2s 22ms/step - loss: 0.0803 - sparse_categorical_accuracy: 0.9704\n",
            "Epoch 51/100\n",
            "100/100 [==============================] - 2s 22ms/step - loss: 0.0781 - sparse_categorical_accuracy: 0.9712\n",
            "Epoch 52/100\n",
            "100/100 [==============================] - 2s 21ms/step - loss: 0.0798 - sparse_categorical_accuracy: 0.9705\n",
            "Epoch 53/100\n",
            "100/100 [==============================] - 2s 21ms/step - loss: 0.0751 - sparse_categorical_accuracy: 0.9715\n",
            "Epoch 54/100\n",
            "100/100 [==============================] - 2s 22ms/step - loss: 0.0764 - sparse_categorical_accuracy: 0.9720\n",
            "Epoch 55/100\n",
            "100/100 [==============================] - 2s 22ms/step - loss: 0.0771 - sparse_categorical_accuracy: 0.9713\n",
            "Epoch 56/100\n",
            "100/100 [==============================] - 2s 22ms/step - loss: 0.0783 - sparse_categorical_accuracy: 0.9705\n",
            "Epoch 57/100\n",
            "100/100 [==============================] - 2s 22ms/step - loss: 0.0747 - sparse_categorical_accuracy: 0.9726\n",
            "Epoch 58/100\n",
            "100/100 [==============================] - 2s 22ms/step - loss: 0.0745 - sparse_categorical_accuracy: 0.9723\n",
            "Epoch 59/100\n",
            "100/100 [==============================] - 2s 21ms/step - loss: 0.0761 - sparse_categorical_accuracy: 0.9707\n",
            "Epoch 60/100\n",
            "100/100 [==============================] - 2s 21ms/step - loss: 0.0781 - sparse_categorical_accuracy: 0.9706\n",
            "Epoch 61/100\n",
            "100/100 [==============================] - 2s 21ms/step - loss: 0.0763 - sparse_categorical_accuracy: 0.9714\n",
            "Epoch 62/100\n",
            "100/100 [==============================] - 2s 21ms/step - loss: 0.0726 - sparse_categorical_accuracy: 0.9734\n",
            "Epoch 63/100\n",
            "100/100 [==============================] - 2s 21ms/step - loss: 0.0748 - sparse_categorical_accuracy: 0.9717\n",
            "Epoch 64/100\n",
            "100/100 [==============================] - 2s 21ms/step - loss: 0.0773 - sparse_categorical_accuracy: 0.9706\n",
            "Epoch 65/100\n",
            "100/100 [==============================] - 2s 21ms/step - loss: 0.0754 - sparse_categorical_accuracy: 0.9718\n",
            "Epoch 66/100\n",
            "100/100 [==============================] - 2s 22ms/step - loss: 0.0761 - sparse_categorical_accuracy: 0.9723\n",
            "Epoch 67/100\n",
            "100/100 [==============================] - 2s 21ms/step - loss: 0.0754 - sparse_categorical_accuracy: 0.9724\n",
            "Epoch 68/100\n",
            "100/100 [==============================] - 2s 21ms/step - loss: 0.0702 - sparse_categorical_accuracy: 0.9737\n",
            "Epoch 69/100\n",
            "100/100 [==============================] - 2s 21ms/step - loss: 0.0750 - sparse_categorical_accuracy: 0.9722\n",
            "Epoch 70/100\n",
            "100/100 [==============================] - 2s 22ms/step - loss: 0.0730 - sparse_categorical_accuracy: 0.9724\n",
            "Epoch 71/100\n",
            "100/100 [==============================] - 2s 21ms/step - loss: 0.0720 - sparse_categorical_accuracy: 0.9733\n",
            "Epoch 72/100\n",
            "100/100 [==============================] - 2s 22ms/step - loss: 0.0725 - sparse_categorical_accuracy: 0.9735\n",
            "Epoch 73/100\n",
            "100/100 [==============================] - 2s 21ms/step - loss: 0.0705 - sparse_categorical_accuracy: 0.9739\n",
            "Epoch 74/100\n",
            "100/100 [==============================] - 2s 21ms/step - loss: 0.0714 - sparse_categorical_accuracy: 0.9736\n",
            "Epoch 75/100\n",
            "100/100 [==============================] - 2s 22ms/step - loss: 0.0730 - sparse_categorical_accuracy: 0.9721\n",
            "Epoch 76/100\n",
            "100/100 [==============================] - 2s 21ms/step - loss: 0.0723 - sparse_categorical_accuracy: 0.9730\n",
            "Epoch 77/100\n",
            "100/100 [==============================] - 2s 22ms/step - loss: 0.0727 - sparse_categorical_accuracy: 0.9722\n",
            "Epoch 78/100\n",
            "100/100 [==============================] - 2s 21ms/step - loss: 0.0707 - sparse_categorical_accuracy: 0.9737\n",
            "Epoch 79/100\n",
            "100/100 [==============================] - 2s 22ms/step - loss: 0.0738 - sparse_categorical_accuracy: 0.9732\n",
            "Epoch 80/100\n",
            "100/100 [==============================] - 2s 21ms/step - loss: 0.0696 - sparse_categorical_accuracy: 0.9740\n",
            "Epoch 81/100\n",
            "100/100 [==============================] - 2s 22ms/step - loss: 0.0704 - sparse_categorical_accuracy: 0.9743\n",
            "Epoch 82/100\n",
            "100/100 [==============================] - 2s 22ms/step - loss: 0.0715 - sparse_categorical_accuracy: 0.9732\n",
            "Epoch 83/100\n",
            "100/100 [==============================] - 2s 22ms/step - loss: 0.0696 - sparse_categorical_accuracy: 0.9743\n",
            "Epoch 84/100\n",
            "100/100 [==============================] - 2s 22ms/step - loss: 0.0724 - sparse_categorical_accuracy: 0.9730\n",
            "Epoch 85/100\n",
            "100/100 [==============================] - 2s 22ms/step - loss: 0.0683 - sparse_categorical_accuracy: 0.9740\n",
            "Epoch 86/100\n",
            "100/100 [==============================] - 2s 22ms/step - loss: 0.0686 - sparse_categorical_accuracy: 0.9737\n",
            "Epoch 87/100\n",
            "100/100 [==============================] - 2s 22ms/step - loss: 0.0703 - sparse_categorical_accuracy: 0.9738\n",
            "Epoch 88/100\n",
            "100/100 [==============================] - 2s 22ms/step - loss: 0.0725 - sparse_categorical_accuracy: 0.9730\n",
            "Epoch 89/100\n",
            "100/100 [==============================] - 2s 22ms/step - loss: 0.0712 - sparse_categorical_accuracy: 0.9744\n",
            "Epoch 90/100\n",
            "100/100 [==============================] - 2s 22ms/step - loss: 0.0653 - sparse_categorical_accuracy: 0.9752\n",
            "Epoch 91/100\n",
            "100/100 [==============================] - 2s 22ms/step - loss: 0.0662 - sparse_categorical_accuracy: 0.9752\n",
            "Epoch 92/100\n",
            "100/100 [==============================] - 2s 22ms/step - loss: 0.0673 - sparse_categorical_accuracy: 0.9757\n",
            "Epoch 93/100\n",
            "100/100 [==============================] - 2s 21ms/step - loss: 0.0723 - sparse_categorical_accuracy: 0.9737\n",
            "Epoch 94/100\n",
            "100/100 [==============================] - 2s 22ms/step - loss: 0.0684 - sparse_categorical_accuracy: 0.9744\n",
            "Epoch 95/100\n",
            "100/100 [==============================] - 2s 21ms/step - loss: 0.0702 - sparse_categorical_accuracy: 0.9745\n",
            "Epoch 96/100\n",
            "100/100 [==============================] - 2s 21ms/step - loss: 0.0678 - sparse_categorical_accuracy: 0.9749\n",
            "Epoch 97/100\n",
            "100/100 [==============================] - 2s 22ms/step - loss: 0.0696 - sparse_categorical_accuracy: 0.9744\n",
            "Epoch 98/100\n",
            "100/100 [==============================] - 2s 22ms/step - loss: 0.0684 - sparse_categorical_accuracy: 0.9742\n",
            "Epoch 99/100\n",
            "100/100 [==============================] - 2s 22ms/step - loss: 0.0672 - sparse_categorical_accuracy: 0.9750\n",
            "Epoch 100/100\n",
            "100/100 [==============================] - 2s 22ms/step - loss: 0.0662 - sparse_categorical_accuracy: 0.9752\n"
          ],
          "name": "stdout"
        },
        {
          "output_type": "execute_result",
          "data": {
            "text/plain": [
              "<tensorflow.python.keras.callbacks.History at 0x7f104ee686d0>"
            ]
          },
          "metadata": {
            "tags": []
          },
          "execution_count": 13
        }
      ]
    },
    {
      "cell_type": "code",
      "metadata": {
        "colab": {
          "base_uri": "https://localhost:8080/"
        },
        "id": "YQtkcPv_ytOi",
        "outputId": "f76f5f4d-74e6-42a6-b130-5b52a68bf428"
      },
      "source": [
        "test_loss, test_acc = model.evaluate(x_test.astype(np.float32), y_test.astype(np.float32), verbose=1) \n",
        "\n",
        "print('Test accuracy:', test_acc)"
      ],
      "execution_count": null,
      "outputs": [
        {
          "output_type": "stream",
          "text": [
            "313/313 [==============================] - 6s 17ms/step - loss: 0.3235 - sparse_categorical_accuracy: 0.9322\n",
            "Test accuracy: 0.9321999549865723\n"
          ],
          "name": "stdout"
        }
      ]
    },
    {
      "cell_type": "code",
      "metadata": {
        "colab": {
          "base_uri": "https://localhost:8080/"
        },
        "id": "y--Dw3CFyOjz",
        "outputId": "439a8c44-5ded-4c81-acb2-895c4031c419"
      },
      "source": [
        "model.fit(\n",
        "    x_train.astype(np.float32), y_train.astype(np.float32),\n",
        "    epochs=5,\n",
        "    steps_per_epoch=200,\n",
        "    validation_freq=17\n",
        ")"
      ],
      "execution_count": null,
      "outputs": [
        {
          "output_type": "stream",
          "text": [
            "Epoch 1/5\n",
            "200/200 [==============================] - 9s 23ms/step - loss: 0.1014 - sparse_categorical_accuracy: 0.9637\n",
            "Epoch 2/5\n",
            "200/200 [==============================] - 4s 22ms/step - loss: 0.1140 - sparse_categorical_accuracy: 0.9577\n",
            "Epoch 3/5\n",
            "200/200 [==============================] - 4s 22ms/step - loss: 0.1147 - sparse_categorical_accuracy: 0.9577\n",
            "Epoch 4/5\n",
            "200/200 [==============================] - 4s 22ms/step - loss: 0.1178 - sparse_categorical_accuracy: 0.9570\n",
            "Epoch 5/5\n",
            "200/200 [==============================] - 4s 22ms/step - loss: 0.1100 - sparse_categorical_accuracy: 0.9610\n"
          ],
          "name": "stdout"
        },
        {
          "output_type": "execute_result",
          "data": {
            "text/plain": [
              "<tensorflow.python.keras.callbacks.History at 0x7f104ef3a390>"
            ]
          },
          "metadata": {
            "tags": []
          },
          "execution_count": 15
        }
      ]
    },
    {
      "cell_type": "code",
      "metadata": {
        "colab": {
          "base_uri": "https://localhost:8080/"
        },
        "id": "2DTnLmFqytAC",
        "outputId": "4838728e-2957-4312-b1d2-1ab962dd942e"
      },
      "source": [
        "test_loss, test_acc = model.evaluate(x_test.astype(np.float32), y_test.astype(np.float32), verbose=1) \n",
        "\n",
        "print('Test accuracy:', test_acc)"
      ],
      "execution_count": null,
      "outputs": [
        {
          "output_type": "stream",
          "text": [
            "313/313 [==============================] - 6s 17ms/step - loss: 0.2920 - sparse_categorical_accuracy: 0.9262\n",
            "Test accuracy: 0.9261999726295471\n"
          ],
          "name": "stdout"
        }
      ]
    },
    {
      "cell_type": "code",
      "metadata": {
        "colab": {
          "base_uri": "https://localhost:8080/"
        },
        "id": "JZPftEhbyOfQ",
        "outputId": "a08912c3-ae2a-4e68-9f58-c287664b4958"
      },
      "source": [
        "model.fit(\n",
        "    x_train.astype(np.float32), y_train.astype(np.float32),\n",
        "    epochs=10,\n",
        "    steps_per_epoch=200,\n",
        "    validation_freq=17\n",
        ")"
      ],
      "execution_count": null,
      "outputs": [
        {
          "output_type": "stream",
          "text": [
            "Epoch 1/10\n",
            "200/200 [==============================] - 5s 23ms/step - loss: 0.1125 - sparse_categorical_accuracy: 0.9579\n",
            "Epoch 2/10\n",
            "200/200 [==============================] - 5s 23ms/step - loss: 0.1081 - sparse_categorical_accuracy: 0.9598\n",
            "Epoch 3/10\n",
            "200/200 [==============================] - 5s 23ms/step - loss: 0.1067 - sparse_categorical_accuracy: 0.9611\n",
            "Epoch 4/10\n",
            "200/200 [==============================] - 5s 23ms/step - loss: 0.1030 - sparse_categorical_accuracy: 0.9622\n",
            "Epoch 5/10\n",
            "200/200 [==============================] - 4s 22ms/step - loss: 0.1038 - sparse_categorical_accuracy: 0.9614\n",
            "Epoch 6/10\n",
            "200/200 [==============================] - 4s 22ms/step - loss: 0.1046 - sparse_categorical_accuracy: 0.9616\n",
            "Epoch 7/10\n",
            "200/200 [==============================] - 5s 23ms/step - loss: 0.1049 - sparse_categorical_accuracy: 0.9624\n",
            "Epoch 8/10\n",
            "200/200 [==============================] - 5s 24ms/step - loss: 0.1010 - sparse_categorical_accuracy: 0.9630\n",
            "Epoch 9/10\n",
            "200/200 [==============================] - 5s 23ms/step - loss: 0.1039 - sparse_categorical_accuracy: 0.9613\n",
            "Epoch 10/10\n",
            "200/200 [==============================] - 5s 23ms/step - loss: 0.0994 - sparse_categorical_accuracy: 0.9629\n"
          ],
          "name": "stdout"
        },
        {
          "output_type": "execute_result",
          "data": {
            "text/plain": [
              "<tensorflow.python.keras.callbacks.History at 0x7f104e6ed590>"
            ]
          },
          "metadata": {
            "tags": []
          },
          "execution_count": 17
        }
      ]
    },
    {
      "cell_type": "code",
      "metadata": {
        "colab": {
          "base_uri": "https://localhost:8080/"
        },
        "id": "_jZsNhR3ysdv",
        "outputId": "a2a14fb8-85c4-4b2b-8a34-15a180f9f5bb"
      },
      "source": [
        "test_loss, test_acc = model.evaluate(x_test.astype(np.float32), y_test.astype(np.float32), verbose=1) \n",
        "\n",
        "print('Test accuracy:', test_acc)"
      ],
      "execution_count": null,
      "outputs": [
        {
          "output_type": "stream",
          "text": [
            "313/313 [==============================] - 6s 17ms/step - loss: 0.2885 - sparse_categorical_accuracy: 0.9274\n",
            "Test accuracy: 0.9273999929428101\n"
          ],
          "name": "stdout"
        }
      ]
    },
    {
      "cell_type": "code",
      "metadata": {
        "colab": {
          "base_uri": "https://localhost:8080/"
        },
        "id": "gEqZzyQNyOQo",
        "outputId": "079ba22c-2bc0-4fe0-ac48-ace4c27fc7db"
      },
      "source": [
        "model.fit(\n",
        "    x_train.astype(np.float32), y_train.astype(np.float32),\n",
        "    epochs=20,\n",
        "    steps_per_epoch=200,\n",
        "    validation_freq=17\n",
        ")"
      ],
      "execution_count": null,
      "outputs": [
        {
          "output_type": "stream",
          "text": [
            "Epoch 1/20\n",
            "200/200 [==============================] - 5s 23ms/step - loss: 0.1019 - sparse_categorical_accuracy: 0.9623\n",
            "Epoch 2/20\n",
            "200/200 [==============================] - 5s 23ms/step - loss: 0.1008 - sparse_categorical_accuracy: 0.9618\n",
            "Epoch 3/20\n",
            "200/200 [==============================] - 4s 22ms/step - loss: 0.0979 - sparse_categorical_accuracy: 0.9633\n",
            "Epoch 4/20\n",
            "200/200 [==============================] - 4s 22ms/step - loss: 0.1031 - sparse_categorical_accuracy: 0.9625\n",
            "Epoch 5/20\n",
            "200/200 [==============================] - 4s 22ms/step - loss: 0.1009 - sparse_categorical_accuracy: 0.9631\n",
            "Epoch 6/20\n",
            "200/200 [==============================] - 4s 22ms/step - loss: 0.1000 - sparse_categorical_accuracy: 0.9621\n",
            "Epoch 7/20\n",
            "200/200 [==============================] - 4s 22ms/step - loss: 0.1008 - sparse_categorical_accuracy: 0.9623\n",
            "Epoch 8/20\n",
            "200/200 [==============================] - 4s 22ms/step - loss: 0.0993 - sparse_categorical_accuracy: 0.9628\n",
            "Epoch 9/20\n",
            "200/200 [==============================] - 4s 22ms/step - loss: 0.0962 - sparse_categorical_accuracy: 0.9645\n",
            "Epoch 10/20\n",
            "200/200 [==============================] - 4s 22ms/step - loss: 0.1015 - sparse_categorical_accuracy: 0.9623\n",
            "Epoch 11/20\n",
            "200/200 [==============================] - 4s 22ms/step - loss: 0.0997 - sparse_categorical_accuracy: 0.9623\n",
            "Epoch 12/20\n",
            "200/200 [==============================] - 4s 22ms/step - loss: 0.0985 - sparse_categorical_accuracy: 0.9629\n",
            "Epoch 13/20\n",
            "200/200 [==============================] - 4s 22ms/step - loss: 0.0989 - sparse_categorical_accuracy: 0.9636\n",
            "Epoch 14/20\n",
            "200/200 [==============================] - 4s 22ms/step - loss: 0.1005 - sparse_categorical_accuracy: 0.9624\n",
            "Epoch 15/20\n",
            "200/200 [==============================] - 4s 22ms/step - loss: 0.0989 - sparse_categorical_accuracy: 0.9628\n",
            "Epoch 16/20\n",
            "200/200 [==============================] - 4s 22ms/step - loss: 0.1012 - sparse_categorical_accuracy: 0.9630\n",
            "Epoch 17/20\n",
            "200/200 [==============================] - 4s 22ms/step - loss: 0.0958 - sparse_categorical_accuracy: 0.9645\n",
            "Epoch 18/20\n",
            "200/200 [==============================] - 4s 22ms/step - loss: 0.0973 - sparse_categorical_accuracy: 0.9640\n",
            "Epoch 19/20\n",
            "200/200 [==============================] - 4s 22ms/step - loss: 0.0999 - sparse_categorical_accuracy: 0.9631\n",
            "Epoch 20/20\n",
            "200/200 [==============================] - 4s 22ms/step - loss: 0.0988 - sparse_categorical_accuracy: 0.9642\n"
          ],
          "name": "stdout"
        },
        {
          "output_type": "execute_result",
          "data": {
            "text/plain": [
              "<tensorflow.python.keras.callbacks.History at 0x7f104e6f90d0>"
            ]
          },
          "metadata": {
            "tags": []
          },
          "execution_count": 19
        }
      ]
    },
    {
      "cell_type": "code",
      "metadata": {
        "colab": {
          "base_uri": "https://localhost:8080/"
        },
        "id": "2tW-wy2EysHu",
        "outputId": "7fad431a-af82-407f-ad21-8cb0fa178869"
      },
      "source": [
        "test_loss, test_acc = model.evaluate(x_test.astype(np.float32), y_test.astype(np.float32), verbose=1) \n",
        "\n",
        "print('Test accuracy:', test_acc)"
      ],
      "execution_count": null,
      "outputs": [
        {
          "output_type": "stream",
          "text": [
            "313/313 [==============================] - 6s 16ms/step - loss: 0.2877 - sparse_categorical_accuracy: 0.9257\n",
            "Test accuracy: 0.9256999492645264\n"
          ],
          "name": "stdout"
        }
      ]
    },
    {
      "cell_type": "code",
      "metadata": {
        "colab": {
          "base_uri": "https://localhost:8080/"
        },
        "id": "0MNnaFjHyY24",
        "outputId": "39791756-dd54-4d87-f6c0-2154c3992279"
      },
      "source": [
        "model.fit(\n",
        "    x_train.astype(np.float32), y_train.astype(np.float32),\n",
        "    epochs=40,\n",
        "    steps_per_epoch=200,\n",
        "    validation_freq=17\n",
        ")"
      ],
      "execution_count": null,
      "outputs": [
        {
          "output_type": "stream",
          "text": [
            "Epoch 1/40\n",
            "200/200 [==============================] - 4s 22ms/step - loss: 0.0992 - sparse_categorical_accuracy: 0.9629\n",
            "Epoch 2/40\n",
            "200/200 [==============================] - 4s 22ms/step - loss: 0.1029 - sparse_categorical_accuracy: 0.9618\n",
            "Epoch 3/40\n",
            "200/200 [==============================] - 4s 22ms/step - loss: 0.0985 - sparse_categorical_accuracy: 0.9632\n",
            "Epoch 4/40\n",
            "200/200 [==============================] - 4s 22ms/step - loss: 0.0976 - sparse_categorical_accuracy: 0.9645\n",
            "Epoch 5/40\n",
            "200/200 [==============================] - 4s 22ms/step - loss: 0.0986 - sparse_categorical_accuracy: 0.9627\n",
            "Epoch 6/40\n",
            "200/200 [==============================] - 4s 22ms/step - loss: 0.0976 - sparse_categorical_accuracy: 0.9636\n",
            "Epoch 7/40\n",
            "200/200 [==============================] - 4s 22ms/step - loss: 0.0983 - sparse_categorical_accuracy: 0.9636\n",
            "Epoch 8/40\n",
            "200/200 [==============================] - 4s 22ms/step - loss: 0.0995 - sparse_categorical_accuracy: 0.9639\n",
            "Epoch 9/40\n",
            "200/200 [==============================] - 4s 22ms/step - loss: 0.0938 - sparse_categorical_accuracy: 0.9661\n",
            "Epoch 10/40\n",
            "200/200 [==============================] - 4s 22ms/step - loss: 0.0970 - sparse_categorical_accuracy: 0.9642\n",
            "Epoch 11/40\n",
            "200/200 [==============================] - 4s 22ms/step - loss: 0.0957 - sparse_categorical_accuracy: 0.9647\n",
            "Epoch 12/40\n",
            "200/200 [==============================] - 4s 22ms/step - loss: 0.0949 - sparse_categorical_accuracy: 0.9650\n",
            "Epoch 13/40\n",
            "200/200 [==============================] - 4s 22ms/step - loss: 0.0971 - sparse_categorical_accuracy: 0.9649\n",
            "Epoch 14/40\n",
            "200/200 [==============================] - 4s 22ms/step - loss: 0.0957 - sparse_categorical_accuracy: 0.9638\n",
            "Epoch 15/40\n",
            "200/200 [==============================] - 4s 22ms/step - loss: 0.0953 - sparse_categorical_accuracy: 0.9649\n",
            "Epoch 16/40\n",
            "200/200 [==============================] - 4s 22ms/step - loss: 0.0988 - sparse_categorical_accuracy: 0.9634\n",
            "Epoch 17/40\n",
            "200/200 [==============================] - 4s 22ms/step - loss: 0.0965 - sparse_categorical_accuracy: 0.9640\n",
            "Epoch 18/40\n",
            "200/200 [==============================] - 4s 22ms/step - loss: 0.1029 - sparse_categorical_accuracy: 0.9620\n",
            "Epoch 19/40\n",
            "200/200 [==============================] - 4s 22ms/step - loss: 0.0993 - sparse_categorical_accuracy: 0.9625\n",
            "Epoch 20/40\n",
            "200/200 [==============================] - 4s 22ms/step - loss: 0.0986 - sparse_categorical_accuracy: 0.9626\n",
            "Epoch 21/40\n",
            "200/200 [==============================] - 4s 22ms/step - loss: 0.0943 - sparse_categorical_accuracy: 0.9654\n",
            "Epoch 22/40\n",
            "200/200 [==============================] - 4s 22ms/step - loss: 0.0960 - sparse_categorical_accuracy: 0.9636\n",
            "Epoch 23/40\n",
            "200/200 [==============================] - 4s 22ms/step - loss: 0.0936 - sparse_categorical_accuracy: 0.9653\n",
            "Epoch 24/40\n",
            "200/200 [==============================] - 4s 22ms/step - loss: 0.0961 - sparse_categorical_accuracy: 0.9637\n",
            "Epoch 25/40\n",
            "200/200 [==============================] - 4s 22ms/step - loss: 0.1006 - sparse_categorical_accuracy: 0.9635\n",
            "Epoch 26/40\n",
            "200/200 [==============================] - 4s 22ms/step - loss: 0.0933 - sparse_categorical_accuracy: 0.9652\n",
            "Epoch 27/40\n",
            "200/200 [==============================] - 4s 22ms/step - loss: 0.0975 - sparse_categorical_accuracy: 0.9634\n",
            "Epoch 28/40\n",
            "200/200 [==============================] - 4s 22ms/step - loss: 0.0946 - sparse_categorical_accuracy: 0.9648\n",
            "Epoch 29/40\n",
            "200/200 [==============================] - 4s 22ms/step - loss: 0.0940 - sparse_categorical_accuracy: 0.9657\n",
            "Epoch 30/40\n",
            "200/200 [==============================] - 5s 23ms/step - loss: 0.0951 - sparse_categorical_accuracy: 0.9656\n",
            "Epoch 31/40\n",
            "200/200 [==============================] - 4s 22ms/step - loss: 0.0932 - sparse_categorical_accuracy: 0.9660\n",
            "Epoch 32/40\n",
            "200/200 [==============================] - 5s 23ms/step - loss: 0.0960 - sparse_categorical_accuracy: 0.9644\n",
            "Epoch 33/40\n",
            "200/200 [==============================] - 4s 22ms/step - loss: 0.0972 - sparse_categorical_accuracy: 0.9641\n",
            "Epoch 34/40\n",
            "200/200 [==============================] - 4s 22ms/step - loss: 0.0941 - sparse_categorical_accuracy: 0.9653\n",
            "Epoch 35/40\n",
            "200/200 [==============================] - 4s 22ms/step - loss: 0.0946 - sparse_categorical_accuracy: 0.9658\n",
            "Epoch 36/40\n",
            "200/200 [==============================] - 4s 22ms/step - loss: 0.0904 - sparse_categorical_accuracy: 0.9667\n",
            "Epoch 37/40\n",
            "200/200 [==============================] - 4s 22ms/step - loss: 0.0913 - sparse_categorical_accuracy: 0.9662\n",
            "Epoch 38/40\n",
            "200/200 [==============================] - 4s 22ms/step - loss: 0.0937 - sparse_categorical_accuracy: 0.9652\n",
            "Epoch 39/40\n",
            "200/200 [==============================] - 4s 22ms/step - loss: 0.0899 - sparse_categorical_accuracy: 0.9660\n",
            "Epoch 40/40\n",
            "200/200 [==============================] - 4s 22ms/step - loss: 0.0923 - sparse_categorical_accuracy: 0.9661\n"
          ],
          "name": "stdout"
        },
        {
          "output_type": "execute_result",
          "data": {
            "text/plain": [
              "<tensorflow.python.keras.callbacks.History at 0x7f104f38d490>"
            ]
          },
          "metadata": {
            "tags": []
          },
          "execution_count": 21
        }
      ]
    },
    {
      "cell_type": "code",
      "metadata": {
        "colab": {
          "base_uri": "https://localhost:8080/"
        },
        "id": "PQJR0h_byrpG",
        "outputId": "ebeecfae-d9f2-41f1-aa56-6c8f79950d82"
      },
      "source": [
        "test_loss, test_acc = model.evaluate(x_test.astype(np.float32), y_test.astype(np.float32), verbose=1) \n",
        "\n",
        "print('Test accuracy:', test_acc)"
      ],
      "execution_count": null,
      "outputs": [
        {
          "output_type": "stream",
          "text": [
            "313/313 [==============================] - 6s 17ms/step - loss: 0.2948 - sparse_categorical_accuracy: 0.9268\n",
            "Test accuracy: 0.9267999529838562\n"
          ],
          "name": "stdout"
        }
      ]
    },
    {
      "cell_type": "code",
      "metadata": {
        "colab": {
          "base_uri": "https://localhost:8080/"
        },
        "id": "7vCocA2NyYzw",
        "outputId": "00036546-ffb8-4144-b6c7-afd63ccaf91b"
      },
      "source": [
        "model.fit(\n",
        "    x_train.astype(np.float32), y_train.astype(np.float32),\n",
        "    epochs=100,\n",
        "    steps_per_epoch=200,\n",
        "    validation_freq=17\n",
        ")"
      ],
      "execution_count": null,
      "outputs": [
        {
          "output_type": "stream",
          "text": [
            "Epoch 1/100\n",
            "200/200 [==============================] - 4s 22ms/step - loss: 0.0922 - sparse_categorical_accuracy: 0.9668\n",
            "Epoch 2/100\n",
            "200/200 [==============================] - 4s 22ms/step - loss: 0.0933 - sparse_categorical_accuracy: 0.9656\n",
            "Epoch 3/100\n",
            "200/200 [==============================] - 4s 22ms/step - loss: 0.0923 - sparse_categorical_accuracy: 0.9657\n",
            "Epoch 4/100\n",
            "200/200 [==============================] - 4s 22ms/step - loss: 0.0994 - sparse_categorical_accuracy: 0.9641\n",
            "Epoch 5/100\n",
            "200/200 [==============================] - 4s 22ms/step - loss: 0.0978 - sparse_categorical_accuracy: 0.9636\n",
            "Epoch 6/100\n",
            "200/200 [==============================] - 4s 22ms/step - loss: 0.0960 - sparse_categorical_accuracy: 0.9639\n",
            "Epoch 7/100\n",
            "200/200 [==============================] - 4s 22ms/step - loss: 0.0919 - sparse_categorical_accuracy: 0.9666\n",
            "Epoch 8/100\n",
            "200/200 [==============================] - 4s 22ms/step - loss: 0.0969 - sparse_categorical_accuracy: 0.9646\n",
            "Epoch 9/100\n",
            "200/200 [==============================] - 4s 22ms/step - loss: 0.0938 - sparse_categorical_accuracy: 0.9654\n",
            "Epoch 10/100\n",
            "200/200 [==============================] - 4s 22ms/step - loss: 0.0904 - sparse_categorical_accuracy: 0.9674\n",
            "Epoch 11/100\n",
            "200/200 [==============================] - 4s 22ms/step - loss: 0.0916 - sparse_categorical_accuracy: 0.9666\n",
            "Epoch 12/100\n",
            "200/200 [==============================] - 4s 22ms/step - loss: 0.0931 - sparse_categorical_accuracy: 0.9648\n",
            "Epoch 13/100\n",
            "200/200 [==============================] - 4s 22ms/step - loss: 0.0946 - sparse_categorical_accuracy: 0.9650\n",
            "Epoch 14/100\n",
            "200/200 [==============================] - 5s 23ms/step - loss: 0.0918 - sparse_categorical_accuracy: 0.9661\n",
            "Epoch 15/100\n",
            "200/200 [==============================] - 5s 23ms/step - loss: 0.0915 - sparse_categorical_accuracy: 0.9665\n",
            "Epoch 16/100\n",
            "200/200 [==============================] - 4s 22ms/step - loss: 0.0916 - sparse_categorical_accuracy: 0.9658\n",
            "Epoch 17/100\n",
            "200/200 [==============================] - 4s 22ms/step - loss: 0.0939 - sparse_categorical_accuracy: 0.9652\n",
            "Epoch 18/100\n",
            "200/200 [==============================] - 4s 22ms/step - loss: 0.0942 - sparse_categorical_accuracy: 0.9645\n",
            "Epoch 19/100\n",
            "200/200 [==============================] - 4s 22ms/step - loss: 0.0891 - sparse_categorical_accuracy: 0.9670\n",
            "Epoch 20/100\n",
            "200/200 [==============================] - 4s 22ms/step - loss: 0.0875 - sparse_categorical_accuracy: 0.9671\n",
            "Epoch 21/100\n",
            "200/200 [==============================] - 4s 22ms/step - loss: 0.0905 - sparse_categorical_accuracy: 0.9670\n",
            "Epoch 22/100\n",
            "200/200 [==============================] - 4s 22ms/step - loss: 0.0889 - sparse_categorical_accuracy: 0.9668\n",
            "Epoch 23/100\n",
            "200/200 [==============================] - 4s 22ms/step - loss: 0.0891 - sparse_categorical_accuracy: 0.9673\n",
            "Epoch 24/100\n",
            "200/200 [==============================] - 4s 22ms/step - loss: 0.0885 - sparse_categorical_accuracy: 0.9675\n",
            "Epoch 25/100\n",
            "200/200 [==============================] - 4s 22ms/step - loss: 0.0880 - sparse_categorical_accuracy: 0.9674\n",
            "Epoch 26/100\n",
            "200/200 [==============================] - 4s 22ms/step - loss: 0.0867 - sparse_categorical_accuracy: 0.9683\n",
            "Epoch 27/100\n",
            "200/200 [==============================] - 4s 22ms/step - loss: 0.0933 - sparse_categorical_accuracy: 0.9653\n",
            "Epoch 28/100\n",
            "200/200 [==============================] - 4s 22ms/step - loss: 0.0924 - sparse_categorical_accuracy: 0.9660\n",
            "Epoch 29/100\n",
            "200/200 [==============================] - 4s 22ms/step - loss: 0.0906 - sparse_categorical_accuracy: 0.9668\n",
            "Epoch 30/100\n",
            "200/200 [==============================] - 4s 22ms/step - loss: 0.0910 - sparse_categorical_accuracy: 0.9657\n",
            "Epoch 31/100\n",
            "200/200 [==============================] - 4s 22ms/step - loss: 0.0907 - sparse_categorical_accuracy: 0.9673\n",
            "Epoch 32/100\n",
            "200/200 [==============================] - 4s 22ms/step - loss: 0.0907 - sparse_categorical_accuracy: 0.9667\n",
            "Epoch 33/100\n",
            "200/200 [==============================] - 4s 22ms/step - loss: 0.0888 - sparse_categorical_accuracy: 0.9674\n",
            "Epoch 34/100\n",
            "200/200 [==============================] - 4s 22ms/step - loss: 0.0881 - sparse_categorical_accuracy: 0.9676\n",
            "Epoch 35/100\n",
            "200/200 [==============================] - 4s 22ms/step - loss: 0.0911 - sparse_categorical_accuracy: 0.9662\n",
            "Epoch 36/100\n",
            "200/200 [==============================] - 4s 22ms/step - loss: 0.0886 - sparse_categorical_accuracy: 0.9675\n",
            "Epoch 37/100\n",
            "200/200 [==============================] - 4s 22ms/step - loss: 0.0887 - sparse_categorical_accuracy: 0.9670\n",
            "Epoch 38/100\n",
            "200/200 [==============================] - 4s 22ms/step - loss: 0.0879 - sparse_categorical_accuracy: 0.9679\n",
            "Epoch 39/100\n",
            "200/200 [==============================] - 4s 22ms/step - loss: 0.0919 - sparse_categorical_accuracy: 0.9664\n",
            "Epoch 40/100\n",
            "200/200 [==============================] - 4s 22ms/step - loss: 0.0945 - sparse_categorical_accuracy: 0.9655\n",
            "Epoch 41/100\n",
            "200/200 [==============================] - 4s 22ms/step - loss: 0.0892 - sparse_categorical_accuracy: 0.9680\n",
            "Epoch 42/100\n",
            "200/200 [==============================] - 4s 22ms/step - loss: 0.0858 - sparse_categorical_accuracy: 0.9682\n",
            "Epoch 43/100\n",
            "200/200 [==============================] - 4s 22ms/step - loss: 0.0912 - sparse_categorical_accuracy: 0.9668\n",
            "Epoch 44/100\n",
            "200/200 [==============================] - 4s 22ms/step - loss: 0.0897 - sparse_categorical_accuracy: 0.9671\n",
            "Epoch 45/100\n",
            "200/200 [==============================] - 5s 23ms/step - loss: 0.0909 - sparse_categorical_accuracy: 0.9663\n",
            "Epoch 46/100\n",
            "200/200 [==============================] - 4s 22ms/step - loss: 0.0858 - sparse_categorical_accuracy: 0.9682\n",
            "Epoch 47/100\n",
            "200/200 [==============================] - 4s 22ms/step - loss: 0.0893 - sparse_categorical_accuracy: 0.9674\n",
            "Epoch 48/100\n",
            "200/200 [==============================] - 4s 22ms/step - loss: 0.0904 - sparse_categorical_accuracy: 0.9671\n",
            "Epoch 49/100\n",
            "200/200 [==============================] - 4s 22ms/step - loss: 0.0892 - sparse_categorical_accuracy: 0.9669\n",
            "Epoch 50/100\n",
            "200/200 [==============================] - 4s 22ms/step - loss: 0.0866 - sparse_categorical_accuracy: 0.9681\n",
            "Epoch 51/100\n",
            "200/200 [==============================] - 4s 22ms/step - loss: 0.0882 - sparse_categorical_accuracy: 0.9668\n",
            "Epoch 52/100\n",
            "200/200 [==============================] - 4s 22ms/step - loss: 0.0860 - sparse_categorical_accuracy: 0.9684\n",
            "Epoch 53/100\n",
            "200/200 [==============================] - 4s 22ms/step - loss: 0.0856 - sparse_categorical_accuracy: 0.9681\n",
            "Epoch 54/100\n",
            "200/200 [==============================] - 4s 22ms/step - loss: 0.0859 - sparse_categorical_accuracy: 0.9683\n",
            "Epoch 55/100\n",
            "200/200 [==============================] - 4s 22ms/step - loss: 0.0878 - sparse_categorical_accuracy: 0.9672\n",
            "Epoch 56/100\n",
            "200/200 [==============================] - 4s 22ms/step - loss: 0.0882 - sparse_categorical_accuracy: 0.9678\n",
            "Epoch 57/100\n",
            "200/200 [==============================] - 4s 22ms/step - loss: 0.0879 - sparse_categorical_accuracy: 0.9686\n",
            "Epoch 58/100\n",
            "200/200 [==============================] - 4s 22ms/step - loss: 0.0871 - sparse_categorical_accuracy: 0.9677\n",
            "Epoch 59/100\n",
            "200/200 [==============================] - 4s 22ms/step - loss: 0.0856 - sparse_categorical_accuracy: 0.9685\n",
            "Epoch 60/100\n",
            "200/200 [==============================] - 4s 22ms/step - loss: 0.0877 - sparse_categorical_accuracy: 0.9681\n",
            "Epoch 61/100\n",
            "200/200 [==============================] - 4s 22ms/step - loss: 0.0854 - sparse_categorical_accuracy: 0.9679\n",
            "Epoch 62/100\n",
            "200/200 [==============================] - 4s 22ms/step - loss: 0.0866 - sparse_categorical_accuracy: 0.9678\n",
            "Epoch 63/100\n",
            "200/200 [==============================] - 4s 22ms/step - loss: 0.0847 - sparse_categorical_accuracy: 0.9686\n",
            "Epoch 64/100\n",
            "200/200 [==============================] - 4s 22ms/step - loss: 0.0865 - sparse_categorical_accuracy: 0.9685\n",
            "Epoch 65/100\n",
            "200/200 [==============================] - 4s 23ms/step - loss: 0.0899 - sparse_categorical_accuracy: 0.9672\n",
            "Epoch 66/100\n",
            "200/200 [==============================] - 4s 22ms/step - loss: 0.0872 - sparse_categorical_accuracy: 0.9695\n",
            "Epoch 67/100\n",
            "200/200 [==============================] - 4s 22ms/step - loss: 0.0882 - sparse_categorical_accuracy: 0.9681\n",
            "Epoch 68/100\n",
            "200/200 [==============================] - 4s 22ms/step - loss: 0.0894 - sparse_categorical_accuracy: 0.9671\n",
            "Epoch 69/100\n",
            "200/200 [==============================] - 4s 23ms/step - loss: 0.0851 - sparse_categorical_accuracy: 0.9682\n",
            "Epoch 70/100\n",
            "200/200 [==============================] - 4s 22ms/step - loss: 0.0825 - sparse_categorical_accuracy: 0.9690\n",
            "Epoch 71/100\n",
            "200/200 [==============================] - 4s 22ms/step - loss: 0.0811 - sparse_categorical_accuracy: 0.9705\n",
            "Epoch 72/100\n",
            "200/200 [==============================] - 4s 22ms/step - loss: 0.0850 - sparse_categorical_accuracy: 0.9684\n",
            "Epoch 73/100\n",
            "200/200 [==============================] - 4s 22ms/step - loss: 0.0857 - sparse_categorical_accuracy: 0.9683\n",
            "Epoch 74/100\n",
            "200/200 [==============================] - 4s 22ms/step - loss: 0.0810 - sparse_categorical_accuracy: 0.9701\n",
            "Epoch 75/100\n",
            "200/200 [==============================] - 4s 22ms/step - loss: 0.0844 - sparse_categorical_accuracy: 0.9685\n",
            "Epoch 76/100\n",
            "200/200 [==============================] - 4s 22ms/step - loss: 0.0813 - sparse_categorical_accuracy: 0.9692\n",
            "Epoch 77/100\n",
            "200/200 [==============================] - 4s 22ms/step - loss: 0.0792 - sparse_categorical_accuracy: 0.9712\n",
            "Epoch 78/100\n",
            "200/200 [==============================] - 5s 23ms/step - loss: 0.0879 - sparse_categorical_accuracy: 0.9680\n",
            "Epoch 79/100\n",
            "200/200 [==============================] - 4s 22ms/step - loss: 0.0808 - sparse_categorical_accuracy: 0.9703\n",
            "Epoch 80/100\n",
            "200/200 [==============================] - 4s 22ms/step - loss: 0.0861 - sparse_categorical_accuracy: 0.9683\n",
            "Epoch 81/100\n",
            "200/200 [==============================] - 4s 22ms/step - loss: 0.0864 - sparse_categorical_accuracy: 0.9681\n",
            "Epoch 82/100\n",
            "200/200 [==============================] - 4s 22ms/step - loss: 0.0858 - sparse_categorical_accuracy: 0.9687\n",
            "Epoch 83/100\n",
            "200/200 [==============================] - 4s 23ms/step - loss: 0.0850 - sparse_categorical_accuracy: 0.9689\n",
            "Epoch 84/100\n",
            "200/200 [==============================] - 5s 23ms/step - loss: 0.0841 - sparse_categorical_accuracy: 0.9695\n",
            "Epoch 85/100\n",
            "200/200 [==============================] - 5s 23ms/step - loss: 0.0845 - sparse_categorical_accuracy: 0.9694\n",
            "Epoch 86/100\n",
            "200/200 [==============================] - 5s 23ms/step - loss: 0.0839 - sparse_categorical_accuracy: 0.9683\n",
            "Epoch 87/100\n",
            "200/200 [==============================] - 4s 22ms/step - loss: 0.0874 - sparse_categorical_accuracy: 0.9678\n",
            "Epoch 88/100\n",
            "200/200 [==============================] - 4s 22ms/step - loss: 0.0902 - sparse_categorical_accuracy: 0.9671\n",
            "Epoch 89/100\n",
            "200/200 [==============================] - 5s 23ms/step - loss: 0.0852 - sparse_categorical_accuracy: 0.9687\n",
            "Epoch 90/100\n",
            "200/200 [==============================] - 4s 22ms/step - loss: 0.0851 - sparse_categorical_accuracy: 0.9696\n",
            "Epoch 91/100\n",
            "200/200 [==============================] - 4s 22ms/step - loss: 0.0883 - sparse_categorical_accuracy: 0.9688\n",
            "Epoch 92/100\n",
            "200/200 [==============================] - 4s 22ms/step - loss: 0.0826 - sparse_categorical_accuracy: 0.9692\n",
            "Epoch 93/100\n",
            "200/200 [==============================] - 4s 22ms/step - loss: 0.0823 - sparse_categorical_accuracy: 0.9697\n",
            "Epoch 94/100\n",
            "200/200 [==============================] - 4s 22ms/step - loss: 0.0837 - sparse_categorical_accuracy: 0.9697\n",
            "Epoch 95/100\n",
            "200/200 [==============================] - 4s 22ms/step - loss: 0.0838 - sparse_categorical_accuracy: 0.9691\n",
            "Epoch 96/100\n",
            "200/200 [==============================] - 4s 22ms/step - loss: 0.0811 - sparse_categorical_accuracy: 0.9709\n",
            "Epoch 97/100\n",
            "200/200 [==============================] - 4s 22ms/step - loss: 0.0876 - sparse_categorical_accuracy: 0.9679\n",
            "Epoch 98/100\n",
            "200/200 [==============================] - 4s 22ms/step - loss: 0.0868 - sparse_categorical_accuracy: 0.9680\n",
            "Epoch 99/100\n",
            "200/200 [==============================] - 4s 22ms/step - loss: 0.0835 - sparse_categorical_accuracy: 0.9694\n",
            "Epoch 100/100\n",
            "200/200 [==============================] - 4s 22ms/step - loss: 0.0783 - sparse_categorical_accuracy: 0.9713\n"
          ],
          "name": "stdout"
        },
        {
          "output_type": "execute_result",
          "data": {
            "text/plain": [
              "<tensorflow.python.keras.callbacks.History at 0x7f104ee3bf50>"
            ]
          },
          "metadata": {
            "tags": []
          },
          "execution_count": 23
        }
      ]
    },
    {
      "cell_type": "code",
      "metadata": {
        "colab": {
          "base_uri": "https://localhost:8080/"
        },
        "id": "ocIbO8J5yrYW",
        "outputId": "ea15c189-87a2-4c96-b384-40dec47d5865"
      },
      "source": [
        "test_loss, test_acc = model.evaluate(x_test.astype(np.float32), y_test.astype(np.float32), verbose=1) \n",
        "\n",
        "print('Test accuracy:', test_acc)"
      ],
      "execution_count": null,
      "outputs": [
        {
          "output_type": "stream",
          "text": [
            "313/313 [==============================] - 6s 17ms/step - loss: 0.3105 - sparse_categorical_accuracy: 0.9313\n",
            "Test accuracy: 0.9312999844551086\n"
          ],
          "name": "stdout"
        }
      ]
    },
    {
      "cell_type": "code",
      "metadata": {
        "colab": {
          "base_uri": "https://localhost:8080/"
        },
        "id": "0nODv9IUyYwv",
        "outputId": "69c5db74-6353-4357-b655-3372d757e036"
      },
      "source": [
        "model.fit(\n",
        "    x_train.astype(np.float32), y_train.astype(np.float32),\n",
        "    epochs=5,\n",
        "    steps_per_epoch=500,\n",
        "    validation_freq=17\n",
        ")"
      ],
      "execution_count": null,
      "outputs": [
        {
          "output_type": "stream",
          "text": [
            "Epoch 1/5\n",
            "500/500 [==============================] - 12s 19ms/step - loss: 0.1259 - sparse_categorical_accuracy: 0.9539\n",
            "Epoch 2/5\n",
            "500/500 [==============================] - 10s 20ms/step - loss: 0.1370 - sparse_categorical_accuracy: 0.9510\n",
            "Epoch 3/5\n",
            "500/500 [==============================] - 10s 20ms/step - loss: 0.1355 - sparse_categorical_accuracy: 0.9517\n",
            "Epoch 4/5\n",
            "500/500 [==============================] - 10s 20ms/step - loss: 0.1250 - sparse_categorical_accuracy: 0.9550\n",
            "Epoch 5/5\n",
            "500/500 [==============================] - 10s 20ms/step - loss: 0.1394 - sparse_categorical_accuracy: 0.9489\n"
          ],
          "name": "stdout"
        },
        {
          "output_type": "execute_result",
          "data": {
            "text/plain": [
              "<tensorflow.python.keras.callbacks.History at 0x7f104e55c350>"
            ]
          },
          "metadata": {
            "tags": []
          },
          "execution_count": 25
        }
      ]
    },
    {
      "cell_type": "code",
      "metadata": {
        "colab": {
          "base_uri": "https://localhost:8080/"
        },
        "id": "eo8drpfhyq5O",
        "outputId": "ce55660f-02c1-4508-fc27-0520cdef06f2"
      },
      "source": [
        "test_loss, test_acc = model.evaluate(x_test.astype(np.float32), y_test.astype(np.float32), verbose=1) \n",
        "\n",
        "print('Test accuracy:', test_acc)"
      ],
      "execution_count": null,
      "outputs": [
        {
          "output_type": "stream",
          "text": [
            "313/313 [==============================] - 6s 17ms/step - loss: 0.2911 - sparse_categorical_accuracy: 0.9230\n",
            "Test accuracy: 0.9229999780654907\n"
          ],
          "name": "stdout"
        }
      ]
    },
    {
      "cell_type": "code",
      "metadata": {
        "colab": {
          "base_uri": "https://localhost:8080/"
        },
        "id": "Iny4ZW-QyinD",
        "outputId": "92bcb88c-b86f-4bfb-9db8-468b758817d6"
      },
      "source": [
        "model.fit(\n",
        "    x_train.astype(np.float32), y_train.astype(np.float32),\n",
        "    epochs=10,\n",
        "    steps_per_epoch=500,\n",
        "    validation_freq=17\n",
        ")"
      ],
      "execution_count": null,
      "outputs": [
        {
          "output_type": "stream",
          "text": [
            "Epoch 1/10\n",
            "500/500 [==============================] - 10s 20ms/step - loss: 0.1258 - sparse_categorical_accuracy: 0.9545\n",
            "Epoch 2/10\n",
            "500/500 [==============================] - 10s 20ms/step - loss: 0.1244 - sparse_categorical_accuracy: 0.9544\n",
            "Epoch 3/10\n",
            "500/500 [==============================] - 10s 20ms/step - loss: 0.1265 - sparse_categorical_accuracy: 0.9536\n",
            "Epoch 4/10\n",
            "500/500 [==============================] - 10s 20ms/step - loss: 0.1339 - sparse_categorical_accuracy: 0.9523\n",
            "Epoch 5/10\n",
            "500/500 [==============================] - 10s 20ms/step - loss: 0.1341 - sparse_categorical_accuracy: 0.9518\n",
            "Epoch 6/10\n",
            "500/500 [==============================] - 10s 20ms/step - loss: 0.1325 - sparse_categorical_accuracy: 0.9523\n",
            "Epoch 7/10\n",
            "500/500 [==============================] - 10s 20ms/step - loss: 0.1271 - sparse_categorical_accuracy: 0.9534\n",
            "Epoch 8/10\n",
            "500/500 [==============================] - 10s 20ms/step - loss: 0.1333 - sparse_categorical_accuracy: 0.9525\n",
            "Epoch 9/10\n",
            "500/500 [==============================] - 10s 20ms/step - loss: 0.1301 - sparse_categorical_accuracy: 0.9522\n",
            "Epoch 10/10\n",
            "500/500 [==============================] - 10s 20ms/step - loss: 0.1354 - sparse_categorical_accuracy: 0.9512\n"
          ],
          "name": "stdout"
        },
        {
          "output_type": "execute_result",
          "data": {
            "text/plain": [
              "<tensorflow.python.keras.callbacks.History at 0x7f104edcd350>"
            ]
          },
          "metadata": {
            "tags": []
          },
          "execution_count": 27
        }
      ]
    },
    {
      "cell_type": "code",
      "metadata": {
        "colab": {
          "base_uri": "https://localhost:8080/"
        },
        "id": "WI4pzfb3yqjG",
        "outputId": "8b529c80-0c19-4413-a172-416a21bf5ce9"
      },
      "source": [
        "test_loss, test_acc = model.evaluate(x_test.astype(np.float32), y_test.astype(np.float32), verbose=1) \n",
        "\n",
        "print('Test accuracy:', test_acc)"
      ],
      "execution_count": null,
      "outputs": [
        {
          "output_type": "stream",
          "text": [
            "313/313 [==============================] - 6s 17ms/step - loss: 0.2811 - sparse_categorical_accuracy: 0.9274\n",
            "Test accuracy: 0.9273999929428101\n"
          ],
          "name": "stdout"
        }
      ]
    },
    {
      "cell_type": "code",
      "metadata": {
        "colab": {
          "base_uri": "https://localhost:8080/"
        },
        "id": "19ieUAYyyieh",
        "outputId": "a9e2ccea-7d15-4038-abeb-20afc64bc4a0"
      },
      "source": [
        "model.fit(\n",
        "    x_train.astype(np.float32), y_train.astype(np.float32),\n",
        "    epochs=20,\n",
        "    steps_per_epoch=500,\n",
        "    validation_freq=17\n",
        ")"
      ],
      "execution_count": null,
      "outputs": [
        {
          "output_type": "stream",
          "text": [
            "Epoch 1/20\n",
            "500/500 [==============================] - 10s 20ms/step - loss: 0.1326 - sparse_categorical_accuracy: 0.9515\n",
            "Epoch 2/20\n",
            "500/500 [==============================] - 10s 20ms/step - loss: 0.1327 - sparse_categorical_accuracy: 0.9522\n",
            "Epoch 3/20\n",
            "500/500 [==============================] - 10s 20ms/step - loss: 0.1381 - sparse_categorical_accuracy: 0.9498\n",
            "Epoch 4/20\n",
            "500/500 [==============================] - 10s 20ms/step - loss: 0.1328 - sparse_categorical_accuracy: 0.9519\n",
            "Epoch 5/20\n",
            "500/500 [==============================] - 10s 20ms/step - loss: 0.1353 - sparse_categorical_accuracy: 0.9506\n",
            "Epoch 6/20\n",
            "500/500 [==============================] - 10s 20ms/step - loss: 0.1351 - sparse_categorical_accuracy: 0.9500\n",
            "Epoch 7/20\n",
            "500/500 [==============================] - 10s 20ms/step - loss: 0.1323 - sparse_categorical_accuracy: 0.9525\n",
            "Epoch 8/20\n",
            "500/500 [==============================] - 10s 20ms/step - loss: 0.1303 - sparse_categorical_accuracy: 0.9520\n",
            "Epoch 9/20\n",
            "500/500 [==============================] - 10s 20ms/step - loss: 0.1294 - sparse_categorical_accuracy: 0.9526\n",
            "Epoch 10/20\n",
            "500/500 [==============================] - 10s 20ms/step - loss: 0.1368 - sparse_categorical_accuracy: 0.9511\n",
            "Epoch 11/20\n",
            "500/500 [==============================] - 10s 20ms/step - loss: 0.1387 - sparse_categorical_accuracy: 0.9499\n",
            "Epoch 12/20\n",
            "500/500 [==============================] - 10s 20ms/step - loss: 0.1357 - sparse_categorical_accuracy: 0.9502\n",
            "Epoch 13/20\n",
            "500/500 [==============================] - 10s 19ms/step - loss: 0.1349 - sparse_categorical_accuracy: 0.9498\n",
            "Epoch 14/20\n",
            "500/500 [==============================] - 10s 20ms/step - loss: 0.1347 - sparse_categorical_accuracy: 0.9512\n",
            "Epoch 15/20\n",
            "500/500 [==============================] - 10s 20ms/step - loss: 0.1351 - sparse_categorical_accuracy: 0.9521\n",
            "Epoch 16/20\n",
            "500/500 [==============================] - 10s 20ms/step - loss: 0.1371 - sparse_categorical_accuracy: 0.9495\n",
            "Epoch 17/20\n",
            "500/500 [==============================] - 10s 20ms/step - loss: 0.1387 - sparse_categorical_accuracy: 0.9502\n",
            "Epoch 18/20\n",
            "500/500 [==============================] - 10s 20ms/step - loss: 0.1380 - sparse_categorical_accuracy: 0.9491\n",
            "Epoch 19/20\n",
            "500/500 [==============================] - 10s 20ms/step - loss: 0.1402 - sparse_categorical_accuracy: 0.9497\n",
            "Epoch 20/20\n",
            "500/500 [==============================] - 10s 20ms/step - loss: 0.1385 - sparse_categorical_accuracy: 0.9497\n"
          ],
          "name": "stdout"
        },
        {
          "output_type": "execute_result",
          "data": {
            "text/plain": [
              "<tensorflow.python.keras.callbacks.History at 0x7f104e6b7ad0>"
            ]
          },
          "metadata": {
            "tags": []
          },
          "execution_count": 29
        }
      ]
    },
    {
      "cell_type": "code",
      "metadata": {
        "colab": {
          "base_uri": "https://localhost:8080/"
        },
        "id": "UvCiF2wayqO3",
        "outputId": "627db897-b3c5-472b-cddc-c2de4e6ed712"
      },
      "source": [
        "test_loss, test_acc = model.evaluate(x_test.astype(np.float32), y_test.astype(np.float32), verbose=1) \n",
        "\n",
        "print('Test accuracy:', test_acc)"
      ],
      "execution_count": null,
      "outputs": [
        {
          "output_type": "stream",
          "text": [
            "313/313 [==============================] - 6s 16ms/step - loss: 0.2830 - sparse_categorical_accuracy: 0.9263\n",
            "Test accuracy: 0.9262999892234802\n"
          ],
          "name": "stdout"
        }
      ]
    },
    {
      "cell_type": "code",
      "metadata": {
        "colab": {
          "base_uri": "https://localhost:8080/"
        },
        "id": "7yvRx5kGyiVq",
        "outputId": "0fdc53b7-050a-4975-bf1a-1bbebeca7078"
      },
      "source": [
        "model.fit(\n",
        "    x_train.astype(np.float32), y_train.astype(np.float32),\n",
        "    epochs=40,\n",
        "    steps_per_epoch=500,\n",
        "    validation_freq=17\n",
        ")"
      ],
      "execution_count": null,
      "outputs": [
        {
          "output_type": "stream",
          "text": [
            "Epoch 1/40\n",
            "500/500 [==============================] - 10s 20ms/step - loss: 0.1372 - sparse_categorical_accuracy: 0.9506\n",
            "Epoch 2/40\n",
            "500/500 [==============================] - 10s 20ms/step - loss: 0.1393 - sparse_categorical_accuracy: 0.9500\n",
            "Epoch 3/40\n",
            "500/500 [==============================] - 10s 20ms/step - loss: 0.1376 - sparse_categorical_accuracy: 0.9491\n",
            "Epoch 4/40\n",
            "500/500 [==============================] - 10s 20ms/step - loss: 0.1382 - sparse_categorical_accuracy: 0.9501\n",
            "Epoch 5/40\n",
            "500/500 [==============================] - 10s 20ms/step - loss: 0.1368 - sparse_categorical_accuracy: 0.9501\n",
            "Epoch 6/40\n",
            "500/500 [==============================] - 10s 20ms/step - loss: 0.1414 - sparse_categorical_accuracy: 0.9490\n",
            "Epoch 7/40\n",
            "500/500 [==============================] - 10s 20ms/step - loss: 0.1439 - sparse_categorical_accuracy: 0.9482\n",
            "Epoch 8/40\n",
            "500/500 [==============================] - 10s 20ms/step - loss: 0.1451 - sparse_categorical_accuracy: 0.9459\n",
            "Epoch 9/40\n",
            "500/500 [==============================] - 10s 20ms/step - loss: 0.1409 - sparse_categorical_accuracy: 0.9488\n",
            "Epoch 10/40\n",
            "500/500 [==============================] - 10s 20ms/step - loss: 0.1430 - sparse_categorical_accuracy: 0.9471\n",
            "Epoch 11/40\n",
            "500/500 [==============================] - 10s 20ms/step - loss: 0.1451 - sparse_categorical_accuracy: 0.9474\n",
            "Epoch 12/40\n",
            "500/500 [==============================] - 10s 20ms/step - loss: 0.1410 - sparse_categorical_accuracy: 0.9487\n",
            "Epoch 13/40\n",
            "500/500 [==============================] - 10s 20ms/step - loss: 0.1364 - sparse_categorical_accuracy: 0.9500\n",
            "Epoch 14/40\n",
            "500/500 [==============================] - 10s 20ms/step - loss: 0.1458 - sparse_categorical_accuracy: 0.9478\n",
            "Epoch 15/40\n",
            "500/500 [==============================] - 10s 20ms/step - loss: 0.1408 - sparse_categorical_accuracy: 0.9488\n",
            "Epoch 16/40\n",
            "500/500 [==============================] - 10s 20ms/step - loss: 0.1413 - sparse_categorical_accuracy: 0.9483\n",
            "Epoch 17/40\n",
            "500/500 [==============================] - 10s 20ms/step - loss: 0.1452 - sparse_categorical_accuracy: 0.9483\n",
            "Epoch 18/40\n",
            "500/500 [==============================] - 10s 20ms/step - loss: 0.1463 - sparse_categorical_accuracy: 0.9465\n",
            "Epoch 19/40\n",
            "500/500 [==============================] - 10s 20ms/step - loss: 0.1402 - sparse_categorical_accuracy: 0.9489\n",
            "Epoch 20/40\n",
            "500/500 [==============================] - 10s 20ms/step - loss: 0.1414 - sparse_categorical_accuracy: 0.9480\n",
            "Epoch 21/40\n",
            "500/500 [==============================] - 10s 20ms/step - loss: 0.1401 - sparse_categorical_accuracy: 0.9497\n",
            "Epoch 22/40\n",
            "500/500 [==============================] - 10s 20ms/step - loss: 0.1459 - sparse_categorical_accuracy: 0.9478\n",
            "Epoch 23/40\n",
            "500/500 [==============================] - 10s 20ms/step - loss: 0.1416 - sparse_categorical_accuracy: 0.9479\n",
            "Epoch 24/40\n",
            "500/500 [==============================] - 10s 21ms/step - loss: 0.1419 - sparse_categorical_accuracy: 0.9485\n",
            "Epoch 25/40\n",
            "500/500 [==============================] - 10s 20ms/step - loss: 0.1411 - sparse_categorical_accuracy: 0.9492\n",
            "Epoch 26/40\n",
            "500/500 [==============================] - 10s 20ms/step - loss: 0.1465 - sparse_categorical_accuracy: 0.9470\n",
            "Epoch 27/40\n",
            "500/500 [==============================] - 10s 20ms/step - loss: 0.1463 - sparse_categorical_accuracy: 0.9465\n",
            "Epoch 28/40\n",
            "500/500 [==============================] - 10s 21ms/step - loss: 0.1500 - sparse_categorical_accuracy: 0.9453\n",
            "Epoch 29/40\n",
            "500/500 [==============================] - 11s 21ms/step - loss: 0.1442 - sparse_categorical_accuracy: 0.9469\n",
            "Epoch 30/40\n",
            "500/500 [==============================] - 10s 21ms/step - loss: 0.1462 - sparse_categorical_accuracy: 0.9468\n",
            "Epoch 31/40\n",
            "500/500 [==============================] - 10s 21ms/step - loss: 0.1446 - sparse_categorical_accuracy: 0.9483\n",
            "Epoch 32/40\n",
            "500/500 [==============================] - 10s 21ms/step - loss: 0.1423 - sparse_categorical_accuracy: 0.9479\n",
            "Epoch 33/40\n",
            "500/500 [==============================] - 10s 21ms/step - loss: 0.1436 - sparse_categorical_accuracy: 0.9482\n",
            "Epoch 34/40\n",
            "500/500 [==============================] - 11s 21ms/step - loss: 0.1416 - sparse_categorical_accuracy: 0.9473\n",
            "Epoch 35/40\n",
            "500/500 [==============================] - 10s 21ms/step - loss: 0.1435 - sparse_categorical_accuracy: 0.9477\n",
            "Epoch 36/40\n",
            "500/500 [==============================] - 10s 20ms/step - loss: 0.1455 - sparse_categorical_accuracy: 0.9472\n",
            "Epoch 37/40\n",
            "500/500 [==============================] - 10s 21ms/step - loss: 0.1533 - sparse_categorical_accuracy: 0.9445\n",
            "Epoch 38/40\n",
            "500/500 [==============================] - 10s 21ms/step - loss: 0.1459 - sparse_categorical_accuracy: 0.9474\n",
            "Epoch 39/40\n",
            "500/500 [==============================] - 11s 21ms/step - loss: 0.1398 - sparse_categorical_accuracy: 0.9500\n",
            "Epoch 40/40\n",
            "500/500 [==============================] - 10s 21ms/step - loss: 0.1419 - sparse_categorical_accuracy: 0.9484\n"
          ],
          "name": "stdout"
        },
        {
          "output_type": "execute_result",
          "data": {
            "text/plain": [
              "<tensorflow.python.keras.callbacks.History at 0x7f104ed58c50>"
            ]
          },
          "metadata": {
            "tags": []
          },
          "execution_count": 31
        }
      ]
    },
    {
      "cell_type": "code",
      "metadata": {
        "colab": {
          "base_uri": "https://localhost:8080/"
        },
        "id": "VOMETb2Rypol",
        "outputId": "3f490d2a-e308-4609-e8a2-136bbf58ac22"
      },
      "source": [
        "test_loss, test_acc = model.evaluate(x_test.astype(np.float32), y_test.astype(np.float32), verbose=1) \n",
        "\n",
        "print('Test accuracy:', test_acc)"
      ],
      "execution_count": null,
      "outputs": [
        {
          "output_type": "stream",
          "text": [
            "313/313 [==============================] - 6s 18ms/step - loss: 0.2723 - sparse_categorical_accuracy: 0.9247\n",
            "Test accuracy: 0.9246999621391296\n"
          ],
          "name": "stdout"
        }
      ]
    },
    {
      "cell_type": "code",
      "metadata": {
        "colab": {
          "base_uri": "https://localhost:8080/"
        },
        "id": "Ntdn2zQCyiNa",
        "outputId": "a7a4360e-37af-42a9-ccf6-2607c95c91ab"
      },
      "source": [
        "model.fit(\n",
        "    x_train.astype(np.float32), y_train.astype(np.float32),\n",
        "    epochs=100,\n",
        "    steps_per_epoch=500,\n",
        "    validation_freq=17\n",
        ")"
      ],
      "execution_count": null,
      "outputs": [
        {
          "output_type": "stream",
          "text": [
            "Epoch 1/100\n",
            "500/500 [==============================] - 11s 21ms/step - loss: 0.1427 - sparse_categorical_accuracy: 0.9480\n",
            "Epoch 2/100\n",
            "500/500 [==============================] - 10s 21ms/step - loss: 0.1400 - sparse_categorical_accuracy: 0.9490\n",
            "Epoch 3/100\n",
            "500/500 [==============================] - 10s 20ms/step - loss: 0.1451 - sparse_categorical_accuracy: 0.9463\n",
            "Epoch 4/100\n",
            "500/500 [==============================] - 10s 20ms/step - loss: 0.1472 - sparse_categorical_accuracy: 0.9468\n",
            "Epoch 5/100\n",
            "500/500 [==============================] - 10s 20ms/step - loss: 0.1424 - sparse_categorical_accuracy: 0.9479\n",
            "Epoch 6/100\n",
            "500/500 [==============================] - 10s 20ms/step - loss: 0.1451 - sparse_categorical_accuracy: 0.9475\n",
            "Epoch 7/100\n",
            "500/500 [==============================] - 10s 20ms/step - loss: 0.1411 - sparse_categorical_accuracy: 0.9478\n",
            "Epoch 8/100\n",
            "500/500 [==============================] - 10s 20ms/step - loss: 0.1453 - sparse_categorical_accuracy: 0.9473\n",
            "Epoch 9/100\n",
            "500/500 [==============================] - 10s 21ms/step - loss: 0.1528 - sparse_categorical_accuracy: 0.9444\n",
            "Epoch 10/100\n",
            "500/500 [==============================] - 10s 20ms/step - loss: 0.1496 - sparse_categorical_accuracy: 0.9451\n",
            "Epoch 11/100\n",
            "500/500 [==============================] - 10s 20ms/step - loss: 0.1431 - sparse_categorical_accuracy: 0.9480\n",
            "Epoch 12/100\n",
            "500/500 [==============================] - 10s 20ms/step - loss: 0.1436 - sparse_categorical_accuracy: 0.9481\n",
            "Epoch 13/100\n",
            "500/500 [==============================] - 10s 20ms/step - loss: 0.1426 - sparse_categorical_accuracy: 0.9477\n",
            "Epoch 14/100\n",
            "500/500 [==============================] - 10s 20ms/step - loss: 0.1472 - sparse_categorical_accuracy: 0.9462\n",
            "Epoch 15/100\n",
            "500/500 [==============================] - 10s 20ms/step - loss: 0.1466 - sparse_categorical_accuracy: 0.9460\n",
            "Epoch 16/100\n",
            "500/500 [==============================] - 10s 20ms/step - loss: 0.1475 - sparse_categorical_accuracy: 0.9460\n",
            "Epoch 17/100\n",
            "500/500 [==============================] - 10s 20ms/step - loss: 0.1504 - sparse_categorical_accuracy: 0.9447\n",
            "Epoch 18/100\n",
            "500/500 [==============================] - 10s 20ms/step - loss: 0.1425 - sparse_categorical_accuracy: 0.9495\n",
            "Epoch 19/100\n",
            "500/500 [==============================] - 10s 20ms/step - loss: 0.1478 - sparse_categorical_accuracy: 0.9471\n",
            "Epoch 20/100\n",
            "500/500 [==============================] - 10s 20ms/step - loss: 0.1468 - sparse_categorical_accuracy: 0.9465\n",
            "Epoch 21/100\n",
            "500/500 [==============================] - 10s 20ms/step - loss: 0.1439 - sparse_categorical_accuracy: 0.9485\n",
            "Epoch 22/100\n",
            "500/500 [==============================] - 10s 20ms/step - loss: 0.1438 - sparse_categorical_accuracy: 0.9486\n",
            "Epoch 23/100\n",
            "500/500 [==============================] - 10s 20ms/step - loss: 0.1434 - sparse_categorical_accuracy: 0.9476\n",
            "Epoch 24/100\n",
            "500/500 [==============================] - 10s 20ms/step - loss: 0.1399 - sparse_categorical_accuracy: 0.9492\n",
            "Epoch 25/100\n",
            "500/500 [==============================] - 10s 21ms/step - loss: 0.1392 - sparse_categorical_accuracy: 0.9481\n",
            "Epoch 26/100\n",
            "500/500 [==============================] - 10s 20ms/step - loss: 0.1380 - sparse_categorical_accuracy: 0.9493\n",
            "Epoch 27/100\n",
            "500/500 [==============================] - 10s 20ms/step - loss: 0.1469 - sparse_categorical_accuracy: 0.9471\n",
            "Epoch 28/100\n",
            "500/500 [==============================] - 10s 20ms/step - loss: 0.1448 - sparse_categorical_accuracy: 0.9476\n",
            "Epoch 29/100\n",
            "500/500 [==============================] - 10s 20ms/step - loss: 0.1427 - sparse_categorical_accuracy: 0.9479\n",
            "Epoch 30/100\n",
            "500/500 [==============================] - 10s 20ms/step - loss: 0.1423 - sparse_categorical_accuracy: 0.9479\n",
            "Epoch 31/100\n",
            "500/500 [==============================] - 10s 20ms/step - loss: 0.1395 - sparse_categorical_accuracy: 0.9487\n",
            "Epoch 32/100\n",
            "500/500 [==============================] - 10s 21ms/step - loss: 0.1424 - sparse_categorical_accuracy: 0.9485\n",
            "Epoch 33/100\n",
            "500/500 [==============================] - 10s 20ms/step - loss: 0.1417 - sparse_categorical_accuracy: 0.9476\n",
            "Epoch 34/100\n",
            "500/500 [==============================] - 10s 21ms/step - loss: 0.1421 - sparse_categorical_accuracy: 0.9482\n",
            "Epoch 35/100\n",
            "500/500 [==============================] - 10s 20ms/step - loss: 0.1374 - sparse_categorical_accuracy: 0.9500\n",
            "Epoch 36/100\n",
            "500/500 [==============================] - 10s 20ms/step - loss: 0.1422 - sparse_categorical_accuracy: 0.9485\n",
            "Epoch 37/100\n",
            "500/500 [==============================] - 10s 20ms/step - loss: 0.1428 - sparse_categorical_accuracy: 0.9473\n",
            "Epoch 38/100\n",
            "500/500 [==============================] - 10s 20ms/step - loss: 0.1445 - sparse_categorical_accuracy: 0.9473\n",
            "Epoch 39/100\n",
            "500/500 [==============================] - 10s 20ms/step - loss: 0.1448 - sparse_categorical_accuracy: 0.9473\n",
            "Epoch 40/100\n",
            "500/500 [==============================] - 10s 20ms/step - loss: 0.1415 - sparse_categorical_accuracy: 0.9480\n",
            "Epoch 41/100\n",
            "500/500 [==============================] - 10s 20ms/step - loss: 0.1394 - sparse_categorical_accuracy: 0.9487\n",
            "Epoch 42/100\n",
            "500/500 [==============================] - 10s 20ms/step - loss: 0.1425 - sparse_categorical_accuracy: 0.9485\n",
            "Epoch 43/100\n",
            "500/500 [==============================] - 10s 20ms/step - loss: 0.1391 - sparse_categorical_accuracy: 0.9492\n",
            "Epoch 44/100\n",
            "500/500 [==============================] - 10s 20ms/step - loss: 0.1398 - sparse_categorical_accuracy: 0.9490\n",
            "Epoch 45/100\n",
            "500/500 [==============================] - 10s 20ms/step - loss: 0.1393 - sparse_categorical_accuracy: 0.9489\n",
            "Epoch 46/100\n",
            "500/500 [==============================] - 10s 20ms/step - loss: 0.1432 - sparse_categorical_accuracy: 0.9481\n",
            "Epoch 47/100\n",
            "500/500 [==============================] - 10s 20ms/step - loss: 0.1434 - sparse_categorical_accuracy: 0.9471\n",
            "Epoch 48/100\n",
            "500/500 [==============================] - 10s 20ms/step - loss: 0.1498 - sparse_categorical_accuracy: 0.9463\n",
            "Epoch 49/100\n",
            "500/500 [==============================] - 10s 20ms/step - loss: 0.1481 - sparse_categorical_accuracy: 0.9463\n",
            "Epoch 50/100\n",
            "500/500 [==============================] - 10s 20ms/step - loss: 0.1395 - sparse_categorical_accuracy: 0.9485\n",
            "Epoch 51/100\n",
            "500/500 [==============================] - 10s 20ms/step - loss: 0.1444 - sparse_categorical_accuracy: 0.9478\n",
            "Epoch 52/100\n",
            "500/500 [==============================] - 10s 20ms/step - loss: 0.1474 - sparse_categorical_accuracy: 0.9462\n",
            "Epoch 53/100\n",
            "500/500 [==============================] - 10s 20ms/step - loss: 0.1505 - sparse_categorical_accuracy: 0.9451\n",
            "Epoch 54/100\n",
            "500/500 [==============================] - 10s 20ms/step - loss: 0.1479 - sparse_categorical_accuracy: 0.9455\n",
            "Epoch 55/100\n",
            "500/500 [==============================] - 10s 20ms/step - loss: 0.1508 - sparse_categorical_accuracy: 0.9468\n",
            "Epoch 56/100\n",
            "500/500 [==============================] - 10s 20ms/step - loss: 0.1550 - sparse_categorical_accuracy: 0.9443\n",
            "Epoch 57/100\n",
            "500/500 [==============================] - 10s 20ms/step - loss: 0.1456 - sparse_categorical_accuracy: 0.9466\n",
            "Epoch 58/100\n",
            "500/500 [==============================] - 10s 20ms/step - loss: 0.1443 - sparse_categorical_accuracy: 0.9464\n",
            "Epoch 59/100\n",
            "500/500 [==============================] - 10s 20ms/step - loss: 0.1487 - sparse_categorical_accuracy: 0.9461\n",
            "Epoch 60/100\n",
            "500/500 [==============================] - 10s 20ms/step - loss: 0.1467 - sparse_categorical_accuracy: 0.9457\n",
            "Epoch 61/100\n",
            "500/500 [==============================] - 10s 20ms/step - loss: 0.1481 - sparse_categorical_accuracy: 0.9461\n",
            "Epoch 62/100\n",
            "500/500 [==============================] - 10s 20ms/step - loss: 0.1533 - sparse_categorical_accuracy: 0.9451\n",
            "Epoch 63/100\n",
            "500/500 [==============================] - 10s 20ms/step - loss: 0.1496 - sparse_categorical_accuracy: 0.9453\n",
            "Epoch 64/100\n",
            "500/500 [==============================] - 10s 20ms/step - loss: 0.1550 - sparse_categorical_accuracy: 0.9447\n",
            "Epoch 65/100\n",
            "500/500 [==============================] - 10s 20ms/step - loss: 0.1476 - sparse_categorical_accuracy: 0.9466\n",
            "Epoch 66/100\n",
            "500/500 [==============================] - 10s 20ms/step - loss: 0.1494 - sparse_categorical_accuracy: 0.9453\n",
            "Epoch 67/100\n",
            "500/500 [==============================] - 10s 20ms/step - loss: 0.1512 - sparse_categorical_accuracy: 0.9457\n",
            "Epoch 68/100\n",
            "500/500 [==============================] - 10s 20ms/step - loss: 0.1552 - sparse_categorical_accuracy: 0.9440\n",
            "Epoch 69/100\n",
            "500/500 [==============================] - 10s 20ms/step - loss: 0.1480 - sparse_categorical_accuracy: 0.9459\n",
            "Epoch 70/100\n",
            "500/500 [==============================] - 10s 20ms/step - loss: 0.1438 - sparse_categorical_accuracy: 0.9479\n",
            "Epoch 71/100\n",
            "500/500 [==============================] - 10s 20ms/step - loss: 0.1556 - sparse_categorical_accuracy: 0.9438\n",
            "Epoch 72/100\n",
            "500/500 [==============================] - 10s 20ms/step - loss: 0.1446 - sparse_categorical_accuracy: 0.9468\n",
            "Epoch 73/100\n",
            "500/500 [==============================] - 10s 20ms/step - loss: 0.1476 - sparse_categorical_accuracy: 0.9459\n",
            "Epoch 74/100\n",
            "500/500 [==============================] - 10s 20ms/step - loss: 0.1466 - sparse_categorical_accuracy: 0.9458\n",
            "Epoch 75/100\n",
            "500/500 [==============================] - 10s 20ms/step - loss: 0.1461 - sparse_categorical_accuracy: 0.9452\n",
            "Epoch 76/100\n",
            "500/500 [==============================] - 10s 20ms/step - loss: 0.1444 - sparse_categorical_accuracy: 0.9478\n",
            "Epoch 77/100\n",
            "500/500 [==============================] - 10s 20ms/step - loss: 0.1492 - sparse_categorical_accuracy: 0.9459\n",
            "Epoch 78/100\n",
            "500/500 [==============================] - 10s 20ms/step - loss: 0.1511 - sparse_categorical_accuracy: 0.9444\n",
            "Epoch 79/100\n",
            "500/500 [==============================] - 10s 20ms/step - loss: 0.1511 - sparse_categorical_accuracy: 0.9459\n",
            "Epoch 80/100\n",
            "500/500 [==============================] - 10s 20ms/step - loss: 0.1536 - sparse_categorical_accuracy: 0.9441\n",
            "Epoch 81/100\n",
            "500/500 [==============================] - 10s 20ms/step - loss: 0.1483 - sparse_categorical_accuracy: 0.9463\n",
            "Epoch 82/100\n",
            "500/500 [==============================] - 10s 20ms/step - loss: 0.1529 - sparse_categorical_accuracy: 0.9444\n",
            "Epoch 83/100\n",
            "500/500 [==============================] - 10s 20ms/step - loss: 0.1494 - sparse_categorical_accuracy: 0.9447\n",
            "Epoch 84/100\n",
            "500/500 [==============================] - 10s 20ms/step - loss: 0.1492 - sparse_categorical_accuracy: 0.9447\n",
            "Epoch 85/100\n",
            "500/500 [==============================] - 10s 20ms/step - loss: 0.1464 - sparse_categorical_accuracy: 0.9472\n",
            "Epoch 86/100\n",
            "500/500 [==============================] - 10s 20ms/step - loss: 0.1444 - sparse_categorical_accuracy: 0.9468\n",
            "Epoch 87/100\n",
            "500/500 [==============================] - 10s 21ms/step - loss: 0.1497 - sparse_categorical_accuracy: 0.9459\n",
            "Epoch 88/100\n",
            "500/500 [==============================] - 10s 20ms/step - loss: 0.1474 - sparse_categorical_accuracy: 0.9459\n",
            "Epoch 89/100\n",
            "500/500 [==============================] - 10s 20ms/step - loss: 0.1440 - sparse_categorical_accuracy: 0.9464\n",
            "Epoch 90/100\n",
            "500/500 [==============================] - 10s 20ms/step - loss: 0.1523 - sparse_categorical_accuracy: 0.9448\n",
            "Epoch 91/100\n",
            "500/500 [==============================] - 10s 20ms/step - loss: 0.1426 - sparse_categorical_accuracy: 0.9478\n",
            "Epoch 92/100\n",
            "500/500 [==============================] - 10s 20ms/step - loss: 0.1407 - sparse_categorical_accuracy: 0.9486\n",
            "Epoch 93/100\n",
            "500/500 [==============================] - 10s 20ms/step - loss: 0.1425 - sparse_categorical_accuracy: 0.9471\n",
            "Epoch 94/100\n",
            "500/500 [==============================] - 10s 21ms/step - loss: 0.1382 - sparse_categorical_accuracy: 0.9487\n",
            "Epoch 95/100\n",
            "500/500 [==============================] - 10s 21ms/step - loss: 0.1402 - sparse_categorical_accuracy: 0.9473\n",
            "Epoch 96/100\n",
            "500/500 [==============================] - 10s 20ms/step - loss: 0.1450 - sparse_categorical_accuracy: 0.9475\n",
            "Epoch 97/100\n",
            "500/500 [==============================] - 10s 20ms/step - loss: 0.1467 - sparse_categorical_accuracy: 0.9461\n",
            "Epoch 98/100\n",
            "500/500 [==============================] - 10s 20ms/step - loss: 0.1407 - sparse_categorical_accuracy: 0.9479\n",
            "Epoch 99/100\n",
            "500/500 [==============================] - 10s 20ms/step - loss: 0.1437 - sparse_categorical_accuracy: 0.9485\n",
            "Epoch 100/100\n",
            "500/500 [==============================] - 10s 20ms/step - loss: 0.1498 - sparse_categorical_accuracy: 0.9452\n"
          ],
          "name": "stdout"
        },
        {
          "output_type": "execute_result",
          "data": {
            "text/plain": [
              "<tensorflow.python.keras.callbacks.History at 0x7f104ed6b5d0>"
            ]
          },
          "metadata": {
            "tags": []
          },
          "execution_count": 33
        }
      ]
    },
    {
      "cell_type": "code",
      "metadata": {
        "colab": {
          "base_uri": "https://localhost:8080/"
        },
        "id": "JR6ONIM6y23-",
        "outputId": "40a9ed67-dab3-4404-b8d5-66b46714d65f"
      },
      "source": [
        "test_loss, test_acc = model.evaluate(x_test.astype(np.float32), y_test.astype(np.float32), verbose=1) \n",
        "\n",
        "print('Test accuracy:', test_acc)"
      ],
      "execution_count": null,
      "outputs": [
        {
          "output_type": "stream",
          "text": [
            "313/313 [==============================] - 6s 17ms/step - loss: 0.2940 - sparse_categorical_accuracy: 0.9244\n",
            "Test accuracy: 0.9243999719619751\n"
          ],
          "name": "stdout"
        }
      ]
    }
  ]
}